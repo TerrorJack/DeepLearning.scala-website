{
 "cells": [
  {
   "cell_type": "markdown",
   "metadata": {},
   "source": [
    "In this GettingStarted article, we will build a robot for answering questions in IQ test with the help of [DeepLearning.scala](http://deeplearning.thoughtworks.school/)."
   ]
  },
  {
   "cell_type": "markdown",
   "metadata": {},
   "source": [
    "## Background"
   ]
  },
  {
   "cell_type": "markdown",
   "metadata": {},
   "source": [
    "Suppose we are building a robot for answering questions in IQ test like this:\n",
    "\n",
    "> What is the next number in sequence:\n",
    ">> 3, 6, 9, ?\n",
    ">\n",
    "> The answer is 12."
   ]
  },
  {
   "cell_type": "markdown",
   "metadata": {},
   "source": [
    "We prepared some questions and corresponding answers as [INDArray](https://oss.sonatype.org/service/local/repositories/public/archive/org/nd4j/nd4j-api/0.8.0/nd4j-api-0.8.0-javadoc.jar/!/org/nd4j/linalg/api/ndarray/INDArray.html)s:"
   ]
  },
  {
   "cell_type": "code",
   "execution_count": 1,
   "metadata": {
    "scrolled": true
   },
   "outputs": [
    {
     "name": "stderr",
     "output_type": "stream",
     "text": [
      "SLF4J: Failed to load class \"org.slf4j.impl.StaticLoggerBinder\".\n",
      "SLF4J: Defaulting to no-operation (NOP) logger implementation\n",
      "SLF4J: See http://www.slf4j.org/codes.html#StaticLoggerBinder for further details.\n"
     ]
    },
    {
     "data": {
      "text/plain": [
       "\u001b[32mimport \u001b[39m\u001b[36m$ivy.$                     \n",
       "\u001b[39m\n",
       "\u001b[32mimport \u001b[39m\u001b[36m$ivy.$                                    \n",
       "\u001b[39m\n",
       "\u001b[32mimport \u001b[39m\u001b[36morg.nd4j.linalg.api.ndarray.INDArray\n",
       "\n",
       "\u001b[39m\n",
       "\u001b[36mTrainingQuestions\u001b[39m: \u001b[32morg\u001b[39m.\u001b[32mnd4j\u001b[39m.\u001b[32mlinalg\u001b[39m.\u001b[32mapi\u001b[39m.\u001b[32mndarray\u001b[39m.\u001b[32mINDArray\u001b[39m = [[0.00, 1.00, 2.00],\n",
       " [4.00, 7.00, 10.00],\n",
       " [13.00, 15.00, 17.00]]\n",
       "\u001b[36mExpectedAnswers\u001b[39m: \u001b[32morg\u001b[39m.\u001b[32mnd4j\u001b[39m.\u001b[32mlinalg\u001b[39m.\u001b[32mapi\u001b[39m.\u001b[32mndarray\u001b[39m.\u001b[32mINDArray\u001b[39m = [3.00, 13.00, 19.00]"
      ]
     },
     "execution_count": 1,
     "metadata": {},
     "output_type": "execute_result"
    }
   ],
   "source": [
    "import $ivy.`org.nd4j::nd4s:0.8.0`\n",
    "import $ivy.`org.nd4j:nd4j-native-platform:0.8.0`\n",
    "import org.nd4j.linalg.api.ndarray.INDArray\n",
    "\n",
    "val TrainingQuestions: INDArray = {\n",
    "  import org.nd4s.Implicits._\n",
    "  Array(\n",
    "    Array(0, 1, 2),\n",
    "    Array(4, 7, 10),\n",
    "    Array(13, 15, 17)\n",
    "  ).toNDArray\n",
    "}\n",
    "\n",
    "val ExpectedAnswers: INDArray = {\n",
    "  import org.nd4s.Implicits._\n",
    "  Array(\n",
    "    Array(3),\n",
    "    Array(13),\n",
    "    Array(19)\n",
    "  ).toNDArray\n",
    "}\n"
   ]
  },
  {
   "cell_type": "markdown",
   "metadata": {},
   "source": [
    "These samples will be used to train the robot."
   ]
  },
  {
   "cell_type": "markdown",
   "metadata": {},
   "source": [
    "In the rest of this article, we will build the robot in the following steps:\n",
    "\n",
    "1. Install DeepLearning.scala, which is the framework that helps us build the robot.\n",
    "1. Setup configuration (also known as hyperparameters) of the robot.\n",
    "1. Build an untrained neural network of the robot.\n",
    "1. Train the neural network using the above samples.\n",
    "1. Test the robot seeing if the robot have been learnt how to answer these kind of questions."
   ]
  },
  {
   "cell_type": "markdown",
   "metadata": {},
   "source": [
    "## Install DeepLearning.scala"
   ]
  },
  {
   "cell_type": "markdown",
   "metadata": {},
   "source": [
    "DeepLearning.scala is hosted on Maven Central repository.\n",
    "\n",
    "You can use magic imports in [jupyter-scala](https://github.com/alexarchambault/jupyter-scala) or [Ammonite-REPL](http://www.lihaoyi.com/Ammonite/#Ammonite-REPL) to download DeepLearning.scala and its dependencies."
   ]
  },
  {
   "cell_type": "code",
   "execution_count": 2,
   "metadata": {},
   "outputs": [
    {
     "data": {
      "text/plain": [
       "\u001b[32mimport \u001b[39m\u001b[36m$ivy.$                                                          \u001b[39m"
      ]
     },
     "execution_count": 2,
     "metadata": {},
     "output_type": "execute_result"
    }
   ],
   "source": [
    "import $ivy.`com.thoughtworks.deeplearning::plugins-builtins:2.0.0-RC6`"
   ]
  },
  {
   "cell_type": "markdown",
   "metadata": {},
   "source": [
    "If you use [sbt](http://www.scala-sbt.org), please add the following settings into your `build.sbt`:\n",
    "\n",
    "``` scala\n",
    "libraryDependencies += \"com.thoughtworks.deeplearning\" %% \"plugins-builtins\" % \"latest.release\"\n",
    "\n",
    "libraryDependencies += \"org.nd4j\" %% \"nd4j-native-platform\" % \"0.8.0\"\n",
    "\n",
    "fork := true\n",
    "\n",
    "scalaVersion := \"2.11.11\"\n",
    "```\n",
    "\n",
    "Note that this example must run on Scala 2.11.11 because [nd4s](http://nd4j.org/scala) does not support Scala 2.12. Make sure there is not a setting like `scalaVersion := \"2.12.x\"` in your `build.sbt`.\n",
    "\n",
    "See [Scaladex](https://index.scala-lang.org/thoughtworksinc/deeplearning.scala) to install DeepLearning.scala in other build tools!"
   ]
  },
  {
   "cell_type": "markdown",
   "metadata": {},
   "source": [
    "## Setup hyperparameters"
   ]
  },
  {
   "cell_type": "markdown",
   "metadata": {},
   "source": [
    "Hyperparameters are global configurations for a neural network.\n",
    "\n",
    "For this robot, we want to set its learning rate, which determines how fast the robot change its inner weights.\n",
    "\n",
    "In DeepLearning.scala, hyperparameters can be introduced by plugins, which is a small piece of code loaded from a URL."
   ]
  },
  {
   "cell_type": "code",
   "execution_count": 4,
   "metadata": {},
   "outputs": [
    {
     "data": {
      "text/plain": [
       "\u001b[36mINDArrayLearningRatePluginUrl\u001b[39m: \u001b[32mString\u001b[39m = \u001b[32m\"https://gist.githubusercontent.com/Atry/1fb0608c655e3233e68b27ba99515f16/raw/27c7d00dd37785335b6acfe1f1c5614843bc6d9f/INDArrayLearningRate.sc\"\u001b[39m"
      ]
     },
     "execution_count": 4,
     "metadata": {},
     "output_type": "execute_result"
    }
   ],
   "source": [
    "val INDArrayLearningRatePluginUrl = \"https://gist.githubusercontent.com/Atry/1fb0608c655e3233e68b27ba99515f16/raw/27c7d00dd37785335b6acfe1f1c5614843bc6d9f/INDArrayLearningRate.sc\"\n",
    "interp.load(scala.io.Source.fromURL(new java.net.URL(INDArrayLearningRatePluginUrl)).mkString)"
   ]
  },
  {
   "cell_type": "markdown",
   "metadata": {},
   "source": [
    "By loading the hyperparameter plugin `INDArrayLearningRate`, we are able to create the context of neural network with `learningRate` parameter."
   ]
  },
  {
   "cell_type": "code",
   "execution_count": 5,
   "metadata": {},
   "outputs": [
    {
     "data": {
      "text/plain": [
       "\u001b[32mimport \u001b[39m\u001b[36mcom.thoughtworks.deeplearning.plugins.Builtins\u001b[39m"
      ]
     },
     "execution_count": 5,
     "metadata": {},
     "output_type": "execute_result"
    }
   ],
   "source": [
    "import com.thoughtworks.deeplearning.plugins.Builtins"
   ]
  },
  {
   "cell_type": "markdown",
   "metadata": {},
   "source": [
    "All DeepLearning.scala built-in features are also provided by plugins. [Builtins](https://javadoc.io/page/com.thoughtworks.deeplearning/plugins-builtins_2.11/latest/com/thoughtworks/deeplearning/plugins/Builtins.html) is the plugin that contains all other DeepLearning.scala built-in plugins."
   ]
  },
  {
   "cell_type": "markdown",
   "metadata": {},
   "source": [
    "Now we create the context and setup learning rate to `0.003`."
   ]
  },
  {
   "cell_type": "code",
   "execution_count": 7,
   "metadata": {
    "collapsed": true,
    "scrolled": true
   },
   "outputs": [],
   "source": [
    "// `interp.load` is a workaround for https://github.com/lihaoyi/Ammonite/issues/649 and https://github.com/scala/bug/issues/10390\n",
    "interp.load(\"\"\"\n",
    "  import scala.concurrent.ExecutionContext.Implicits.global\n",
    "  import com.thoughtworks.feature.Factory\n",
    "  val hyperparameters = Factory[Builtins with INDArrayLearningRate].newInstance(learningRate = 0.003)\n",
    "\"\"\")"
   ]
  },
  {
   "cell_type": "markdown",
   "metadata": {},
   "source": [
    "See [Factory](https://javadoc.io/page/com.thoughtworks.feature/factory_2.11/latest/com/thoughtworks/feature/Factory.html) if you are wondering how those plugins are composed together."
   ]
  },
  {
   "cell_type": "markdown",
   "metadata": {},
   "source": [
    "The `Builtins` plugin contains some implicit values and views, which should be imported as following:"
   ]
  },
  {
   "cell_type": "code",
   "execution_count": 8,
   "metadata": {},
   "outputs": [
    {
     "data": {
      "text/plain": [
       "\u001b[32mimport \u001b[39m\u001b[36mhyperparameters.implicits._\u001b[39m"
      ]
     },
     "execution_count": 8,
     "metadata": {},
     "output_type": "execute_result"
    }
   ],
   "source": [
    "import hyperparameters.implicits._"
   ]
  },
  {
   "cell_type": "markdown",
   "metadata": {},
   "source": [
    "## Build an untrained neural network of the robot"
   ]
  },
  {
   "cell_type": "markdown",
   "metadata": {},
   "source": [
    "In DeepLearning.scala, a neural network is simply a function that references some **weights**, which are mutable variables being changed automatically according to some goals during training.\n",
    "\n",
    "For example, given `x0`, `x1` and `x2` are the input sequence passed to the robot, we can build a function that returns the answer as `robotWeight0 * x0 + robotWeight1 * x1 + robotWeight2 * x2`, by adjusting those weights during training, the result should become close to the expected answer."
   ]
  },
  {
   "cell_type": "markdown",
   "metadata": {},
   "source": [
    "In DeepLearning.scala, weights can be created as following:"
   ]
  },
  {
   "cell_type": "code",
   "execution_count": 9,
   "metadata": {
    "scrolled": true
   },
   "outputs": [
    {
     "data": {
      "text/plain": [
       "defined \u001b[32mfunction\u001b[39m \u001b[36minitialValueOfRobotWeight\u001b[39m\n",
       "\u001b[32mimport \u001b[39m\u001b[36mhyperparameters.INDArrayWeight\n",
       "\u001b[39m\n",
       "\u001b[36mrobotWeight\u001b[39m: \u001b[32mObject\u001b[39m with \u001b[32mhyperparameters\u001b[39m.\u001b[32mINDArrayWeightApi\u001b[39m with \u001b[32mhyperparameters\u001b[39m.\u001b[32mWeightApi\u001b[39m with \u001b[32mhyperparameters\u001b[39m.\u001b[32mWeightApi\u001b[39m = Weight[fullName=$sess.cmd8Wrapper.Helper.robotWeight]"
      ]
     },
     "execution_count": 9,
     "metadata": {},
     "output_type": "execute_result"
    }
   ],
   "source": [
    "def initialValueOfRobotWeight: INDArray = {\n",
    "  import org.nd4j.linalg.factory.Nd4j\n",
    "  import org.nd4s.Implicits._\n",
    "  Nd4j.randn(3, 1)\n",
    "}\n",
    "\n",
    "import hyperparameters.INDArrayWeight\n",
    "val robotWeight = INDArrayWeight(initialValueOfRobotWeight)"
   ]
  },
  {
   "cell_type": "markdown",
   "metadata": {},
   "source": [
    "In the above code, `robotWeight` is a weight of n-dimensional array, say, [INDArrayWeight], initialized from random values. Therefore, the formula `robotWeight0 * x0 + robotWeight1 * x1 + robotWeight2 * x2` can be equivalent to a matrix multipication, written as a `dot` method call:\n",
    "\n",
    "[INDArrayWeight]: https://javadoc.io/page/com.thoughtworks.deeplearning/plugins-builtins_2.11/latest/com/thoughtworks/deeplearning/plugins/INDArrayWeights$INDArrayWeight.html"
   ]
  },
  {
   "cell_type": "code",
   "execution_count": 10,
   "metadata": {},
   "outputs": [
    {
     "data": {
      "text/plain": [
       "\u001b[32mimport \u001b[39m\u001b[36mhyperparameters.INDArrayLayer\n",
       "\u001b[39m\n",
       "defined \u001b[32mfunction\u001b[39m \u001b[36miqTestRobot\u001b[39m"
      ]
     },
     "execution_count": 10,
     "metadata": {},
     "output_type": "execute_result"
    }
   ],
   "source": [
    "import hyperparameters.INDArrayLayer\n",
    "def iqTestRobot(questions: INDArray): INDArrayLayer = {\n",
    "  questions dot robotWeight\n",
    "}"
   ]
  },
  {
   "cell_type": "markdown",
   "metadata": {},
   "source": [
    "Note that the `dot` method is a differentiable function provided by DeepLearning.scala.\n",
    "You can find other [n-dimensional array differentiable methods in Scaladoc](https://javadoc.io/page/com.thoughtworks.deeplearning/plugins-builtins_2.11/latest/com/thoughtworks/deeplearning/plugins/RawINDArrayLayers$ImplicitsApi$INDArrayLayerOps.html)\n",
    "\n",
    "Unlike the functions in nd4s, all those differentiable functions accepts either an `INDArray`, `INDArrayWeight` \n",
    "or [INDArrayLayer], and returns one [Layer] of neural network, which can be composed into another differentiable function call.\n",
    "\n",
    "[INDArrayLayer]: https://javadoc.io/page/com.thoughtworks.deeplearning/plugins-builtins_2.11/latest/com/thoughtworks/deeplearning/plugins/RawINDArrayLayers$INDArrayLayer.html\n",
    "\n",
    "[Layer]: https://javadoc.io/page/com.thoughtworks.deeplearning/plugins-builtins_2.11/latest/com/thoughtworks/deeplearning/plugins/Layers$Layer.html"
   ]
  },
  {
   "cell_type": "markdown",
   "metadata": {},
   "source": [
    "## Training the network"
   ]
  },
  {
   "cell_type": "markdown",
   "metadata": {},
   "source": [
    "### Loss function"
   ]
  },
  {
   "cell_type": "markdown",
   "metadata": {},
   "source": [
    "In DeepLearning.scala, when we train a neural network, our goal should always be minimizing the return value.\n",
    "\n",
    "For example, if `iqTestRobot(TrainingQuestions).train` get called repeatedly,\n",
    "the neural network would try to minimize `input dot robotWeight`.\n",
    "`robotWeight` would become smaller and smaller in order to make `input dot robotWeight` smaller,\n",
    "and `iqTestRobot(TrainingQuestions).predict` would return an `INDArray` of small numbers.\n",
    "\n",
    "What if you expect `iqTestRobot(TrainingQuestions).predict` to return `ExpectedAnswers`?\n",
    "\n",
    "You can create another neural network that evaluates how far between the result of `myNeuralNetwork` and your expectation. The new neural network is usually called **loss function**.\n",
    "\n",
    "In this article we will use square loss as the loss function:"
   ]
  },
  {
   "cell_type": "code",
   "execution_count": 11,
   "metadata": {
    "scrolled": true
   },
   "outputs": [
    {
     "data": {
      "text/plain": [
       "\u001b[32mimport \u001b[39m\u001b[36mhyperparameters.DoubleLayer\n",
       "\u001b[39m\n",
       "defined \u001b[32mfunction\u001b[39m \u001b[36msquareLoss\u001b[39m"
      ]
     },
     "execution_count": 11,
     "metadata": {},
     "output_type": "execute_result"
    }
   ],
   "source": [
    "import hyperparameters.DoubleLayer\n",
    "def squareLoss(questions: INDArray, expectAnswer: INDArray): DoubleLayer = {\n",
    "  val difference = iqTestRobot(questions) - expectAnswer\n",
    "  (difference * difference).mean\n",
    "}"
   ]
  },
  {
   "cell_type": "markdown",
   "metadata": {},
   "source": [
    "When the `lossFunction` get trained continuously, its return value will be close to zero, and the result of  `myNeuralNetwork` must be close to the expected result at the same time.\n",
    "\n",
    "Note the `lossFunction` accepts a `questions` and `expectAnswer` as its parameter.\n",
    "The first parameter is the input data used to train the neural network, and the second array is the expected output.\n",
    "\n",
    "The `squareLoss` function itself is a neural network, internally using the layer returned by `iqTestRobot` method."
   ]
  },
  {
   "cell_type": "markdown",
   "metadata": {},
   "source": [
    "### Run the training task"
   ]
  },
  {
   "cell_type": "markdown",
   "metadata": {},
   "source": [
    "As I mentioned before, there is a [train] method for `DoubleLayer`. It is a [Task] that performs one iteration of training.\n",
    "\n",
    "Since we want to repeatedly train the neural network of the robot, we need to create another `Task` that performs many iterations of training.\n",
    "\n",
    "In this article, we use [ThoughtWorks Each] to build such a `Task`:\n",
    "\n",
    "[train]: https://javadoc.io/page/com.thoughtworks.deeplearning/plugins-builtins_2.11/latest/com/thoughtworks/deeplearning/DeepLearning$$Ops.html#train(implicitmonoid:spire.algebra.MultiplicativeMonoid[Ops.this.typeClassInstance.Delta]):scalaz.concurrent.Task[Ops.this.typeClassInstance.Data]\n",
    "\n",
    "[Task]: https://javadoc.io/page/org.scalaz/scalaz-concurrent_2.11/latest/scalaz/concurrent/Task.html\n",
    "\n",
    "[ThoughtWorks Each]: https://github.com/ThoughtWorksInc/each"
   ]
  },
  {
   "cell_type": "code",
   "execution_count": 12,
   "metadata": {},
   "outputs": [
    {
     "data": {
      "text/plain": [
       "\u001b[32mimport \u001b[39m\u001b[36m$ivy.$                                  \n",
       "\u001b[39m\n",
       "\u001b[32mimport \u001b[39m\u001b[36m$plugin.$                                            \n",
       "\n",
       "\u001b[39m\n",
       "\u001b[32mimport \u001b[39m\u001b[36mcom.thoughtworks.each.Monadic._\n",
       "\u001b[39m\n",
       "\u001b[32mimport \u001b[39m\u001b[36mcom.thoughtworks.future._\n",
       "\u001b[39m\n",
       "\u001b[32mimport \u001b[39m\u001b[36mscala.concurrent.Await\n",
       "\u001b[39m\n",
       "\u001b[32mimport \u001b[39m\u001b[36mscala.concurrent.duration.Duration\n",
       "\u001b[39m\n",
       "\u001b[32mimport \u001b[39m\u001b[36mscalaz.std.stream._\u001b[39m"
      ]
     },
     "execution_count": 12,
     "metadata": {},
     "output_type": "execute_result"
    }
   ],
   "source": [
    "import $ivy.`com.thoughtworks.each::each:3.3.1`\n",
    "import $plugin.$ivy.`org.scalamacros:paradise_2.11.11:2.1.0`\n",
    "\n",
    "import com.thoughtworks.each.Monadic._\n",
    "import com.thoughtworks.future._\n",
    "import scala.concurrent.Await\n",
    "import scala.concurrent.duration.Duration\n",
    "import scalaz.std.stream._"
   ]
  },
  {
   "cell_type": "code",
   "execution_count": 13,
   "metadata": {
    "scrolled": true
   },
   "outputs": [
    {
     "data": {
      "text/plain": [
       "\u001b[36mTotalIterations\u001b[39m: \u001b[32mInt\u001b[39m = \u001b[32m500\u001b[39m\n",
       "defined \u001b[32mfunction\u001b[39m \u001b[36mtrain\u001b[39m"
      ]
     },
     "execution_count": 13,
     "metadata": {},
     "output_type": "execute_result"
    }
   ],
   "source": [
    "val TotalIterations = 500\n",
    "\n",
    "@monadic[Future]\n",
    "def train: Future[Stream[Double]] = {\n",
    "  for (iteration <- (0 until TotalIterations).toStream) yield {\n",
    "    squareLoss(TrainingQuestions, ExpectedAnswers).train.each\n",
    "  }\n",
    "}"
   ]
  },
  {
   "cell_type": "markdown",
   "metadata": {},
   "source": [
    "Then we can run the task to train the robot."
   ]
  },
  {
   "cell_type": "code",
   "execution_count": 14,
   "metadata": {},
   "outputs": [
    {
     "data": {
      "text/plain": [
       "\u001b[36mlossByTime\u001b[39m: \u001b[32mStream\u001b[39m[\u001b[32mDouble\u001b[39m] = \u001b[33mStream\u001b[39m(\n",
       "  \u001b[32m141.21651204427084\u001b[39m,\n",
       "  \u001b[32m69.20932515462239\u001b[39m,\n",
       "  \u001b[32m34.88868713378906\u001b[39m,\n",
       "  \u001b[32m18.498316446940105\u001b[39m,\n",
       "  \u001b[32m10.639735539754232\u001b[39m,\n",
       "  \u001b[32m6.841868718465169\u001b[39m,\n",
       "  \u001b[32m4.977667172749837\u001b[39m,\n",
       "  \u001b[32m4.03520139058431\u001b[39m,\n",
       "  \u001b[32m3.5330177942911782\u001b[39m,\n",
       "  \u001b[32m3.2420247395833335\u001b[39m,\n",
       "  \u001b[32m3.053180694580078\u001b[39m,\n",
       "\u001b[33m...\u001b[39m"
      ]
     },
     "execution_count": 14,
     "metadata": {},
     "output_type": "execute_result"
    }
   ],
   "source": [
    "val lossByTime: Stream[Double] = Await.result(train.asScala, Duration.Inf)"
   ]
  },
  {
   "cell_type": "markdown",
   "metadata": {},
   "source": [
    "Then we create a plot to show how the loss changed during iterations."
   ]
  },
  {
   "cell_type": "code",
   "execution_count": 15,
   "metadata": {},
   "outputs": [
    {
     "data": {
      "text/html": [
       "\n",
       "      <script type=\"text/javascript\">\n",
       "        require.config({\n",
       "  paths: {\n",
       "    d3: 'https://cdnjs.cloudflare.com/ajax/libs/d3/3.5.17/d3.min',\n",
       "    plotly: 'https://cdn.plot.ly/plotly-1.12.0.min'\n",
       "  },\n",
       "\n",
       "  shim: {\n",
       "    plotly: {\n",
       "      deps: ['d3', 'jquery'],\n",
       "      exports: 'plotly'\n",
       "    }\n",
       "  }\n",
       "});\n",
       "        \n",
       "\n",
       "        require(['plotly'], function(Plotly) {\n",
       "          window.Plotly = Plotly;\n",
       "        });\n",
       "      </script>\n",
       "    "
      ]
     },
     "metadata": {},
     "output_type": "display_data"
    },
    {
     "data": {
      "text/plain": [
       "\u001b[32mimport \u001b[39m\u001b[36m$ivy.$                                             \n",
       "\n",
       "\u001b[39m\n",
       "\u001b[32mimport \u001b[39m\u001b[36mplotly._\n",
       "\u001b[39m\n",
       "\u001b[32mimport \u001b[39m\u001b[36mplotly.element._\n",
       "\u001b[39m\n",
       "\u001b[32mimport \u001b[39m\u001b[36mplotly.layout._\n",
       "\u001b[39m\n",
       "\u001b[32mimport \u001b[39m\u001b[36mplotly.JupyterScala._\n",
       "\n",
       "\u001b[39m"
      ]
     },
     "execution_count": 15,
     "metadata": {},
     "output_type": "execute_result"
    }
   ],
   "source": [
    "import $ivy.`org.plotly-scala::plotly-jupyter-scala:0.3.2`\n",
    "\n",
    "import plotly._\n",
    "import plotly.element._\n",
    "import plotly.layout._\n",
    "import plotly.JupyterScala._\n",
    "\n",
    "plotly.JupyterScala.init()"
   ]
  },
  {
   "cell_type": "code",
   "execution_count": 16,
   "metadata": {
    "scrolled": false
   },
   "outputs": [
    {
     "data": {
      "text/html": [
       "<div class=\"chart\" id=\"plot-1794239020\"></div>"
      ]
     },
     "metadata": {},
     "output_type": "display_data"
    },
    {
     "data": {
      "application/javascript": [
       "requirejs([\"plotly\"], function(Plotly) {\n",
       "  (function () {\n",
       "  var data0 = {\"type\":\"scatter\",\"x\":[0.0,1.0,2.0,3.0,4.0,5.0,6.0,7.0,8.0,9.0,10.0,11.0,12.0,13.0,14.0,15.0,16.0,17.0,18.0,19.0,20.0,21.0,22.0,23.0,24.0,25.0,26.0,27.0,28.0,29.0,30.0,31.0,32.0,33.0,34.0,35.0,36.0,37.0,38.0,39.0,40.0,41.0,42.0,43.0,44.0,45.0,46.0,47.0,48.0,49.0,50.0,51.0,52.0,53.0,54.0,55.0,56.0,57.0,58.0,59.0,60.0,61.0,62.0,63.0,64.0,65.0,66.0,67.0,68.0,69.0,70.0,71.0,72.0,73.0,74.0,75.0,76.0,77.0,78.0,79.0,80.0,81.0,82.0,83.0,84.0,85.0,86.0,87.0,88.0,89.0,90.0,91.0,92.0,93.0,94.0,95.0,96.0,97.0,98.0,99.0,100.0,101.0,102.0,103.0,104.0,105.0,106.0,107.0,108.0,109.0,110.0,111.0,112.0,113.0,114.0,115.0,116.0,117.0,118.0,119.0,120.0,121.0,122.0,123.0,124.0,125.0,126.0,127.0,128.0,129.0,130.0,131.0,132.0,133.0,134.0,135.0,136.0,137.0,138.0,139.0,140.0,141.0,142.0,143.0,144.0,145.0,146.0,147.0,148.0,149.0,150.0,151.0,152.0,153.0,154.0,155.0,156.0,157.0,158.0,159.0,160.0,161.0,162.0,163.0,164.0,165.0,166.0,167.0,168.0,169.0,170.0,171.0,172.0,173.0,174.0,175.0,176.0,177.0,178.0,179.0,180.0,181.0,182.0,183.0,184.0,185.0,186.0,187.0,188.0,189.0,190.0,191.0,192.0,193.0,194.0,195.0,196.0,197.0,198.0,199.0,200.0,201.0,202.0,203.0,204.0,205.0,206.0,207.0,208.0,209.0,210.0,211.0,212.0,213.0,214.0,215.0,216.0,217.0,218.0,219.0,220.0,221.0,222.0,223.0,224.0,225.0,226.0,227.0,228.0,229.0,230.0,231.0,232.0,233.0,234.0,235.0,236.0,237.0,238.0,239.0,240.0,241.0,242.0,243.0,244.0,245.0,246.0,247.0,248.0,249.0,250.0,251.0,252.0,253.0,254.0,255.0,256.0,257.0,258.0,259.0,260.0,261.0,262.0,263.0,264.0,265.0,266.0,267.0,268.0,269.0,270.0,271.0,272.0,273.0,274.0,275.0,276.0,277.0,278.0,279.0,280.0,281.0,282.0,283.0,284.0,285.0,286.0,287.0,288.0,289.0,290.0,291.0,292.0,293.0,294.0,295.0,296.0,297.0,298.0,299.0,300.0,301.0,302.0,303.0,304.0,305.0,306.0,307.0,308.0,309.0,310.0,311.0,312.0,313.0,314.0,315.0,316.0,317.0,318.0,319.0,320.0,321.0,322.0,323.0,324.0,325.0,326.0,327.0,328.0,329.0,330.0,331.0,332.0,333.0,334.0,335.0,336.0,337.0,338.0,339.0,340.0,341.0,342.0,343.0,344.0,345.0,346.0,347.0,348.0,349.0,350.0,351.0,352.0,353.0,354.0,355.0,356.0,357.0,358.0,359.0,360.0,361.0,362.0,363.0,364.0,365.0,366.0,367.0,368.0,369.0,370.0,371.0,372.0,373.0,374.0,375.0,376.0,377.0,378.0,379.0,380.0,381.0,382.0,383.0,384.0,385.0,386.0,387.0,388.0,389.0,390.0,391.0,392.0,393.0,394.0,395.0,396.0,397.0,398.0,399.0,400.0,401.0,402.0,403.0,404.0,405.0,406.0,407.0,408.0,409.0,410.0,411.0,412.0,413.0,414.0,415.0,416.0,417.0,418.0,419.0,420.0,421.0,422.0,423.0,424.0,425.0,426.0,427.0,428.0,429.0,430.0,431.0,432.0,433.0,434.0,435.0,436.0,437.0,438.0,439.0,440.0,441.0,442.0,443.0,444.0,445.0,446.0,447.0,448.0,449.0,450.0,451.0,452.0,453.0,454.0,455.0,456.0,457.0,458.0,459.0,460.0,461.0,462.0,463.0,464.0,465.0,466.0,467.0,468.0,469.0,470.0,471.0,472.0,473.0,474.0,475.0,476.0,477.0,478.0,479.0,480.0,481.0,482.0,483.0,484.0,485.0,486.0,487.0,488.0,489.0,490.0,491.0,492.0,493.0,494.0,495.0,496.0,497.0,498.0,499.0],\"y\":[141.21651204427084,69.20932515462239,34.88868713378906,18.498316446940105,10.639735539754232,6.841868718465169,4.977667172749837,4.03520139058431,3.5330177942911782,3.2420247395833335,3.053180694580078,2.9145584106445312,2.8014020919799805,2.7018864949544272,2.6103331247965493,2.523998578389486,2.441521962483724,2.3622213999430337,2.285728931427002,2.21181583404541,2.1403477986653647,2.0712146759033203,2.0043252309163413,1.9396026929219563,1.876968542734782,1.8163620630900066,1.7577125231424968,1.7009579340616863,1.6460331281026204,1.5928831100463867,1.5414495468139648,1.491676966349284,1.4435121218363445,1.3969014485677083,1.3517964680989583,1.3081480662027996,1.2659085591634114,1.225031057993571,1.18547526995341,1.1471980412801106,1.110155741373698,1.0743082364400227,1.0396207173665364,1.0060524940490723,0.9735658168792725,0.9421302477518717,0.911709705988566,0.8822709719340006,0.8537832101186117,0.8262144724527994,0.7995372613271078,0.7737199465433756,0.7487373352050781,0.7245603402455648,0.7011651198069254,0.6785236199696859,0.6566157341003418,0.6354132493336996,0.6148964564005533,0.5950411955515543,0.5758281151453654,0.5572341283162435,0.5392412741978964,0.5218296845753988,0.5049803654352824,0.48867472012837726,0.47289562225341797,0.4576264222462972,0.4428499937057495,0.42855048179626465,0.4147123495737712,0.4013208548227946,0.38836348056793213,0.3758223056793213,0.36368779341379803,0.35194480419158936,0.3405798673629761,0.32958298921585083,0.3189416329065959,0.30864306290944415,0.29867712656656903,0.2890326976776123,0.27970027923583984,0.2706689238548279,0.26192861795425415,0.2534719506899516,0.24528712034225464,0.23736709356307983,0.22970219453175864,0.2222853104273478,0.21510803699493408,0.2081622083981832,0.20144100983937582,0.1949367125829061,0.18864178657531738,0.1825504501660665,0.17665634552637735,0.17095224062601724,0.1654324730237325,0.16009042660395303,0.15492134292920431,0.14991928140322366,0.14507827162742615,0.14039379358291626,0.13586058219273886,0.13147365053494772,0.12722812096277872,0.12311987082163493,0.11914462844530742,0.11529730757077535,0.11157440145810445,0.10797207554181416,0.1044851541519165,0.10111135244369507,0.09784690539042155,0.09468723336855571,0.09162973364194234,0.08867101867993672,0.08580845594406128,0.08303757011890411,0.08035645882288615,0.07776157061258952,0.07525098323822021,0.07282108068466187,0.07046946883201599,0.06819419066111247,0.06599215666453044,0.06386121114095052,0.061799575885136925,0.05980387330055237,0.05787284175554911,0.05600425601005554,0.0541958212852478,0.05244600772857666,0.050752480824788414,0.04911364118258158,0.0475276509920756,0.04599318404992422,0.04450794061024984,0.043071046471595764,0.041679958502451576,0.04033421725034714,0.03903199980656306,0.03777159253756205,0.03655180335044861,0.0353715717792511,0.03422952940066656,0.03312423576911291,0.03205472230911255,0.031019603212674458,0.030017989377180736,0.029048862556616466,0.02811085432767868,0.02720320224761963,0.02632487565279007,0.025474881132443745,0.024652143319447834,0.02385614812374115,0.023085765540599823,0.02234036723772685,0.02161932239929835,0.020921026666959126,0.0202455868323644,0.01959165434042613,0.018959302455186844,0.018347243467966717,0.01775480682651202,0.0171811506152153,0.01662662997841835,0.016089479128519695,0.015570275485515594,0.015067427108685175,0.014580843349297842,0.014110130568345388,0.013654443124930063,0.013213502864042917,0.012786938498417536,0.012374059607585272,0.01197453091541926,0.011587818463643393,0.011213678866624832,0.010851502418518066,0.010501279185215632,0.010162049904465675,0.009833975384632746,0.009516443436344465,0.009209069112936655,0.008911696573098501,0.008624058216810226,0.008345579107602438,0.008076082915067673,0.007815221324563026,0.007562968879938126,0.00731867179274559,0.007082480937242508,0.006853766739368439,0.0066324565559625626,0.006418238083521525,0.006211048612991969,0.006010456010699272,0.005816328649719556,0.0056286609421173734,0.005446878572305043,0.005271024381120999,0.00510082362840573,0.004936060557762782,0.0047766609738270445,0.004622493249674638,0.0044732944418986635,0.004328870524962743,0.004189062553147475,0.004053725861012936,0.003922829404473305,0.0037961856772502265,0.003673635112742583,0.0035549666111667952,0.003440241329371929,0.003329139823714892,0.0032216316709915795,0.0031175638238588967,0.003016951804359754,0.0029195696115493774,0.002825224151213964,0.0027340371161699295,0.0026457846785585084,0.0025603423515955606,0.0024775946512818336,0.0023976036657889685,0.0023202638452251754,0.0022453622271617255,0.002172812819480896,0.0021026264876127243,0.0020347456447780132,0.0019690709499021373,0.0019055114438136418,0.0018439637497067451,0.0017844183991352718,0.0017267541649440925,0.0016710286339124043,0.001617084878186385,0.0015648381474117439,0.0015143208826581638,0.0014654470918079217,0.0014180482054750125,0.0013723111090560753,0.0013279685129721959,0.0012851453696688016,0.0012436402030289173,0.0012034835914770763,0.0011646436372150977,0.0011270225513726473,0.0010906221189846594,0.0010554383043199778,0.0010213518204788368,9.883311577141285E-4,9.564445354044437E-4,9.255718905478716E-4,8.956909490128359E-4,8.667714428156614E-4,8.387636238088211E-4,8.11701330045859E-4,7.85451615229249E-4,7.601011699686447E-4,7.355438234905402E-4,7.11815586934487E-4,6.888218534489473E-4,6.66608257840077E-4,6.450511670360962E-4,6.242605547110239E-4,6.041046775256594E-4,5.845483392477036E-4,5.657103611156344E-4,5.474148395781716E-4,5.297807510942221E-4,5.126388665909568E-4,4.960872853795687E-4,4.80104082574447E-4,4.645618610084057E-4,4.495595348998904E-4,4.3506803922355175E-4,4.2100002368291217E-4,4.074171107883255E-4,3.9423183382799226E-4,3.8153096102178097E-4,3.6920591567953426E-4,3.572992281988263E-4,3.4573825541883707E-4,3.3461189984033507E-4,3.2379185237611335E-4,3.1332141952589154E-4,3.032208575556676E-4,2.9343541245907545E-4,2.8395710978657007E-4,2.7479233297829825E-4,2.6590394554659724E-4,2.573312376625836E-4,2.490033900054793E-4,2.4098821450024843E-4,2.3320691737656793E-4,2.2565375547856092E-4,2.1839281544089317E-4,2.1133210975676775E-4,2.0448419187838832E-4,1.9790565905471644E-4,1.915010119167467E-4,1.853263626495997E-4,1.7934449715539813E-4,1.735445111989975E-4,1.679391716606915E-4,1.6251883547132215E-4,1.5728027210570872E-4,1.5219676424749196E-4,1.4728528913110495E-4,1.4252138013641039E-4,1.379222764323155E-4,1.3347299924741188E-4,1.29146899174278E-4,1.249953347723931E-4,1.2095115380361676E-4,1.1705322928416233E-4,1.1325704205470781E-4,1.096181998339792E-4,1.0606588330119848E-4,1.0264708544127643E-4,9.932693016404907E-5,9.61226566384236E-5,9.302400091352563E-5,9.002553997561336E-5,8.710946228044729E-5,8.429880836047232E-5,8.15644549826781E-5,7.895561187372853E-5,7.640337086437891E-5,7.39298799696068E-5,7.154140136359881E-5,6.922961135084431E-5,6.699691584799439E-5,6.483706723277767E-5,6.274499173741788E-5,6.0708620973552264E-5,5.876384966541082E-5,5.6851141077155866E-5,5.5019321735017E-5,5.3236683015711606E-5,5.152055625027666E-5,4.98624867759645E-5,4.824729209455351E-5,4.6687404392287135E-5,4.5176634254554905E-5,4.372890786423037E-5,4.2315349370862045E-5,4.095096664968878E-5,3.962414484703913E-5,3.835563256870955E-5,3.7100607490477465E-5,3.5906676203012466E-5,3.4751564574738346E-5,3.362369898241013E-5,3.2542712384990104E-5,3.1492517640193306E-5,3.048215633801495E-5,2.948597102658823E-5,2.8542002837639302E-5,2.7620772016234696E-5,2.672694487652431E-5,2.586334691538165E-5,2.5028843083418906E-5,2.4224663017472874E-5,2.3435039717393618E-5,2.2682254590714972E-5,2.1943987424795825E-5,2.1243889932520688E-5,2.055306201024602E-5,1.9883276157391567E-5,1.9250732293585315E-5,1.8625499554521714E-5,1.802399492589757E-5,1.744153632898815E-5,1.687720699313407E-5,1.633072800662679E-5,1.5805676715293277E-5,1.5294125963312883E-5,1.4802611985942349E-5,1.4323465923856324E-5,1.3860929660343876E-5,1.3419635555086037E-5,1.2977376172784716E-5,1.2562351912492886E-5,1.2158607811822245E-5,1.1762195451107496E-5,1.1385563993826509E-5,1.1019367472423861E-5,1.066267456432494E-5,1.032154614222236E-5,9.981104085454717E-6,9.661088067029292E-6,9.350145167748755E-6,9.050014947812693E-6,8.755851619450064E-6,8.472726525117954E-6,8.200004837514522E-6,7.932267787206607E-6,7.679609552724287E-6,7.432235482459267E-6,7.1891081461217254E-6,6.957878819472778E-6,6.730719784779164E-6,6.517408716414745E-6,6.308269197082457E-6,6.1049310412878794E-6,5.901017478511979E-6,5.716071124576653E-6,5.530885876699661E-6,5.3508229029830545E-6,5.1764436648227274E-6,5.011381896717164E-6,4.849643422251877E-6,4.692247481822657E-6,4.542364877124783E-6,4.393031607226779E-6,4.250570479295372E-6,4.1143118020651554E-6,3.9805672713555396E-6,3.854883895352638E-6,3.731282352722095E-6,3.6066358006792143E-6,3.4894716615478196E-6,3.3795865116796144E-6,3.2685487288593626E-6,3.1659343828020306E-6,3.060572150085742E-6,2.9632825923423902E-6,2.866541763069108E-6,2.7745730524960286E-6,2.685942490643356E-6,2.5986143252036222E-6,2.517467843669389E-6,2.4350351850443985E-6,2.354142149367059E-6,2.2773768553937166E-6,2.2063112131339344E-6,2.1352728557152054E-6,2.064057298412081E-6,1.9981591018828717E-6,1.9324402273923624E-6,1.8712914121958117E-6,1.8115221488794002E-6,1.7516323775150038E-6,1.6963960357922285E-6,1.6411722754128277E-6,1.5880843117580905E-6,1.5358242914468672E-6,1.4880730911196831E-6,1.4400005359978725E-6,1.3929305472023164E-6,1.3487700319577318E-6,1.3045040153277416E-6,1.2629902054565416E-6,1.221275624629925E-6,1.1803407081364032E-6,1.1441355430482265E-6,1.1066786100855097E-6,1.0708930252197508E-6,1.036566269855636E-6,1.0040582007301662E-6,9.700859967172921E-7,9.395890477511178E-7,9.079049050342292E-7,8.793206992171084E-7,8.495348235252701E-7,8.230040293710772E-7,7.976223059813492E-7,7.712563577418526E-7,7.460139386239462E-7,7.220470100340511E-7,6.993126741387338E-7,6.77092126958693E-7,6.543862885640314E-7,6.337835050847692E-7,6.126396480491773E-7,5.926807110275453E-7,5.744958192129465E-7,5.552844868361717E-7,5.371087657598158E-7,5.192102131938251E-7,5.036789237540992E-7,4.876795477078607E-7,4.7024362478017184E-7,4.560937062099886E-7,4.405216410911332E-7,4.2694925165657577E-7,4.1366168564612355E-7,3.999939508503303E-7,3.8725193007849157E-7,3.752151466566526E-7,3.623128274436264E-7,3.507620931486599E-7,3.3998526305367704E-7,3.28820002929812E-7,3.1838802290925133E-7]};\n",
       "\n",
       "  var data = [data0];\n",
       "  var layout = {\"title\":\"loss by time\"};\n",
       "\n",
       "  Plotly.plot('plot-1794239020', data, layout);\n",
       "})();\n",
       "});\n",
       "      "
      ]
     },
     "metadata": {},
     "output_type": "display_data"
    },
    {
     "data": {
      "text/plain": [
       "\u001b[36mres15\u001b[39m: \u001b[32mString\u001b[39m = \u001b[32m\"plot-1794239020\"\u001b[39m"
      ]
     },
     "execution_count": 16,
     "metadata": {},
     "output_type": "execute_result"
    }
   ],
   "source": [
    "Scatter(lossByTime.indices, lossByTime).plot(title = \"loss by time\")"
   ]
  },
  {
   "cell_type": "markdown",
   "metadata": {},
   "source": [
    "After these iterations, the loss should be close to zero."
   ]
  },
  {
   "cell_type": "markdown",
   "metadata": {},
   "source": [
    "## Test the trained robot"
   ]
  },
  {
   "cell_type": "code",
   "execution_count": 17,
   "metadata": {},
   "outputs": [
    {
     "data": {
      "text/plain": [
       "\u001b[36mTestQuestions\u001b[39m: \u001b[32mINDArray\u001b[39m = [3.00, 6.00, 9.00]"
      ]
     },
     "execution_count": 17,
     "metadata": {},
     "output_type": "execute_result"
    }
   ],
   "source": [
    "val TestQuestions: INDArray = {\n",
    "  import org.nd4s.Implicits._\n",
    "  Array(Array(3, 6, 9)).toNDArray\n",
    "}"
   ]
  },
  {
   "cell_type": "code",
   "execution_count": 18,
   "metadata": {
    "scrolled": true
   },
   "outputs": [
    {
     "data": {
      "text/plain": [
       "\u001b[36mres17\u001b[39m: \u001b[32mINDArray\u001b[39m = 12.00"
      ]
     },
     "execution_count": 18,
     "metadata": {},
     "output_type": "execute_result"
    }
   ],
   "source": [
    "Await.result(iqTestRobot(TestQuestions).predict.asScala, Duration.Inf)"
   ]
  },
  {
   "cell_type": "markdown",
   "metadata": {},
   "source": [
    "The result should be close to `12`."
   ]
  },
  {
   "cell_type": "markdown",
   "metadata": {},
   "source": [
    "You may also see the value of weights in the trained neural network:"
   ]
  },
  {
   "cell_type": "code",
   "execution_count": 19,
   "metadata": {},
   "outputs": [
    {
     "data": {
      "text/plain": [
       "\u001b[36mweightData\u001b[39m: \u001b[32mINDArray\u001b[39m = [-0.37, -0.26, 1.63]"
      ]
     },
     "execution_count": 19,
     "metadata": {},
     "output_type": "execute_result"
    }
   ],
   "source": [
    "val weightData: INDArray = robotWeight.data"
   ]
  },
  {
   "cell_type": "markdown",
   "metadata": {},
   "source": [
    "## Conclusion"
   ]
  },
  {
   "cell_type": "markdown",
   "metadata": {},
   "source": [
    "In this article, we have created a IQ test robot with the help of DeepLearning.scala.\n",
    "\n",
    "The model of robot is linear regression with a square loss, which consists of some `INDArryWeight`s and `INDArrayLayer`s.\n",
    "\n",
    "After many iterations of `train`ing, the robot finally learnt the pattern of arithmetic progression."
   ]
  }
 ],
 "metadata": {
  "kernelspec": {
   "display_name": "Scala",
   "language": "scala",
   "name": "scala"
  },
  "language_info": {
   "codemirror_mode": "text/x-scala",
   "file_extension": ".scala",
   "mimetype": "text/x-scala",
   "name": "scala211",
   "nbconvert_exporter": "script",
   "pygments_lexer": "scala",
   "version": "2.11.11"
  }
 },
 "nbformat": 4,
 "nbformat_minor": 2
}
