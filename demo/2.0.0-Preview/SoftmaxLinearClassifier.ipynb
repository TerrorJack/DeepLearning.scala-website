{
 "cells": [
  {
   "cell_type": "markdown",
   "metadata": {},
   "source": [
    "## Background\n",
    "\n",
    "In this article, we will use [softmax](https://en.wikipedia.org/wiki/Softmax_function) classifier to build a simple image classification neural network with an accuracy of 32%. In a Softmax classifier, binary logic is generalized and regressed to multiple logic. Softmax classifier will output the probability of the corresponding category.\n",
    "\n",
    "We will first define a softmax classifier, then use the training set of [CIFAR10](https://www.cs.toronto.edu/~kriz/cifar.html) to train the neural network, and finally use the test set to verify the accuracy of the neural network.\n",
    "\n",
    "Let’s get started."
   ]
  },
  {
   "cell_type": "markdown",
   "metadata": {},
   "source": [
    "## Import dependencies"
   ]
  },
  {
   "cell_type": "markdown",
   "metadata": {},
   "source": [
    "Like the previous course [GettingStarted](https://thoughtworksinc.github.io/DeepLearning.scala/demo/GettingStarted.html), we need to introduce each class of DeepLearning.scala."
   ]
  },
  {
   "cell_type": "code",
   "execution_count": 1,
   "metadata": {},
   "outputs": [
    {
     "name": "stdout",
     "output_type": "stream",
     "text": [
      "Downloading https://repo1.maven.org/maven2/com/thoughtworks/deeplearning/plugins-builtins_2.11/2.0.0-RC5/plugins-builtins_2.11-2.0.0-RC5.pom\n",
      "Downloading https://repo1.maven.org/maven2/com/thoughtworks/deeplearning/plugins-builtins_2.11/2.0.0-RC5/plugins-builtins_2.11-2.0.0-RC5.pom.sha1\n",
      "Downloaded https://repo1.maven.org/maven2/com/thoughtworks/deeplearning/plugins-builtins_2.11/2.0.0-RC5/plugins-builtins_2.11-2.0.0-RC5.pom\n",
      "Downloaded https://repo1.maven.org/maven2/com/thoughtworks/deeplearning/plugins-builtins_2.11/2.0.0-RC5/plugins-builtins_2.11-2.0.0-RC5.pom.sha1\n",
      "Downloading https://repo1.maven.org/maven2/com/thoughtworks/deeplearning/plugins-builtins_2.11/2.0.0-RC5/\n",
      "Downloaded https://repo1.maven.org/maven2/com/thoughtworks/deeplearning/plugins-builtins_2.11/2.0.0-RC5/\n",
      "Downloading https://repo1.maven.org/maven2/com/thoughtworks/deeplearning/plugins-floatliterals_2.11/2.0.0-RC5/plugins-floatliterals_2.11-2.0.0-RC5.pom\n",
      "Downloading https://repo1.maven.org/maven2/com/thoughtworks/deeplearning/plugins-cumulativefloatlayers_2.11/2.0.0-RC5/plugins-cumulativefloatlayers_2.11-2.0.0-RC5.pom\n",
      "Downloading https://repo1.maven.org/maven2/com/thoughtworks/deeplearning/plugins-floatliterals_2.11/2.0.0-RC5/plugins-floatliterals_2.11-2.0.0-RC5.pom.sha1\n",
      "Downloading https://repo1.maven.org/maven2/com/thoughtworks/deeplearning/plugins-cumulativefloatlayers_2.11/2.0.0-RC5/plugins-cumulativefloatlayers_2.11-2.0.0-RC5.pom.sha1\n",
      "Downloading https://repo1.maven.org/maven2/com/thoughtworks/deeplearning/plugins-floatlayers_2.11/2.0.0-RC5/plugins-floatlayers_2.11-2.0.0-RC5.pom\n",
      "Downloading https://repo1.maven.org/maven2/com/thoughtworks/deeplearning/plugins-floatlayers_2.11/2.0.0-RC5/plugins-floatlayers_2.11-2.0.0-RC5.pom.sha1\n",
      "Downloaded https://repo1.maven.org/maven2/com/thoughtworks/deeplearning/plugins-floatliterals_2.11/2.0.0-RC5/plugins-floatliterals_2.11-2.0.0-RC5.pom\n",
      "Downloading https://repo1.maven.org/maven2/com/thoughtworks/deeplearning/plugins-doubleweights_2.11/2.0.0-RC5/plugins-doubleweights_2.11-2.0.0-RC5.pom\n",
      "Downloaded https://repo1.maven.org/maven2/com/thoughtworks/deeplearning/plugins-doubleweights_2.11/2.0.0-RC5/plugins-doubleweights_2.11-2.0.0-RC5.pom\n",
      "Downloading https://repo1.maven.org/maven2/com/thoughtworks/deeplearning/plugins-doubleweights_2.11/2.0.0-RC5/plugins-doubleweights_2.11-2.0.0-RC5.pom.sha1\n",
      "Downloaded https://repo1.maven.org/maven2/com/thoughtworks/deeplearning/plugins-doubleweights_2.11/2.0.0-RC5/plugins-doubleweights_2.11-2.0.0-RC5.pom.sha1\n",
      "Downloaded https://repo1.maven.org/maven2/com/thoughtworks/deeplearning/plugins-floatlayers_2.11/2.0.0-RC5/plugins-floatlayers_2.11-2.0.0-RC5.pom\n",
      "Downloading https://repo1.maven.org/maven2/com/thoughtworks/deeplearning/plugins-floatweights_2.11/2.0.0-RC5/plugins-floatweights_2.11-2.0.0-RC5.pom\n",
      "Downloaded https://repo1.maven.org/maven2/com/thoughtworks/deeplearning/plugins-floatliterals_2.11/2.0.0-RC5/plugins-floatliterals_2.11-2.0.0-RC5.pom.sha1\n",
      "Downloading https://repo1.maven.org/maven2/com/thoughtworks/deeplearning/plugins-floatweights_2.11/2.0.0-RC5/plugins-floatweights_2.11-2.0.0-RC5.pom.sha1\n",
      "Downloading https://repo1.maven.org/maven2/com/thoughtworks/deeplearning/plugins-indarraytraining_2.11/2.0.0-RC5/plugins-indarraytraining_2.11-2.0.0-RC5.pom\n",
      "Downloaded https://repo1.maven.org/maven2/com/thoughtworks/deeplearning/plugins-indarraytraining_2.11/2.0.0-RC5/plugins-indarraytraining_2.11-2.0.0-RC5.pom\n",
      "Downloaded https://repo1.maven.org/maven2/com/thoughtworks/deeplearning/plugins-floatlayers_2.11/2.0.0-RC5/plugins-floatlayers_2.11-2.0.0-RC5.pom.sha1\n",
      "Downloaded https://repo1.maven.org/maven2/com/thoughtworks/deeplearning/plugins-floatweights_2.11/2.0.0-RC5/plugins-floatweights_2.11-2.0.0-RC5.pom\n",
      "Downloaded https://repo1.maven.org/maven2/com/thoughtworks/deeplearning/plugins-floatweights_2.11/2.0.0-RC5/plugins-floatweights_2.11-2.0.0-RC5.pom.sha1\n",
      "Downloading https://repo1.maven.org/maven2/com/thoughtworks/deeplearning/plugins-indarraytraining_2.11/2.0.0-RC5/plugins-indarraytraining_2.11-2.0.0-RC5.pom.sha1\n",
      "Downloading https://repo1.maven.org/maven2/com/thoughtworks/deeplearning/plugins-floattraining_2.11/2.0.0-RC5/plugins-floattraining_2.11-2.0.0-RC5.pom.sha1\n",
      "Downloading https://repo1.maven.org/maven2/com/thoughtworks/deeplearning/plugins-floattraining_2.11/2.0.0-RC5/plugins-floattraining_2.11-2.0.0-RC5.pom\n",
      "Downloading https://repo1.maven.org/maven2/com/thoughtworks/deeplearning/plugins-doubleweights_2.11/2.0.0-RC5/\n",
      "Downloaded https://repo1.maven.org/maven2/com/thoughtworks/deeplearning/plugins-cumulativefloatlayers_2.11/2.0.0-RC5/plugins-cumulativefloatlayers_2.11-2.0.0-RC5.pom.sha1\n",
      "Downloaded https://repo1.maven.org/maven2/com/thoughtworks/deeplearning/plugins-cumulativefloatlayers_2.11/2.0.0-RC5/plugins-cumulativefloatlayers_2.11-2.0.0-RC5.pom\n",
      "Downloading https://repo1.maven.org/maven2/com/thoughtworks/deeplearning/plugins-floatliterals_2.11/2.0.0-RC5/\n",
      "Downloading https://repo1.maven.org/maven2/com/thoughtworks/deeplearning/plugins-floatlayers_2.11/2.0.0-RC5/\n",
      "Downloaded https://repo1.maven.org/maven2/com/thoughtworks/deeplearning/plugins-floattraining_2.11/2.0.0-RC5/plugins-floattraining_2.11-2.0.0-RC5.pom.sha1\n",
      "Downloaded https://repo1.maven.org/maven2/com/thoughtworks/deeplearning/plugins-indarraytraining_2.11/2.0.0-RC5/plugins-indarraytraining_2.11-2.0.0-RC5.pom.sha1\n",
      "Downloading https://repo1.maven.org/maven2/com/thoughtworks/deeplearning/plugins-floatweights_2.11/2.0.0-RC5/\n",
      "Downloaded https://repo1.maven.org/maven2/com/thoughtworks/deeplearning/plugins-floattraining_2.11/2.0.0-RC5/plugins-floattraining_2.11-2.0.0-RC5.pom\n",
      "Downloading https://repo1.maven.org/maven2/com/thoughtworks/deeplearning/plugins-cumulativefloatlayers_2.11/2.0.0-RC5/\n",
      "Downloading https://repo1.maven.org/maven2/com/thoughtworks/deeplearning/plugins-indarraytraining_2.11/2.0.0-RC5/\n",
      "Downloaded https://repo1.maven.org/maven2/com/thoughtworks/deeplearning/plugins-floatliterals_2.11/2.0.0-RC5/\n",
      "Downloading https://repo1.maven.org/maven2/com/thoughtworks/deeplearning/plugins-floattraining_2.11/2.0.0-RC5/\n",
      "Downloaded https://repo1.maven.org/maven2/com/thoughtworks/deeplearning/plugins-doubleweights_2.11/2.0.0-RC5/\n",
      "Downloaded https://repo1.maven.org/maven2/com/thoughtworks/deeplearning/plugins-floatlayers_2.11/2.0.0-RC5/\n",
      "Downloaded https://repo1.maven.org/maven2/com/thoughtworks/deeplearning/plugins-floatweights_2.11/2.0.0-RC5/\n",
      "Downloaded https://repo1.maven.org/maven2/com/thoughtworks/deeplearning/plugins-indarraytraining_2.11/2.0.0-RC5/\n",
      "Downloaded https://repo1.maven.org/maven2/com/thoughtworks/deeplearning/plugins-cumulativefloatlayers_2.11/2.0.0-RC5/\n",
      "Downloaded https://repo1.maven.org/maven2/com/thoughtworks/deeplearning/plugins-floattraining_2.11/2.0.0-RC5/\n",
      "Downloading https://repo1.maven.org/maven2/com/thoughtworks/deeplearning/plugins-floatlayers_2.11/2.0.0-RC5/plugins-floatlayers_2.11-2.0.0-RC5.jar\n",
      "Downloading https://repo1.maven.org/maven2/com/thoughtworks/deeplearning/plugins-floatlayers_2.11/2.0.0-RC5/plugins-floatlayers_2.11-2.0.0-RC5.jar.sha1\n",
      "Downloading https://repo1.maven.org/maven2/com/thoughtworks/deeplearning/plugins-cumulativefloatlayers_2.11/2.0.0-RC5/plugins-cumulativefloatlayers_2.11-2.0.0-RC5.jar\n",
      "Downloading https://repo1.maven.org/maven2/com/thoughtworks/deeplearning/plugins-cumulativefloatlayers_2.11/2.0.0-RC5/plugins-cumulativefloatlayers_2.11-2.0.0-RC5.jar.sha1\n",
      "Downloading https://repo1.maven.org/maven2/com/thoughtworks/deeplearning/plugins-floatweights_2.11/2.0.0-RC5/plugins-floatweights_2.11-2.0.0-RC5.jar\n",
      "Downloading https://repo1.maven.org/maven2/com/thoughtworks/deeplearning/plugins-floatweights_2.11/2.0.0-RC5/plugins-floatweights_2.11-2.0.0-RC5.jar.sha1\n",
      "Downloaded https://repo1.maven.org/maven2/com/thoughtworks/deeplearning/plugins-floatlayers_2.11/2.0.0-RC5/plugins-floatlayers_2.11-2.0.0-RC5.jar.sha1\n",
      "Downloading https://repo1.maven.org/maven2/com/thoughtworks/deeplearning/plugins-builtins_2.11/2.0.0-RC5/plugins-builtins_2.11-2.0.0-RC5.jar\n",
      "Downloaded https://repo1.maven.org/maven2/com/thoughtworks/deeplearning/plugins-cumulativefloatlayers_2.11/2.0.0-RC5/plugins-cumulativefloatlayers_2.11-2.0.0-RC5.jar.sha1\n",
      "Downloading https://repo1.maven.org/maven2/com/thoughtworks/deeplearning/plugins-builtins_2.11/2.0.0-RC5/plugins-builtins_2.11-2.0.0-RC5.jar.sha1\n"
     ]
    },
    {
     "name": "stdout",
     "output_type": "stream",
     "text": [
      "Downloaded https://repo1.maven.org/maven2/com/thoughtworks/deeplearning/plugins-floatweights_2.11/2.0.0-RC5/plugins-floatweights_2.11-2.0.0-RC5.jar\n",
      "Downloading https://repo1.maven.org/maven2/com/thoughtworks/deeplearning/plugins-floatliterals_2.11/2.0.0-RC5/plugins-floatliterals_2.11-2.0.0-RC5.jar\n",
      "Downloaded https://repo1.maven.org/maven2/com/thoughtworks/deeplearning/plugins-builtins_2.11/2.0.0-RC5/plugins-builtins_2.11-2.0.0-RC5.jar\n",
      "Downloading https://repo1.maven.org/maven2/com/thoughtworks/deeplearning/plugins-floatliterals_2.11/2.0.0-RC5/plugins-floatliterals_2.11-2.0.0-RC5.jar.sha1\n",
      "Downloaded https://repo1.maven.org/maven2/com/thoughtworks/deeplearning/plugins-cumulativefloatlayers_2.11/2.0.0-RC5/plugins-cumulativefloatlayers_2.11-2.0.0-RC5.jar\n",
      "Downloading https://repo1.maven.org/maven2/com/thoughtworks/deeplearning/plugins-floattraining_2.11/2.0.0-RC5/plugins-floattraining_2.11-2.0.0-RC5.jar\n",
      "Downloaded https://repo1.maven.org/maven2/com/thoughtworks/deeplearning/plugins-builtins_2.11/2.0.0-RC5/plugins-builtins_2.11-2.0.0-RC5.jar.sha1\n",
      "Downloading https://repo1.maven.org/maven2/com/thoughtworks/deeplearning/plugins-floattraining_2.11/2.0.0-RC5/plugins-floattraining_2.11-2.0.0-RC5.jar.sha1\n",
      "Downloaded https://repo1.maven.org/maven2/com/thoughtworks/deeplearning/plugins-floatliterals_2.11/2.0.0-RC5/plugins-floatliterals_2.11-2.0.0-RC5.jar\n",
      "Downloading https://repo1.maven.org/maven2/com/thoughtworks/deeplearning/plugins-indarraytraining_2.11/2.0.0-RC5/plugins-indarraytraining_2.11-2.0.0-RC5.jar\n",
      "Downloaded https://repo1.maven.org/maven2/com/thoughtworks/deeplearning/plugins-floatliterals_2.11/2.0.0-RC5/plugins-floatliterals_2.11-2.0.0-RC5.jar.sha1\n",
      "Downloading https://repo1.maven.org/maven2/com/thoughtworks/deeplearning/plugins-indarraytraining_2.11/2.0.0-RC5/plugins-indarraytraining_2.11-2.0.0-RC5.jar.sha1\n",
      "Downloaded https://repo1.maven.org/maven2/com/thoughtworks/deeplearning/plugins-floattraining_2.11/2.0.0-RC5/plugins-floattraining_2.11-2.0.0-RC5.jar\n",
      "Downloading https://repo1.maven.org/maven2/com/thoughtworks/deeplearning/plugins-doubleweights_2.11/2.0.0-RC5/plugins-doubleweights_2.11-2.0.0-RC5.jar\n",
      "Downloaded https://repo1.maven.org/maven2/com/thoughtworks/deeplearning/plugins-floattraining_2.11/2.0.0-RC5/plugins-floattraining_2.11-2.0.0-RC5.jar.sha1\n",
      "Downloading https://repo1.maven.org/maven2/com/thoughtworks/deeplearning/plugins-doubleweights_2.11/2.0.0-RC5/plugins-doubleweights_2.11-2.0.0-RC5.jar.sha1\n",
      "Downloaded https://repo1.maven.org/maven2/com/thoughtworks/deeplearning/plugins-floatweights_2.11/2.0.0-RC5/plugins-floatweights_2.11-2.0.0-RC5.jar.sha1\n",
      "Downloaded https://repo1.maven.org/maven2/com/thoughtworks/deeplearning/plugins-floatlayers_2.11/2.0.0-RC5/plugins-floatlayers_2.11-2.0.0-RC5.jar\n",
      "Downloaded https://repo1.maven.org/maven2/com/thoughtworks/deeplearning/plugins-indarraytraining_2.11/2.0.0-RC5/plugins-indarraytraining_2.11-2.0.0-RC5.jar.sha1\n",
      "Downloaded https://repo1.maven.org/maven2/com/thoughtworks/deeplearning/plugins-doubleweights_2.11/2.0.0-RC5/plugins-doubleweights_2.11-2.0.0-RC5.jar\n",
      "Downloaded https://repo1.maven.org/maven2/com/thoughtworks/deeplearning/plugins-indarraytraining_2.11/2.0.0-RC5/plugins-indarraytraining_2.11-2.0.0-RC5.jar\n",
      "Downloaded https://repo1.maven.org/maven2/com/thoughtworks/deeplearning/plugins-doubleweights_2.11/2.0.0-RC5/plugins-doubleweights_2.11-2.0.0-RC5.jar.sha1\n"
     ]
    },
    {
     "data": {
      "text/plain": [
       "\u001b[32mimport \u001b[39m\u001b[36m$ivy.$                     \n",
       "\u001b[39m\n",
       "\u001b[32mimport \u001b[39m\u001b[36m$ivy.$                                    \n",
       "\u001b[39m\n",
       "\u001b[32mimport \u001b[39m\u001b[36m$ivy.$                             \n",
       "\u001b[39m\n",
       "\u001b[32mimport \u001b[39m\u001b[36m$ivy.$                               \n",
       "\u001b[39m\n",
       "\u001b[32mimport \u001b[39m\u001b[36m$ivy.$                                                          \n",
       "\u001b[39m\n",
       "\u001b[32mimport \u001b[39m\u001b[36m$ivy.$                                             \n",
       "\u001b[39m\n",
       "\u001b[32mimport \u001b[39m\u001b[36m$ivy.$                                  \n",
       "\u001b[39m\n",
       "\u001b[32mimport \u001b[39m\u001b[36m$plugin.$                                            \n",
       "\n",
       "\u001b[39m\n",
       "\u001b[32mimport \u001b[39m\u001b[36mscala.concurrent.ExecutionContext.Implicits.global\n",
       "\u001b[39m\n",
       "\u001b[32mimport \u001b[39m\u001b[36morg.nd4j.linalg.api.ndarray.INDArray\n",
       "\u001b[39m\n",
       "\u001b[32mimport \u001b[39m\u001b[36morg.nd4j.linalg.factory.Nd4j\n",
       "\u001b[39m\n",
       "\u001b[32mimport \u001b[39m\u001b[36mcom.thoughtworks.deeplearning.plugins.Builtins\n",
       "\u001b[39m\n",
       "\u001b[32mimport \u001b[39m\u001b[36mcom.thoughtworks.feature.Factory\n",
       "\u001b[39m\n",
       "\u001b[32mimport \u001b[39m\u001b[36mplotly._\n",
       "\u001b[39m\n",
       "\u001b[32mimport \u001b[39m\u001b[36mplotly.element._\n",
       "\u001b[39m\n",
       "\u001b[32mimport \u001b[39m\u001b[36mplotly.layout._\n",
       "\u001b[39m\n",
       "\u001b[32mimport \u001b[39m\u001b[36mplotly.JupyterScala._\n",
       "\u001b[39m\n",
       "\u001b[32mimport \u001b[39m\u001b[36mscalaz.concurrent.Task\n",
       "\u001b[39m\n",
       "\u001b[32mimport \u001b[39m\u001b[36mcom.thoughtworks.each.Monadic._\n",
       "\u001b[39m\n",
       "\u001b[32mimport \u001b[39m\u001b[36mscalaz.std.stream._\n",
       "\u001b[39m\n",
       "\u001b[32mimport \u001b[39m\u001b[36mscalaz.{-\\/, \\/, \\/-}\u001b[39m"
      ]
     },
     "execution_count": 1,
     "metadata": {},
     "output_type": "execute_result"
    }
   ],
   "source": [
    "import $ivy.`org.nd4j::nd4s:0.8.0`\n",
    "import $ivy.`org.nd4j:nd4j-native-platform:0.8.0`\n",
    "import $ivy.`com.chuusai::shapeless:2.3.2`\n",
    "import $ivy.`org.rauschig:jarchivelib:0.5.0`\n",
    "import $ivy.`com.thoughtworks.deeplearning::plugins-builtins:2.0.0-RC5`\n",
    "import $ivy.`org.plotly-scala::plotly-jupyter-scala:0.3.2`\n",
    "import $ivy.`com.thoughtworks.each::each:3.3.1`\n",
    "import $plugin.$ivy.`org.scalamacros:paradise_2.11.11:2.1.0`\n",
    "\n",
    "import scala.concurrent.ExecutionContext.Implicits.global\n",
    "import org.nd4j.linalg.api.ndarray.INDArray\n",
    "import org.nd4j.linalg.factory.Nd4j\n",
    "import com.thoughtworks.deeplearning.plugins.Builtins\n",
    "import com.thoughtworks.feature.Factory\n",
    "import plotly._\n",
    "import plotly.element._\n",
    "import plotly.layout._\n",
    "import plotly.JupyterScala._\n",
    "import scalaz.concurrent.Task\n",
    "import com.thoughtworks.each.Monadic._\n",
    "import scalaz.std.stream._\n",
    "import scalaz.{-\\/, \\/, \\/-}"
   ]
  },
  {
   "cell_type": "markdown",
   "metadata": {},
   "source": [
    "To reduce the line numbers outputted by `jupyter-scala` and to make sure that the page output will not be too long, we need to set `pprintConfig`."
   ]
  },
  {
   "cell_type": "code",
   "execution_count": 2,
   "metadata": {
    "collapsed": true
   },
   "outputs": [],
   "source": [
    "pprintConfig() = pprintConfig().copy(height = 2)"
   ]
  },
  {
   "cell_type": "markdown",
   "metadata": {},
   "source": [
    "## Build your own neural network."
   ]
  },
  {
   "cell_type": "markdown",
   "metadata": {},
   "source": [
    "### Set learning rate"
   ]
  },
  {
   "cell_type": "markdown",
   "metadata": {},
   "source": [
    "Learning rate need to be set for the full connection layer. Learning rate visually describes the change rate of `weight`. A too-low learning rate will result in slow decrease of `loss`, which will require longer time for training; A too-high learning rate will result in rapid decrease of `loss` at first while fluctuation around the lowest point afterward."
   ]
  },
  {
   "cell_type": "code",
   "execution_count": 4,
   "metadata": {},
   "outputs": [
    {
     "data": {
      "text/plain": [
       "\u001b[36mINDArrayLearningRatePluginUrl\u001b[39m: \u001b[32mString\u001b[39m = \u001b[32m\"https://gist.githubusercontent.com/TerrorJack/118487016d7973d67feb489449dee156/raw/778bb1b68a664c752b0945111220326731310214/INDArrayLearningRate.sc\"\u001b[39m"
      ]
     },
     "execution_count": 4,
     "metadata": {},
     "output_type": "execute_result"
    }
   ],
   "source": [
    "val INDArrayLearningRatePluginUrl = \"https://gist.githubusercontent.com/TerrorJack/118487016d7973d67feb489449dee156/raw/778bb1b68a664c752b0945111220326731310214/INDArrayLearningRate.sc\"\n",
    "interp.load(scala.io.Source.fromURL(new java.net.URL(INDArrayLearningRatePluginUrl)).mkString)"
   ]
  },
  {
   "cell_type": "code",
   "execution_count": 6,
   "metadata": {
    "collapsed": true
   },
   "outputs": [],
   "source": [
    "// `interp.load` is a workaround for https://github.com/lihaoyi/Ammonite/issues/649 and https://github.com/scala/bug/issues/10390\n",
    "interp.load(\"\"\"\n",
    "  val hyperparameters = Factory[Builtins with INDArrayLearningRate].newInstance(learningRate = 0.1)\n",
    "\"\"\")"
   ]
  },
  {
   "cell_type": "markdown",
   "metadata": {},
   "source": [
    "### Write softmax"
   ]
  },
  {
   "cell_type": "markdown",
   "metadata": {},
   "source": [
    "To use `softmax` classifier (softmax classifier is a neural network combined by `softmax` and a full connection), we first need to write softmax function, formula: ![](https://www.zhihu.com/equation?tex=f_j%28z%29%3D%5Cfrac%7Be%5E%7Bz_j%7D%7D%7B%5Csum_ke%5E%7Bz_k%7D%7D)"
   ]
  },
  {
   "cell_type": "code",
   "execution_count": 7,
   "metadata": {},
   "outputs": [
    {
     "data": {
      "text/plain": [
       "\u001b[32mimport \u001b[39m\u001b[36mhyperparameters.implicits._\u001b[39m"
      ]
     },
     "execution_count": 7,
     "metadata": {},
     "output_type": "execute_result"
    }
   ],
   "source": [
    "import hyperparameters.implicits._"
   ]
  },
  {
   "cell_type": "code",
   "execution_count": 8,
   "metadata": {},
   "outputs": [
    {
     "data": {
      "text/plain": [
       "\u001b[32mimport \u001b[39m\u001b[36mhyperparameters.INDArrayLayer\n",
       "\n",
       "\u001b[39m\n",
       "defined \u001b[32mfunction\u001b[39m \u001b[36msoftmax\u001b[39m"
      ]
     },
     "execution_count": 8,
     "metadata": {},
     "output_type": "execute_result"
    }
   ],
   "source": [
    "import hyperparameters.INDArrayLayer\n",
    "\n",
    "def softmax(scores: INDArrayLayer): INDArrayLayer = {\n",
    "  val expScores = hyperparameters.exp(scores)\n",
    "  expScores / expScores.sum(1)\n",
    "}"
   ]
  },
  {
   "cell_type": "markdown",
   "metadata": {},
   "source": [
    "### Compose your  neural network"
   ]
  },
  {
   "cell_type": "markdown",
   "metadata": {},
   "source": [
    "Define a full connection layer and [initialize Weight](https://github.com/ThoughtWorksInc/DeepLearning.scala/wiki/Getting-Started#231--weight-intialization), `Weight` shall be a two-dimension `INDArray` of `NumberOfPixels × NumberOfClasses`. `scores` is the score of each image corresponding to each category, representing the feasible probability of each category corresponding to each image."
   ]
  },
  {
   "cell_type": "code",
   "execution_count": 9,
   "metadata": {},
   "outputs": [
    {
     "data": {
      "text/plain": [
       "\u001b[36mNumberOfClasses\u001b[39m: \u001b[32mInt\u001b[39m = \u001b[32m10\u001b[39m\n",
       "\u001b[36mNumberOfPixels\u001b[39m: \u001b[32mInt\u001b[39m = \u001b[32m3072\u001b[39m"
      ]
     },
     "execution_count": 9,
     "metadata": {},
     "output_type": "execute_result"
    }
   ],
   "source": [
    "//10 label of CIFAR10 images(airplane,automobile,bird,cat,deer,dog,frog,horse,ship,truck)\n",
    "val NumberOfClasses: Int = 10\n",
    "val NumberOfPixels: Int = 3072"
   ]
  },
  {
   "cell_type": "code",
   "execution_count": 10,
   "metadata": {},
   "outputs": [
    {
     "name": "stderr",
     "output_type": "stream",
     "text": [
      "SLF4J: Failed to load class \"org.slf4j.impl.StaticLoggerBinder\".\n",
      "SLF4J: Defaulting to no-operation (NOP) logger implementation\n",
      "SLF4J: See http://www.slf4j.org/codes.html#StaticLoggerBinder for further details.\n"
     ]
    },
    {
     "data": {
      "text/plain": [
       "\u001b[32mimport \u001b[39m\u001b[36mhyperparameters.INDArrayWeight\n",
       "\n",
       "\u001b[39m\n",
       "\u001b[36mweight\u001b[39m: \u001b[32mObject\u001b[39m with \u001b[32mhyperparameters\u001b[39m.\u001b[32mINDArrayWeightApi\u001b[39m with \u001b[32mhyperparameters\u001b[39m.\u001b[32mWeightApi\u001b[39m with \u001b[32mhyperparameters\u001b[39m.\u001b[32mWeightApi\u001b[39m = $sess.cmd5Wrapper$Helper$Anonymous$macro$1$1$Anonymous$macro$24$1@470704de\n",
       "defined \u001b[32mfunction\u001b[39m \u001b[36mmyNeuralNetwork\u001b[39m"
      ]
     },
     "execution_count": 10,
     "metadata": {},
     "output_type": "execute_result"
    }
   ],
   "source": [
    "import hyperparameters.INDArrayWeight\n",
    "\n",
    "val weight = {\n",
    "    import org.nd4s.Implicits._\n",
    "    INDArrayWeight(Nd4j.randn(NumberOfPixels, NumberOfClasses) * 0.001)\n",
    "}\n",
    "\n",
    "def myNeuralNetwork(input: INDArray): INDArrayLayer = {\n",
    "    softmax(input.dot(weight))\n",
    "}"
   ]
  },
  {
   "cell_type": "markdown",
   "metadata": {},
   "source": [
    "### Create LossFunction"
   ]
  },
  {
   "cell_type": "markdown",
   "metadata": {},
   "source": [
    "To learn about the prediction result of the neural network, we need to write the loss function `lossFunction`. We use [cross-entropy loss](https://en.wikipedia.org/wiki/Cross_entropy) to make comparison between this result and the actual result before return the score. Formula:\n",
    "![](https://zhihu.com/equation?tex=%5Cdisplaystyle+H%28p%2Cq%29%3D-%5Csum_xp%28x%29+logq%28x%29)"
   ]
  },
  {
   "cell_type": "code",
   "execution_count": 11,
   "metadata": {},
   "outputs": [
    {
     "data": {
      "text/plain": [
       "\u001b[32mimport \u001b[39m\u001b[36mhyperparameters.DoubleLayer\n",
       "\n",
       "\u001b[39m\n",
       "defined \u001b[32mfunction\u001b[39m \u001b[36mlossFunction\u001b[39m"
      ]
     },
     "execution_count": 11,
     "metadata": {},
     "output_type": "execute_result"
    }
   ],
   "source": [
    "import hyperparameters.DoubleLayer\n",
    "\n",
    "def lossFunction(input: INDArray, expectOutput: INDArray): DoubleLayer = {\n",
    "    val probabilities = myNeuralNetwork(input)\n",
    "    -(hyperparameters.log(probabilities) * expectOutput).mean\n",
    "}"
   ]
  },
  {
   "cell_type": "markdown",
   "metadata": {},
   "source": [
    "## Prepare data"
   ]
  },
  {
   "cell_type": "markdown",
   "metadata": {},
   "source": [
    "### Read data"
   ]
  },
  {
   "cell_type": "markdown",
   "metadata": {},
   "source": [
    "To read the images and corresponding label information for test data from CIFAR10 database and process them, we need [`import $file.ReadCIFAR10ToNDArray`](https://github.com/ThoughtWorksInc/DeepLearning.scala-website/blob/master/ipynbs/ReadCIFAR10ToNDArray.sc). This is a script file containing the read and processed CIFAR10 data, provided in this course."
   ]
  },
  {
   "cell_type": "code",
   "execution_count": 12,
   "metadata": {},
   "outputs": [
    {
     "name": "stdout",
     "output_type": "stream",
     "text": [
      "Compiling https://raw.githubusercontent.com/ThoughtWorksInc/DeepLearning.scala-website/master/demo/ReadCIFAR10ToNDArray.sc\n",
      "downloading data...\n",
      "unzip file...\n",
      "download and unzip done.\n"
     ]
    },
    {
     "data": {
      "text/plain": [
       "\u001b[32mimport \u001b[39m\u001b[36m$url.$                                                                                                                                           \n",
       "\n",
       "\u001b[39m\n",
       "\u001b[36mtrainNDArray\u001b[39m: \u001b[32mshapeless\u001b[39m.\u001b[32m::\u001b[39m[\u001b[32mINDArray\u001b[39m, \u001b[32mshapeless\u001b[39m.\u001b[32m::\u001b[39m[\u001b[32mINDArray\u001b[39m, \u001b[32mshapeless\u001b[39m.\u001b[32mHNil\u001b[39m]] = [[0.23, 0.17, 0.20, 0.27, 0.38, 0.46, 0.54, 0.57, 0.58, 0.58, 0.51, 0.49, 0.55, 0.56, 0.54, 0.50, 0.54, 0.52, 0.48, 0.54, 0.54, 0.52, 0.53, 0.54, 0.59, 0.64, 0.\u001b[33m...\u001b[39m\n",
       "\u001b[36mtestNDArray\u001b[39m: \u001b[32mshapeless\u001b[39m.\u001b[32m::\u001b[39m[\u001b[32mINDArray\u001b[39m, \u001b[32mshapeless\u001b[39m.\u001b[32m::\u001b[39m[\u001b[32mINDArray\u001b[39m, \u001b[32mshapeless\u001b[39m.\u001b[32mHNil\u001b[39m]] = [[0.62, 0.62, 0.64, 0.65, 0.62, 0.61, 0.63, 0.62, 0.62, 0.62, 0.63, 0.62, 0.63, 0.65, 0.66, 0.66, 0.65, 0.63, 0.62, 0.62, 0.61, 0.58, 0.59, 0.58, 0.58, 0.56, 0.\u001b[33m...\u001b[39m"
      ]
     },
     "execution_count": 12,
     "metadata": {},
     "output_type": "execute_result"
    }
   ],
   "source": [
    "import $url.{`https://raw.githubusercontent.com/ThoughtWorksInc/DeepLearning.scala-website/master/demo/ReadCIFAR10ToNDArray.sc` => ReadCIFAR10ToNDArray}\n",
    "\n",
    "val trainNDArray = ReadCIFAR10ToNDArray.readFromResource(\"/cifar-10-batches-bin/data_batch_1.bin\", 1000)\n",
    "\n",
    "val testNDArray = ReadCIFAR10ToNDArray.readFromResource(\"/cifar-10-batches-bin/test_batch.bin\", 100)"
   ]
  },
  {
   "cell_type": "markdown",
   "metadata": {},
   "source": [
    "### Process data"
   ]
  },
  {
   "cell_type": "markdown",
   "metadata": {},
   "source": [
    "Before passing data to the softmax classifier, we first process label data with ([one hot encoding](https://en.wikipedia.org/wiki/One-hot)): transform INDArray of `NumberOfPixels × 1` into INDArray of `NumberOfPixels × NumberOfClasses`. The value of correct classification corresponding to each line is 1, and the values of other columns are 0. The reason for differentiating the training set and test set is to make it clear that whether the network is over trained which leads to [overfitting](https://en.wikipedia.org/wiki/Overfitting). While processing label data, we used [Utils](https://github.com/ThoughtWorksInc/DeepLearning.scala-website/blob/master/ipynbs/Utils.sc), which is also provided in this course."
   ]
  },
  {
   "cell_type": "code",
   "execution_count": 13,
   "metadata": {},
   "outputs": [
    {
     "name": "stdout",
     "output_type": "stream",
     "text": [
      "Compiling https://raw.githubusercontent.com/ThoughtWorksInc/DeepLearning.scala-website/master/demo/Utils.sc\n"
     ]
    },
    {
     "data": {
      "text/plain": [
       "\u001b[36mtrainData\u001b[39m: \u001b[32mINDArray\u001b[39m = [[0.23, 0.17, 0.20, 0.27, 0.38, 0.46, 0.54, 0.57, 0.58, 0.58, 0.51, 0.49, 0.55, 0.56, 0.54, 0.50, 0.54, 0.52, 0.48, 0.54, 0.54, 0.52, 0.53, 0.54, 0.59, 0.64, 0.\u001b[33m...\u001b[39m\n",
       "\u001b[36mtestData\u001b[39m: \u001b[32mINDArray\u001b[39m = [[0.62, 0.62, 0.64, 0.65, 0.62, 0.61, 0.63, 0.62, 0.62, 0.62, 0.63, 0.62, 0.63, 0.65, 0.66, 0.66, 0.65, 0.63, 0.62, 0.62, 0.61, 0.58, 0.59, 0.58, 0.58, 0.56, 0.\u001b[33m...\u001b[39m\n",
       "\u001b[36mtrainExpectResult\u001b[39m: \u001b[32mINDArray\u001b[39m = [6.00, 9.00, 9.00, 4.00, 1.00, 1.00, 2.00, 7.00, 8.00, 3.00, 4.00, 7.00, 7.00, 2.00, 9.00, 9.00, 9.00, 3.00, 2.00, 6.00, 4.00, 3.00, 6.00, 6.00, 2.00, 6.00, 3.0\u001b[33m...\u001b[39m\n",
       "\u001b[36mtestExpectResult\u001b[39m: \u001b[32mINDArray\u001b[39m = [3.00, 8.00, 8.00, 0.00, 6.00, 6.00, 1.00, 6.00, 3.00, 1.00, 0.00, 9.00, 5.00, 7.00, 9.00, 8.00, 5.00, 7.00, 8.00, 6.00, 7.00, 0.00, 4.00, 9.00, 5.00, 2.00, 4.0\u001b[33m...\u001b[39m\n",
       "\u001b[32mimport \u001b[39m\u001b[36m$url.$                                                                                                             \n",
       "\n",
       "\u001b[39m\n",
       "\u001b[36mvectorizedTrainExpectResult\u001b[39m: \u001b[32mINDArray\u001b[39m = [[0.00, 0.00, 0.00, 0.00, 0.00, 0.00, 1.00, 0.00, 0.00, 0.00],\n",
       " [0.00, 0.00, 0.00, 0.00, 0.00, 0.00, 0.00, 0.00, 0.00, 1.00],\n",
       "\u001b[33m...\u001b[39m\n",
       "\u001b[36mvectorizedTestExpectResult\u001b[39m: \u001b[32mINDArray\u001b[39m = [[0.00, 0.00, 0.00, 1.00, 0.00, 0.00, 0.00, 0.00, 0.00, 0.00],\n",
       " [0.00, 0.00, 0.00, 0.00, 0.00, 0.00, 0.00, 0.00, 1.00, 0.00],\n",
       "\u001b[33m...\u001b[39m"
      ]
     },
     "execution_count": 13,
     "metadata": {},
     "output_type": "execute_result"
    }
   ],
   "source": [
    "val trainData = trainNDArray.head\n",
    "val testData = testNDArray.head\n",
    "\n",
    "val trainExpectResult = trainNDArray.tail.head\n",
    "val testExpectResult = testNDArray.tail.head\n",
    "\n",
    "import $url.{`https://raw.githubusercontent.com/ThoughtWorksInc/DeepLearning.scala-website/master/demo/Utils.sc` => Utils}\n",
    "\n",
    "val vectorizedTrainExpectResult = Utils.makeVectorized(trainExpectResult, NumberOfClasses)\n",
    "val vectorizedTestExpectResult = Utils.makeVectorized(testExpectResult, NumberOfClasses)"
   ]
  },
  {
   "cell_type": "markdown",
   "metadata": {},
   "source": [
    "## Train your neural network"
   ]
  },
  {
   "cell_type": "markdown",
   "metadata": {},
   "source": [
    "To observe the training process of the neural network, we need to output `loss`; while training the neural network, the `loss` shall be decreasing."
   ]
  },
  {
   "cell_type": "code",
   "execution_count": 14,
   "metadata": {},
   "outputs": [
    {
     "data": {
      "text/plain": [
       "\u001b[36mlossSeq\u001b[39m: \u001b[32mIndexedSeq\u001b[39m[\u001b[32mDouble\u001b[39m] = \u001b[33mVector\u001b[39m()\n",
       "\u001b[36mtrainTask\u001b[39m: \u001b[32mTask\u001b[39m[\u001b[32mUnit\u001b[39m] = scalaz.concurrent.Task@7b0ecbce"
      ]
     },
     "execution_count": 14,
     "metadata": {},
     "output_type": "execute_result"
    }
   ],
   "source": [
    "var lossSeq: IndexedSeq[Double] = IndexedSeq.empty\n",
    "\n",
    "@monadic[Task]\n",
    "val trainTask: Task[Unit] = {\n",
    "  val lossStream = for (_ <- (1 to 2000).toStream) yield {\n",
    "    lossFunction(trainData, vectorizedTrainExpectResult).train.each\n",
    "  }\n",
    "  lossSeq = IndexedSeq.concat(lossStream)\n",
    "}"
   ]
  },
  {
   "cell_type": "markdown",
   "metadata": {},
   "source": [
    "## Predict  your Neural Network"
   ]
  },
  {
   "cell_type": "markdown",
   "metadata": {},
   "source": [
    "We use the processed test data to verify the prediction result of the neural network and compute the accuracy. The accuracy shall be about 32%."
   ]
  },
  {
   "cell_type": "code",
   "execution_count": 15,
   "metadata": {},
   "outputs": [
    {
     "data": {
      "text/plain": [
       "\u001b[36mpredictResult\u001b[39m: \u001b[32mTask\u001b[39m[\u001b[32mINDArray\u001b[39m] = scalaz.concurrent.Task@4d518fc"
      ]
     },
     "execution_count": 15,
     "metadata": {},
     "output_type": "execute_result"
    }
   ],
   "source": [
    "val predictResult = throwableMonadic[Task] {\n",
    "  trainTask.each\n",
    "  myNeuralNetwork(testData).predict.each\n",
    "}"
   ]
  },
  {
   "cell_type": "code",
   "execution_count": 16,
   "metadata": {},
   "outputs": [
    {
     "name": "stdout",
     "output_type": "stream",
     "text": [
      "The accuracy is 32.0%\n"
     ]
    }
   ],
   "source": [
    "predictResult.unsafePerformSyncAttempt match {\n",
    "  case -\\/(e) => {\n",
    "    throw e\n",
    "  }\n",
    "  case \\/-(result) =>\n",
    "    println(\"The accuracy is \" + Utils.getAccuracy(result,testExpectResult) + \"%\")\n",
    "}"
   ]
  },
  {
   "cell_type": "code",
   "execution_count": null,
   "metadata": {},
   "outputs": [],
   "source": [
    "plotly.JupyterScala.init()\n",
    "Seq(Scatter(lossSeq.indices, lossSeq)).plot(title = \"loss by time\")"
   ]
  },
  {
   "cell_type": "markdown",
   "metadata": {},
   "source": [
    "## Summary\n",
    "\n",
    "We have learned the follows in this article:\n",
    "\n",
    "* Prepare and process CIFAR10 data\n",
    "* Write softmax classifier\n",
    "* Use the prediction image of the neural network written by softmax classifier to match with the probability of each category."
   ]
  }
 ],
 "metadata": {
  "kernelspec": {
   "display_name": "Scala",
   "language": "scala",
   "name": "scala"
  },
  "language_info": {
   "codemirror_mode": "text/x-scala",
   "file_extension": ".scala",
   "mimetype": "text/x-scala",
   "name": "scala211",
   "nbconvert_exporter": "script",
   "pygments_lexer": "scala",
   "version": "2.11.11"
  }
 },
 "nbformat": 4,
 "nbformat_minor": 2
}
