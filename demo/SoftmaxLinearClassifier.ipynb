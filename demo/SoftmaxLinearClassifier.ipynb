{
 "cells": [
  {
   "cell_type": "markdown",
   "metadata": {},
   "source": [
    "## Background\n",
    "\n",
    "In this article, we will use [softmax](https://en.wikipedia.org/wiki/Softmax_function) classifier to build a simple image classification neural network with an accuracy of 32%. In a Softmax classifier, binary logic is generalized and regressed to multiple logic. Softmax classifier will output the probability of the corresponding category.\n",
    "\n",
    "We will first define a softmax classifier, then use the training set of [CIFAR10](https://www.cs.toronto.edu/~kriz/cifar.html) to train the neural network, and finally use the test set to verify the accuracy of the neural network.\n",
    "\n",
    "Let’s get started."
   ]
  },
  {
   "cell_type": "markdown",
   "metadata": {},
   "source": [
    "## Import dependencies"
   ]
  },
  {
   "cell_type": "markdown",
   "metadata": {},
   "source": [
    "Like the previous course [GettingStarted](https://thoughtworksinc.github.io/DeepLearning.scala/demo/GettingStarted.html), we need to introduce each class of DeepLearning.scala."
   ]
  },
  {
   "cell_type": "code",
   "execution_count": 1,
   "metadata": {},
   "outputs": [
    {
     "data": {
      "text/plain": [
       "\u001b[32mimport \u001b[39m\u001b[36m$ivy.$                     \n",
       "\u001b[39m\n",
       "\u001b[32mimport \u001b[39m\u001b[36m$ivy.$                                    \n",
       "\u001b[39m\n",
       "\u001b[32mimport \u001b[39m\u001b[36m$ivy.$                             \n",
       "\u001b[39m\n",
       "\u001b[32mimport \u001b[39m\u001b[36m$ivy.$                               \n",
       "\u001b[39m\n",
       "\u001b[32mimport \u001b[39m\u001b[36m$ivy.$                                                          \n",
       "\u001b[39m\n",
       "\u001b[32mimport \u001b[39m\u001b[36m$ivy.$                                             \n",
       "\u001b[39m\n",
       "\u001b[32mimport \u001b[39m\u001b[36m$ivy.$                                  \n",
       "\u001b[39m\n",
       "\u001b[32mimport \u001b[39m\u001b[36m$plugin.$                                            \n",
       "\n",
       "\u001b[39m\n",
       "\u001b[32mimport \u001b[39m\u001b[36mscala.concurrent.ExecutionContext.Implicits.global\n",
       "\u001b[39m\n",
       "\u001b[32mimport \u001b[39m\u001b[36morg.nd4j.linalg.api.ndarray.INDArray\n",
       "\u001b[39m\n",
       "\u001b[32mimport \u001b[39m\u001b[36morg.nd4j.linalg.factory.Nd4j\n",
       "\u001b[39m\n",
       "\u001b[32mimport \u001b[39m\u001b[36mcom.thoughtworks.deeplearning.plugins.Builtins\n",
       "\u001b[39m\n",
       "\u001b[32mimport \u001b[39m\u001b[36mcom.thoughtworks.feature.Factory\n",
       "\u001b[39m\n",
       "\u001b[32mimport \u001b[39m\u001b[36mplotly._\n",
       "\u001b[39m\n",
       "\u001b[32mimport \u001b[39m\u001b[36mplotly.element._\n",
       "\u001b[39m\n",
       "\u001b[32mimport \u001b[39m\u001b[36mplotly.layout._\n",
       "\u001b[39m\n",
       "\u001b[32mimport \u001b[39m\u001b[36mplotly.JupyterScala._\n",
       "\u001b[39m\n",
       "\u001b[32mimport \u001b[39m\u001b[36mcom.thoughtworks.future._\n",
       "\u001b[39m\n",
       "\u001b[32mimport \u001b[39m\u001b[36mscala.concurrent.Await\n",
       "\u001b[39m\n",
       "\u001b[32mimport \u001b[39m\u001b[36mscala.concurrent.duration.Duration\n",
       "\u001b[39m\n",
       "\u001b[32mimport \u001b[39m\u001b[36mcom.thoughtworks.each.Monadic._\n",
       "\u001b[39m\n",
       "\u001b[32mimport \u001b[39m\u001b[36mscalaz.std.stream._\u001b[39m"
      ]
     },
     "execution_count": 1,
     "metadata": {},
     "output_type": "execute_result"
    }
   ],
   "source": [
    "import $ivy.`org.nd4j::nd4s:0.8.0`\n",
    "import $ivy.`org.nd4j:nd4j-native-platform:0.8.0`\n",
    "import $ivy.`com.chuusai::shapeless:2.3.2`\n",
    "import $ivy.`org.rauschig:jarchivelib:0.5.0`\n",
    "import $ivy.`com.thoughtworks.deeplearning::plugins-builtins:2.0.0-RC7`\n",
    "import $ivy.`org.plotly-scala::plotly-jupyter-scala:0.3.2`\n",
    "import $ivy.`com.thoughtworks.each::each:3.3.1`\n",
    "import $plugin.$ivy.`org.scalamacros:paradise_2.11.11:2.1.0`\n",
    "\n",
    "import scala.concurrent.ExecutionContext.Implicits.global\n",
    "import org.nd4j.linalg.api.ndarray.INDArray\n",
    "import org.nd4j.linalg.factory.Nd4j\n",
    "import com.thoughtworks.deeplearning.plugins.Builtins\n",
    "import com.thoughtworks.feature.Factory\n",
    "import plotly._\n",
    "import plotly.element._\n",
    "import plotly.layout._\n",
    "import plotly.JupyterScala._\n",
    "import com.thoughtworks.future._\n",
    "import scala.concurrent.Await\n",
    "import scala.concurrent.duration.Duration\n",
    "import com.thoughtworks.each.Monadic._\n",
    "import scalaz.std.stream._"
   ]
  },
  {
   "cell_type": "markdown",
   "metadata": {},
   "source": [
    "To reduce the line numbers outputted by `jupyter-scala` and to make sure that the page output will not be too long, we need to set `pprintConfig`."
   ]
  },
  {
   "cell_type": "code",
   "execution_count": 2,
   "metadata": {
    "collapsed": true
   },
   "outputs": [],
   "source": [
    "pprintConfig() = pprintConfig().copy(height = 2)"
   ]
  },
  {
   "cell_type": "markdown",
   "metadata": {},
   "source": [
    "## Build your own neural network."
   ]
  },
  {
   "cell_type": "markdown",
   "metadata": {},
   "source": [
    "### Set learning rate"
   ]
  },
  {
   "cell_type": "markdown",
   "metadata": {},
   "source": [
    "Learning rate need to be set for the full connection layer. Learning rate visually describes the change rate of `weight`. A too-low learning rate will result in slow decrease of `loss`, which will require longer time for training; A too-high learning rate will result in rapid decrease of `loss` at first while fluctuation around the lowest point afterward."
   ]
  },
  {
   "cell_type": "code",
   "execution_count": 4,
   "metadata": {},
   "outputs": [
    {
     "data": {
      "text/plain": [
       "\u001b[36mINDArrayLearningRatePluginUrl\u001b[39m: \u001b[32mString\u001b[39m = \u001b[32m\"https://gist.githubusercontent.com/TerrorJack/118487016d7973d67feb489449dee156/raw/778bb1b68a664c752b0945111220326731310214/INDArrayLearningRate.sc\"\u001b[39m"
      ]
     },
     "execution_count": 4,
     "metadata": {},
     "output_type": "execute_result"
    }
   ],
   "source": [
    "val INDArrayLearningRatePluginUrl = \"https://gist.githubusercontent.com/TerrorJack/118487016d7973d67feb489449dee156/raw/778bb1b68a664c752b0945111220326731310214/INDArrayLearningRate.sc\"\n",
    "interp.load(scala.io.Source.fromURL(new java.net.URL(INDArrayLearningRatePluginUrl)).mkString)"
   ]
  },
  {
   "cell_type": "code",
   "execution_count": 6,
   "metadata": {
    "collapsed": true
   },
   "outputs": [],
   "source": [
    "// `interp.load` is a workaround for https://github.com/lihaoyi/Ammonite/issues/649 and https://github.com/scala/bug/issues/10390\n",
    "interp.load(\"\"\"\n",
    "  val hyperparameters = Factory[Builtins with INDArrayLearningRate].newInstance(learningRate = 0.1)\n",
    "\"\"\")"
   ]
  },
  {
   "cell_type": "markdown",
   "metadata": {},
   "source": [
    "### Write softmax"
   ]
  },
  {
   "cell_type": "markdown",
   "metadata": {},
   "source": [
    "To use `softmax` classifier (softmax classifier is a neural network combined by `softmax` and a full connection), we first need to write softmax function, formula: ![](https://www.zhihu.com/equation?tex=f_j%28z%29%3D%5Cfrac%7Be%5E%7Bz_j%7D%7D%7B%5Csum_ke%5E%7Bz_k%7D%7D)"
   ]
  },
  {
   "cell_type": "code",
   "execution_count": 7,
   "metadata": {},
   "outputs": [
    {
     "data": {
      "text/plain": [
       "\u001b[32mimport \u001b[39m\u001b[36mhyperparameters.implicits._\u001b[39m"
      ]
     },
     "execution_count": 7,
     "metadata": {},
     "output_type": "execute_result"
    }
   ],
   "source": [
    "import hyperparameters.implicits._"
   ]
  },
  {
   "cell_type": "code",
   "execution_count": 8,
   "metadata": {},
   "outputs": [
    {
     "data": {
      "text/plain": [
       "\u001b[32mimport \u001b[39m\u001b[36mhyperparameters.INDArrayLayer\n",
       "\n",
       "\u001b[39m\n",
       "defined \u001b[32mfunction\u001b[39m \u001b[36msoftmax\u001b[39m"
      ]
     },
     "execution_count": 8,
     "metadata": {},
     "output_type": "execute_result"
    }
   ],
   "source": [
    "import hyperparameters.INDArrayLayer\n",
    "\n",
    "def softmax(scores: INDArrayLayer): INDArrayLayer = {\n",
    "  val expScores = hyperparameters.exp(scores)\n",
    "  expScores / expScores.sum(1)\n",
    "}"
   ]
  },
  {
   "cell_type": "markdown",
   "metadata": {},
   "source": [
    "### Compose your  neural network"
   ]
  },
  {
   "cell_type": "markdown",
   "metadata": {},
   "source": [
    "Define a full connection layer and [initialize Weight](https://github.com/ThoughtWorksInc/DeepLearning.scala/wiki/Getting-Started#231--weight-intialization), `Weight` shall be a two-dimension `INDArray` of `NumberOfPixels × NumberOfClasses`. `scores` is the score of each image corresponding to each category, representing the feasible probability of each category corresponding to each image."
   ]
  },
  {
   "cell_type": "code",
   "execution_count": 9,
   "metadata": {},
   "outputs": [
    {
     "data": {
      "text/plain": [
       "\u001b[36mNumberOfClasses\u001b[39m: \u001b[32mInt\u001b[39m = \u001b[32m10\u001b[39m\n",
       "\u001b[36mNumberOfPixels\u001b[39m: \u001b[32mInt\u001b[39m = \u001b[32m3072\u001b[39m"
      ]
     },
     "execution_count": 9,
     "metadata": {},
     "output_type": "execute_result"
    }
   ],
   "source": [
    "//10 label of CIFAR10 images(airplane,automobile,bird,cat,deer,dog,frog,horse,ship,truck)\n",
    "val NumberOfClasses: Int = 10\n",
    "val NumberOfPixels: Int = 3072"
   ]
  },
  {
   "cell_type": "code",
   "execution_count": 10,
   "metadata": {},
   "outputs": [
    {
     "name": "stderr",
     "output_type": "stream",
     "text": [
      "SLF4J: Failed to load class \"org.slf4j.impl.StaticLoggerBinder\".\n",
      "SLF4J: Defaulting to no-operation (NOP) logger implementation\n",
      "SLF4J: See http://www.slf4j.org/codes.html#StaticLoggerBinder for further details.\n"
     ]
    },
    {
     "data": {
      "text/plain": [
       "\u001b[32mimport \u001b[39m\u001b[36mhyperparameters.INDArrayWeight\n",
       "\n",
       "\u001b[39m\n",
       "\u001b[36mweight\u001b[39m: \u001b[32mObject\u001b[39m with \u001b[32mhyperparameters\u001b[39m.\u001b[32mINDArrayWeightApi\u001b[39m with \u001b[32mhyperparameters\u001b[39m.\u001b[32mWeightApi\u001b[39m with \u001b[32mhyperparameters\u001b[39m.\u001b[32mWeightApi\u001b[39m = Weight[fullName=$sess.cmd9Wrapper.Helper.weight]\n",
       "defined \u001b[32mfunction\u001b[39m \u001b[36mmyNeuralNetwork\u001b[39m"
      ]
     },
     "execution_count": 10,
     "metadata": {},
     "output_type": "execute_result"
    }
   ],
   "source": [
    "import hyperparameters.INDArrayWeight\n",
    "\n",
    "val weight = {\n",
    "    import org.nd4s.Implicits._\n",
    "    INDArrayWeight(Nd4j.randn(NumberOfPixels, NumberOfClasses) * 0.001)\n",
    "}\n",
    "\n",
    "def myNeuralNetwork(input: INDArray): INDArrayLayer = {\n",
    "    softmax(input.dot(weight))\n",
    "}"
   ]
  },
  {
   "cell_type": "markdown",
   "metadata": {},
   "source": [
    "### Create LossFunction"
   ]
  },
  {
   "cell_type": "markdown",
   "metadata": {},
   "source": [
    "To learn about the prediction result of the neural network, we need to write the loss function `lossFunction`. We use [cross-entropy loss](https://en.wikipedia.org/wiki/Cross_entropy) to make comparison between this result and the actual result before return the score. Formula:\n",
    "![](https://zhihu.com/equation?tex=%5Cdisplaystyle+H%28p%2Cq%29%3D-%5Csum_xp%28x%29+logq%28x%29)"
   ]
  },
  {
   "cell_type": "code",
   "execution_count": 11,
   "metadata": {},
   "outputs": [
    {
     "data": {
      "text/plain": [
       "\u001b[32mimport \u001b[39m\u001b[36mhyperparameters.DoubleLayer\n",
       "\n",
       "\u001b[39m\n",
       "defined \u001b[32mfunction\u001b[39m \u001b[36mlossFunction\u001b[39m"
      ]
     },
     "execution_count": 11,
     "metadata": {},
     "output_type": "execute_result"
    }
   ],
   "source": [
    "import hyperparameters.DoubleLayer\n",
    "\n",
    "def lossFunction(input: INDArray, expectOutput: INDArray): DoubleLayer = {\n",
    "    val probabilities = myNeuralNetwork(input)\n",
    "    -(hyperparameters.log(probabilities) * expectOutput).mean\n",
    "}"
   ]
  },
  {
   "cell_type": "markdown",
   "metadata": {},
   "source": [
    "## Prepare data"
   ]
  },
  {
   "cell_type": "markdown",
   "metadata": {},
   "source": [
    "### Read data"
   ]
  },
  {
   "cell_type": "markdown",
   "metadata": {},
   "source": [
    "To read the images and corresponding label information for test data from CIFAR10 database and process them, we need [`import $file.ReadCIFAR10ToNDArray`](https://github.com/ThoughtWorksInc/DeepLearning.scala-website/blob/master/ipynbs/ReadCIFAR10ToNDArray.sc). This is a script file containing the read and processed CIFAR10 data, provided in this course."
   ]
  },
  {
   "cell_type": "code",
   "execution_count": 12,
   "metadata": {},
   "outputs": [
    {
     "name": "stdout",
     "output_type": "stream",
     "text": [
      "Compiling https://raw.githubusercontent.com/ThoughtWorksInc/DeepLearning.scala-website/master/demo/ReadCIFAR10ToNDArray.sc\n"
     ]
    },
    {
     "data": {
      "text/plain": [
       "\u001b[32mimport \u001b[39m\u001b[36m$url.$                                                                                                                                           \n",
       "\n",
       "\u001b[39m\n",
       "\u001b[36mtrainNDArray\u001b[39m: \u001b[32mshapeless\u001b[39m.\u001b[32m::\u001b[39m[\u001b[32mINDArray\u001b[39m, \u001b[32mshapeless\u001b[39m.\u001b[32m::\u001b[39m[\u001b[32mINDArray\u001b[39m, \u001b[32mshapeless\u001b[39m.\u001b[32mHNil\u001b[39m]] = [[0.23, 0.17, 0.20, 0.27, 0.38, 0.46, 0.54, 0.57, 0.58, 0.58, 0.51, 0.49, 0.55, 0.56, 0.54, 0.50, 0.54, 0.52, 0.48, 0.54, 0.54, 0.52, 0.53, 0.54, 0.59, 0.64, 0.\u001b[33m...\u001b[39m\n",
       "\u001b[36mtestNDArray\u001b[39m: \u001b[32mshapeless\u001b[39m.\u001b[32m::\u001b[39m[\u001b[32mINDArray\u001b[39m, \u001b[32mshapeless\u001b[39m.\u001b[32m::\u001b[39m[\u001b[32mINDArray\u001b[39m, \u001b[32mshapeless\u001b[39m.\u001b[32mHNil\u001b[39m]] = [[0.62, 0.62, 0.64, 0.65, 0.62, 0.61, 0.63, 0.62, 0.62, 0.62, 0.63, 0.62, 0.63, 0.65, 0.66, 0.66, 0.65, 0.63, 0.62, 0.62, 0.61, 0.58, 0.59, 0.58, 0.58, 0.56, 0.\u001b[33m...\u001b[39m"
      ]
     },
     "execution_count": 12,
     "metadata": {},
     "output_type": "execute_result"
    }
   ],
   "source": [
    "import $url.{`https://raw.githubusercontent.com/ThoughtWorksInc/DeepLearning.scala-website/master/demo/ReadCIFAR10ToNDArray.sc` => ReadCIFAR10ToNDArray}\n",
    "\n",
    "val trainNDArray = ReadCIFAR10ToNDArray.readFromResource(\"/cifar-10-batches-bin/data_batch_1.bin\", 1000)\n",
    "\n",
    "val testNDArray = ReadCIFAR10ToNDArray.readFromResource(\"/cifar-10-batches-bin/test_batch.bin\", 100)"
   ]
  },
  {
   "cell_type": "markdown",
   "metadata": {},
   "source": [
    "### Process data"
   ]
  },
  {
   "cell_type": "markdown",
   "metadata": {},
   "source": [
    "Before passing data to the softmax classifier, we first process label data with ([one hot encoding](https://en.wikipedia.org/wiki/One-hot)): transform INDArray of `NumberOfPixels × 1` into INDArray of `NumberOfPixels × NumberOfClasses`. The value of correct classification corresponding to each line is 1, and the values of other columns are 0. The reason for differentiating the training set and test set is to make it clear that whether the network is over trained which leads to [overfitting](https://en.wikipedia.org/wiki/Overfitting). While processing label data, we used [Utils](https://github.com/ThoughtWorksInc/DeepLearning.scala-website/blob/master/ipynbs/Utils.sc), which is also provided in this course."
   ]
  },
  {
   "cell_type": "code",
   "execution_count": 13,
   "metadata": {},
   "outputs": [
    {
     "name": "stdout",
     "output_type": "stream",
     "text": [
      "Compiling https://raw.githubusercontent.com/ThoughtWorksInc/DeepLearning.scala-website/master/demo/Utils.sc\n"
     ]
    },
    {
     "data": {
      "text/plain": [
       "\u001b[36mtrainData\u001b[39m: \u001b[32mINDArray\u001b[39m = [[0.23, 0.17, 0.20, 0.27, 0.38, 0.46, 0.54, 0.57, 0.58, 0.58, 0.51, 0.49, 0.55, 0.56, 0.54, 0.50, 0.54, 0.52, 0.48, 0.54, 0.54, 0.52, 0.53, 0.54, 0.59, 0.64, 0.\u001b[33m...\u001b[39m\n",
       "\u001b[36mtestData\u001b[39m: \u001b[32mINDArray\u001b[39m = [[0.62, 0.62, 0.64, 0.65, 0.62, 0.61, 0.63, 0.62, 0.62, 0.62, 0.63, 0.62, 0.63, 0.65, 0.66, 0.66, 0.65, 0.63, 0.62, 0.62, 0.61, 0.58, 0.59, 0.58, 0.58, 0.56, 0.\u001b[33m...\u001b[39m\n",
       "\u001b[36mtrainExpectResult\u001b[39m: \u001b[32mINDArray\u001b[39m = [6.00, 9.00, 9.00, 4.00, 1.00, 1.00, 2.00, 7.00, 8.00, 3.00, 4.00, 7.00, 7.00, 2.00, 9.00, 9.00, 9.00, 3.00, 2.00, 6.00, 4.00, 3.00, 6.00, 6.00, 2.00, 6.00, 3.0\u001b[33m...\u001b[39m\n",
       "\u001b[36mtestExpectResult\u001b[39m: \u001b[32mINDArray\u001b[39m = [3.00, 8.00, 8.00, 0.00, 6.00, 6.00, 1.00, 6.00, 3.00, 1.00, 0.00, 9.00, 5.00, 7.00, 9.00, 8.00, 5.00, 7.00, 8.00, 6.00, 7.00, 0.00, 4.00, 9.00, 5.00, 2.00, 4.0\u001b[33m...\u001b[39m\n",
       "\u001b[32mimport \u001b[39m\u001b[36m$url.$                                                                                                             \n",
       "\n",
       "\u001b[39m\n",
       "\u001b[36mvectorizedTrainExpectResult\u001b[39m: \u001b[32mINDArray\u001b[39m = [[0.00, 0.00, 0.00, 0.00, 0.00, 0.00, 1.00, 0.00, 0.00, 0.00],\n",
       " [0.00, 0.00, 0.00, 0.00, 0.00, 0.00, 0.00, 0.00, 0.00, 1.00],\n",
       "\u001b[33m...\u001b[39m\n",
       "\u001b[36mvectorizedTestExpectResult\u001b[39m: \u001b[32mINDArray\u001b[39m = [[0.00, 0.00, 0.00, 1.00, 0.00, 0.00, 0.00, 0.00, 0.00, 0.00],\n",
       " [0.00, 0.00, 0.00, 0.00, 0.00, 0.00, 0.00, 0.00, 1.00, 0.00],\n",
       "\u001b[33m...\u001b[39m"
      ]
     },
     "execution_count": 13,
     "metadata": {},
     "output_type": "execute_result"
    }
   ],
   "source": [
    "val trainData = trainNDArray.head\n",
    "val testData = testNDArray.head\n",
    "\n",
    "val trainExpectResult = trainNDArray.tail.head\n",
    "val testExpectResult = testNDArray.tail.head\n",
    "\n",
    "import $url.{`https://raw.githubusercontent.com/ThoughtWorksInc/DeepLearning.scala-website/master/demo/Utils.sc` => Utils}\n",
    "\n",
    "val vectorizedTrainExpectResult = Utils.makeVectorized(trainExpectResult, NumberOfClasses)\n",
    "val vectorizedTestExpectResult = Utils.makeVectorized(testExpectResult, NumberOfClasses)"
   ]
  },
  {
   "cell_type": "markdown",
   "metadata": {},
   "source": [
    "## Train your neural network"
   ]
  },
  {
   "cell_type": "markdown",
   "metadata": {},
   "source": [
    "To observe the training process of the neural network, we need to output `loss`; while training the neural network, the `loss` shall be decreasing."
   ]
  },
  {
   "cell_type": "code",
   "execution_count": 14,
   "metadata": {},
   "outputs": [
    {
     "data": {
      "text/plain": [
       "\u001b[36mlossSeq\u001b[39m: \u001b[32mIndexedSeq\u001b[39m[\u001b[32mDouble\u001b[39m] = \u001b[33mVector\u001b[39m()\n",
       "\u001b[36mtrainTask\u001b[39m: \u001b[32mFuture\u001b[39m[\u001b[32mUnit\u001b[39m] = scalaz.IndexedContsT@742f84b8"
      ]
     },
     "execution_count": 14,
     "metadata": {},
     "output_type": "execute_result"
    }
   ],
   "source": [
    "var lossSeq: IndexedSeq[Double] = IndexedSeq.empty\n",
    "\n",
    "@monadic[Future]\n",
    "val trainTask: Future[Unit] = {\n",
    "  val lossStream = for (_ <- (1 to 2000).toStream) yield {\n",
    "    lossFunction(trainData, vectorizedTrainExpectResult).train.each\n",
    "  }\n",
    "  lossSeq = IndexedSeq.concat(lossStream)\n",
    "}"
   ]
  },
  {
   "cell_type": "markdown",
   "metadata": {},
   "source": [
    "## Predict  your Neural Network"
   ]
  },
  {
   "cell_type": "markdown",
   "metadata": {},
   "source": [
    "We use the processed test data to verify the prediction result of the neural network and compute the accuracy. The accuracy shall be about 32%."
   ]
  },
  {
   "cell_type": "code",
   "execution_count": 15,
   "metadata": {
    "collapsed": true
   },
   "outputs": [],
   "source": [
    "Await.result(trainTask.toScalaFuture, Duration.Inf)"
   ]
  },
  {
   "cell_type": "code",
   "execution_count": 16,
   "metadata": {},
   "outputs": [
    {
     "name": "stdout",
     "output_type": "stream",
     "text": [
      "The accuracy is 32.0%\n"
     ]
    },
    {
     "data": {
      "text/plain": [
       "\u001b[36mpredictResult\u001b[39m: \u001b[32mINDArray\u001b[39m = [[0.03, 0.05, 0.17, 0.13, 0.01, 0.13, 0.43, 0.00, 0.04, 0.00],\n",
       " [0.03, 0.17, 0.00, 0.05, 0.00, 0.01, 0.00, 0.00, 0.18, 0.55],\n",
       "\u001b[33m...\u001b[39m"
      ]
     },
     "execution_count": 16,
     "metadata": {},
     "output_type": "execute_result"
    }
   ],
   "source": [
    "val predictResult = Await.result(myNeuralNetwork(testData).predict.toScalaFuture, Duration.Inf)\n",
    "println(\"The accuracy is \" + Utils.getAccuracy(predictResult,testExpectResult) + \"%\")"
   ]
  },
  {
   "cell_type": "code",
   "execution_count": 17,
   "metadata": {},
   "outputs": [
    {
     "data": {
      "text/html": [
       "\n",
       "      <script type=\"text/javascript\">\n",
       "        require.config({\n",
       "  paths: {\n",
       "    d3: 'https://cdnjs.cloudflare.com/ajax/libs/d3/3.5.17/d3.min',\n",
       "    plotly: 'https://cdn.plot.ly/plotly-1.12.0.min'\n",
       "  },\n",
       "\n",
       "  shim: {\n",
       "    plotly: {\n",
       "      deps: ['d3', 'jquery'],\n",
       "      exports: 'plotly'\n",
       "    }\n",
       "  }\n",
       "});\n",
       "        \n",
       "\n",
       "        require(['plotly'], function(Plotly) {\n",
       "          window.Plotly = Plotly;\n",
       "        });\n",
       "      </script>\n",
       "    "
      ]
     },
     "metadata": {},
     "output_type": "display_data"
    },
    {
     "data": {
      "text/html": [
       "<div class=\"chart\" id=\"plot-1735024577\"></div>"
      ]
     },
     "metadata": {},
     "output_type": "display_data"
    },
    {
     "data": {
      "application/javascript": [
       "requirejs([\"plotly\"], function(Plotly) {\n",
       "  (function () {\n",
       "  var data0 = {\"type\":\"scatter\",\"x\":[0.0,1.0,2.0,3.0,4.0,5.0,6.0,7.0,8.0,9.0,10.0,11.0,12.0,13.0,14.0,15.0,16.0,17.0,18.0,19.0,20.0,21.0,22.0,23.0,24.0,25.0,26.0,27.0,28.0,29.0,30.0,31.0,32.0,33.0,34.0,35.0,36.0,37.0,38.0,39.0,40.0,41.0,42.0,43.0,44.0,45.0,46.0,47.0,48.0,49.0,50.0,51.0,52.0,53.0,54.0,55.0,56.0,57.0,58.0,59.0,60.0,61.0,62.0,63.0,64.0,65.0,66.0,67.0,68.0,69.0,70.0,71.0,72.0,73.0,74.0,75.0,76.0,77.0,78.0,79.0,80.0,81.0,82.0,83.0,84.0,85.0,86.0,87.0,88.0,89.0,90.0,91.0,92.0,93.0,94.0,95.0,96.0,97.0,98.0,99.0,100.0,101.0,102.0,103.0,104.0,105.0,106.0,107.0,108.0,109.0,110.0,111.0,112.0,113.0,114.0,115.0,116.0,117.0,118.0,119.0,120.0,121.0,122.0,123.0,124.0,125.0,126.0,127.0,128.0,129.0,130.0,131.0,132.0,133.0,134.0,135.0,136.0,137.0,138.0,139.0,140.0,141.0,142.0,143.0,144.0,145.0,146.0,147.0,148.0,149.0,150.0,151.0,152.0,153.0,154.0,155.0,156.0,157.0,158.0,159.0,160.0,161.0,162.0,163.0,164.0,165.0,166.0,167.0,168.0,169.0,170.0,171.0,172.0,173.0,174.0,175.0,176.0,177.0,178.0,179.0,180.0,181.0,182.0,183.0,184.0,185.0,186.0,187.0,188.0,189.0,190.0,191.0,192.0,193.0,194.0,195.0,196.0,197.0,198.0,199.0,200.0,201.0,202.0,203.0,204.0,205.0,206.0,207.0,208.0,209.0,210.0,211.0,212.0,213.0,214.0,215.0,216.0,217.0,218.0,219.0,220.0,221.0,222.0,223.0,224.0,225.0,226.0,227.0,228.0,229.0,230.0,231.0,232.0,233.0,234.0,235.0,236.0,237.0,238.0,239.0,240.0,241.0,242.0,243.0,244.0,245.0,246.0,247.0,248.0,249.0,250.0,251.0,252.0,253.0,254.0,255.0,256.0,257.0,258.0,259.0,260.0,261.0,262.0,263.0,264.0,265.0,266.0,267.0,268.0,269.0,270.0,271.0,272.0,273.0,274.0,275.0,276.0,277.0,278.0,279.0,280.0,281.0,282.0,283.0,284.0,285.0,286.0,287.0,288.0,289.0,290.0,291.0,292.0,293.0,294.0,295.0,296.0,297.0,298.0,299.0,300.0,301.0,302.0,303.0,304.0,305.0,306.0,307.0,308.0,309.0,310.0,311.0,312.0,313.0,314.0,315.0,316.0,317.0,318.0,319.0,320.0,321.0,322.0,323.0,324.0,325.0,326.0,327.0,328.0,329.0,330.0,331.0,332.0,333.0,334.0,335.0,336.0,337.0,338.0,339.0,340.0,341.0,342.0,343.0,344.0,345.0,346.0,347.0,348.0,349.0,350.0,351.0,352.0,353.0,354.0,355.0,356.0,357.0,358.0,359.0,360.0,361.0,362.0,363.0,364.0,365.0,366.0,367.0,368.0,369.0,370.0,371.0,372.0,373.0,374.0,375.0,376.0,377.0,378.0,379.0,380.0,381.0,382.0,383.0,384.0,385.0,386.0,387.0,388.0,389.0,390.0,391.0,392.0,393.0,394.0,395.0,396.0,397.0,398.0,399.0,400.0,401.0,402.0,403.0,404.0,405.0,406.0,407.0,408.0,409.0,410.0,411.0,412.0,413.0,414.0,415.0,416.0,417.0,418.0,419.0,420.0,421.0,422.0,423.0,424.0,425.0,426.0,427.0,428.0,429.0,430.0,431.0,432.0,433.0,434.0,435.0,436.0,437.0,438.0,439.0,440.0,441.0,442.0,443.0,444.0,445.0,446.0,447.0,448.0,449.0,450.0,451.0,452.0,453.0,454.0,455.0,456.0,457.0,458.0,459.0,460.0,461.0,462.0,463.0,464.0,465.0,466.0,467.0,468.0,469.0,470.0,471.0,472.0,473.0,474.0,475.0,476.0,477.0,478.0,479.0,480.0,481.0,482.0,483.0,484.0,485.0,486.0,487.0,488.0,489.0,490.0,491.0,492.0,493.0,494.0,495.0,496.0,497.0,498.0,499.0,500.0,501.0,502.0,503.0,504.0,505.0,506.0,507.0,508.0,509.0,510.0,511.0,512.0,513.0,514.0,515.0,516.0,517.0,518.0,519.0,520.0,521.0,522.0,523.0,524.0,525.0,526.0,527.0,528.0,529.0,530.0,531.0,532.0,533.0,534.0,535.0,536.0,537.0,538.0,539.0,540.0,541.0,542.0,543.0,544.0,545.0,546.0,547.0,548.0,549.0,550.0,551.0,552.0,553.0,554.0,555.0,556.0,557.0,558.0,559.0,560.0,561.0,562.0,563.0,564.0,565.0,566.0,567.0,568.0,569.0,570.0,571.0,572.0,573.0,574.0,575.0,576.0,577.0,578.0,579.0,580.0,581.0,582.0,583.0,584.0,585.0,586.0,587.0,588.0,589.0,590.0,591.0,592.0,593.0,594.0,595.0,596.0,597.0,598.0,599.0,600.0,601.0,602.0,603.0,604.0,605.0,606.0,607.0,608.0,609.0,610.0,611.0,612.0,613.0,614.0,615.0,616.0,617.0,618.0,619.0,620.0,621.0,622.0,623.0,624.0,625.0,626.0,627.0,628.0,629.0,630.0,631.0,632.0,633.0,634.0,635.0,636.0,637.0,638.0,639.0,640.0,641.0,642.0,643.0,644.0,645.0,646.0,647.0,648.0,649.0,650.0,651.0,652.0,653.0,654.0,655.0,656.0,657.0,658.0,659.0,660.0,661.0,662.0,663.0,664.0,665.0,666.0,667.0,668.0,669.0,670.0,671.0,672.0,673.0,674.0,675.0,676.0,677.0,678.0,679.0,680.0,681.0,682.0,683.0,684.0,685.0,686.0,687.0,688.0,689.0,690.0,691.0,692.0,693.0,694.0,695.0,696.0,697.0,698.0,699.0,700.0,701.0,702.0,703.0,704.0,705.0,706.0,707.0,708.0,709.0,710.0,711.0,712.0,713.0,714.0,715.0,716.0,717.0,718.0,719.0,720.0,721.0,722.0,723.0,724.0,725.0,726.0,727.0,728.0,729.0,730.0,731.0,732.0,733.0,734.0,735.0,736.0,737.0,738.0,739.0,740.0,741.0,742.0,743.0,744.0,745.0,746.0,747.0,748.0,749.0,750.0,751.0,752.0,753.0,754.0,755.0,756.0,757.0,758.0,759.0,760.0,761.0,762.0,763.0,764.0,765.0,766.0,767.0,768.0,769.0,770.0,771.0,772.0,773.0,774.0,775.0,776.0,777.0,778.0,779.0,780.0,781.0,782.0,783.0,784.0,785.0,786.0,787.0,788.0,789.0,790.0,791.0,792.0,793.0,794.0,795.0,796.0,797.0,798.0,799.0,800.0,801.0,802.0,803.0,804.0,805.0,806.0,807.0,808.0,809.0,810.0,811.0,812.0,813.0,814.0,815.0,816.0,817.0,818.0,819.0,820.0,821.0,822.0,823.0,824.0,825.0,826.0,827.0,828.0,829.0,830.0,831.0,832.0,833.0,834.0,835.0,836.0,837.0,838.0,839.0,840.0,841.0,842.0,843.0,844.0,845.0,846.0,847.0,848.0,849.0,850.0,851.0,852.0,853.0,854.0,855.0,856.0,857.0,858.0,859.0,860.0,861.0,862.0,863.0,864.0,865.0,866.0,867.0,868.0,869.0,870.0,871.0,872.0,873.0,874.0,875.0,876.0,877.0,878.0,879.0,880.0,881.0,882.0,883.0,884.0,885.0,886.0,887.0,888.0,889.0,890.0,891.0,892.0,893.0,894.0,895.0,896.0,897.0,898.0,899.0,900.0,901.0,902.0,903.0,904.0,905.0,906.0,907.0,908.0,909.0,910.0,911.0,912.0,913.0,914.0,915.0,916.0,917.0,918.0,919.0,920.0,921.0,922.0,923.0,924.0,925.0,926.0,927.0,928.0,929.0,930.0,931.0,932.0,933.0,934.0,935.0,936.0,937.0,938.0,939.0,940.0,941.0,942.0,943.0,944.0,945.0,946.0,947.0,948.0,949.0,950.0,951.0,952.0,953.0,954.0,955.0,956.0,957.0,958.0,959.0,960.0,961.0,962.0,963.0,964.0,965.0,966.0,967.0,968.0,969.0,970.0,971.0,972.0,973.0,974.0,975.0,976.0,977.0,978.0,979.0,980.0,981.0,982.0,983.0,984.0,985.0,986.0,987.0,988.0,989.0,990.0,991.0,992.0,993.0,994.0,995.0,996.0,997.0,998.0,999.0,1000.0,1001.0,1002.0,1003.0,1004.0,1005.0,1006.0,1007.0,1008.0,1009.0,1010.0,1011.0,1012.0,1013.0,1014.0,1015.0,1016.0,1017.0,1018.0,1019.0,1020.0,1021.0,1022.0,1023.0,1024.0,1025.0,1026.0,1027.0,1028.0,1029.0,1030.0,1031.0,1032.0,1033.0,1034.0,1035.0,1036.0,1037.0,1038.0,1039.0,1040.0,1041.0,1042.0,1043.0,1044.0,1045.0,1046.0,1047.0,1048.0,1049.0,1050.0,1051.0,1052.0,1053.0,1054.0,1055.0,1056.0,1057.0,1058.0,1059.0,1060.0,1061.0,1062.0,1063.0,1064.0,1065.0,1066.0,1067.0,1068.0,1069.0,1070.0,1071.0,1072.0,1073.0,1074.0,1075.0,1076.0,1077.0,1078.0,1079.0,1080.0,1081.0,1082.0,1083.0,1084.0,1085.0,1086.0,1087.0,1088.0,1089.0,1090.0,1091.0,1092.0,1093.0,1094.0,1095.0,1096.0,1097.0,1098.0,1099.0,1100.0,1101.0,1102.0,1103.0,1104.0,1105.0,1106.0,1107.0,1108.0,1109.0,1110.0,1111.0,1112.0,1113.0,1114.0,1115.0,1116.0,1117.0,1118.0,1119.0,1120.0,1121.0,1122.0,1123.0,1124.0,1125.0,1126.0,1127.0,1128.0,1129.0,1130.0,1131.0,1132.0,1133.0,1134.0,1135.0,1136.0,1137.0,1138.0,1139.0,1140.0,1141.0,1142.0,1143.0,1144.0,1145.0,1146.0,1147.0,1148.0,1149.0,1150.0,1151.0,1152.0,1153.0,1154.0,1155.0,1156.0,1157.0,1158.0,1159.0,1160.0,1161.0,1162.0,1163.0,1164.0,1165.0,1166.0,1167.0,1168.0,1169.0,1170.0,1171.0,1172.0,1173.0,1174.0,1175.0,1176.0,1177.0,1178.0,1179.0,1180.0,1181.0,1182.0,1183.0,1184.0,1185.0,1186.0,1187.0,1188.0,1189.0,1190.0,1191.0,1192.0,1193.0,1194.0,1195.0,1196.0,1197.0,1198.0,1199.0,1200.0,1201.0,1202.0,1203.0,1204.0,1205.0,1206.0,1207.0,1208.0,1209.0,1210.0,1211.0,1212.0,1213.0,1214.0,1215.0,1216.0,1217.0,1218.0,1219.0,1220.0,1221.0,1222.0,1223.0,1224.0,1225.0,1226.0,1227.0,1228.0,1229.0,1230.0,1231.0,1232.0,1233.0,1234.0,1235.0,1236.0,1237.0,1238.0,1239.0,1240.0,1241.0,1242.0,1243.0,1244.0,1245.0,1246.0,1247.0,1248.0,1249.0,1250.0,1251.0,1252.0,1253.0,1254.0,1255.0,1256.0,1257.0,1258.0,1259.0,1260.0,1261.0,1262.0,1263.0,1264.0,1265.0,1266.0,1267.0,1268.0,1269.0,1270.0,1271.0,1272.0,1273.0,1274.0,1275.0,1276.0,1277.0,1278.0,1279.0,1280.0,1281.0,1282.0,1283.0,1284.0,1285.0,1286.0,1287.0,1288.0,1289.0,1290.0,1291.0,1292.0,1293.0,1294.0,1295.0,1296.0,1297.0,1298.0,1299.0,1300.0,1301.0,1302.0,1303.0,1304.0,1305.0,1306.0,1307.0,1308.0,1309.0,1310.0,1311.0,1312.0,1313.0,1314.0,1315.0,1316.0,1317.0,1318.0,1319.0,1320.0,1321.0,1322.0,1323.0,1324.0,1325.0,1326.0,1327.0,1328.0,1329.0,1330.0,1331.0,1332.0,1333.0,1334.0,1335.0,1336.0,1337.0,1338.0,1339.0,1340.0,1341.0,1342.0,1343.0,1344.0,1345.0,1346.0,1347.0,1348.0,1349.0,1350.0,1351.0,1352.0,1353.0,1354.0,1355.0,1356.0,1357.0,1358.0,1359.0,1360.0,1361.0,1362.0,1363.0,1364.0,1365.0,1366.0,1367.0,1368.0,1369.0,1370.0,1371.0,1372.0,1373.0,1374.0,1375.0,1376.0,1377.0,1378.0,1379.0,1380.0,1381.0,1382.0,1383.0,1384.0,1385.0,1386.0,1387.0,1388.0,1389.0,1390.0,1391.0,1392.0,1393.0,1394.0,1395.0,1396.0,1397.0,1398.0,1399.0,1400.0,1401.0,1402.0,1403.0,1404.0,1405.0,1406.0,1407.0,1408.0,1409.0,1410.0,1411.0,1412.0,1413.0,1414.0,1415.0,1416.0,1417.0,1418.0,1419.0,1420.0,1421.0,1422.0,1423.0,1424.0,1425.0,1426.0,1427.0,1428.0,1429.0,1430.0,1431.0,1432.0,1433.0,1434.0,1435.0,1436.0,1437.0,1438.0,1439.0,1440.0,1441.0,1442.0,1443.0,1444.0,1445.0,1446.0,1447.0,1448.0,1449.0,1450.0,1451.0,1452.0,1453.0,1454.0,1455.0,1456.0,1457.0,1458.0,1459.0,1460.0,1461.0,1462.0,1463.0,1464.0,1465.0,1466.0,1467.0,1468.0,1469.0,1470.0,1471.0,1472.0,1473.0,1474.0,1475.0,1476.0,1477.0,1478.0,1479.0,1480.0,1481.0,1482.0,1483.0,1484.0,1485.0,1486.0,1487.0,1488.0,1489.0,1490.0,1491.0,1492.0,1493.0,1494.0,1495.0,1496.0,1497.0,1498.0,1499.0,1500.0,1501.0,1502.0,1503.0,1504.0,1505.0,1506.0,1507.0,1508.0,1509.0,1510.0,1511.0,1512.0,1513.0,1514.0,1515.0,1516.0,1517.0,1518.0,1519.0,1520.0,1521.0,1522.0,1523.0,1524.0,1525.0,1526.0,1527.0,1528.0,1529.0,1530.0,1531.0,1532.0,1533.0,1534.0,1535.0,1536.0,1537.0,1538.0,1539.0,1540.0,1541.0,1542.0,1543.0,1544.0,1545.0,1546.0,1547.0,1548.0,1549.0,1550.0,1551.0,1552.0,1553.0,1554.0,1555.0,1556.0,1557.0,1558.0,1559.0,1560.0,1561.0,1562.0,1563.0,1564.0,1565.0,1566.0,1567.0,1568.0,1569.0,1570.0,1571.0,1572.0,1573.0,1574.0,1575.0,1576.0,1577.0,1578.0,1579.0,1580.0,1581.0,1582.0,1583.0,1584.0,1585.0,1586.0,1587.0,1588.0,1589.0,1590.0,1591.0,1592.0,1593.0,1594.0,1595.0,1596.0,1597.0,1598.0,1599.0,1600.0,1601.0,1602.0,1603.0,1604.0,1605.0,1606.0,1607.0,1608.0,1609.0,1610.0,1611.0,1612.0,1613.0,1614.0,1615.0,1616.0,1617.0,1618.0,1619.0,1620.0,1621.0,1622.0,1623.0,1624.0,1625.0,1626.0,1627.0,1628.0,1629.0,1630.0,1631.0,1632.0,1633.0,1634.0,1635.0,1636.0,1637.0,1638.0,1639.0,1640.0,1641.0,1642.0,1643.0,1644.0,1645.0,1646.0,1647.0,1648.0,1649.0,1650.0,1651.0,1652.0,1653.0,1654.0,1655.0,1656.0,1657.0,1658.0,1659.0,1660.0,1661.0,1662.0,1663.0,1664.0,1665.0,1666.0,1667.0,1668.0,1669.0,1670.0,1671.0,1672.0,1673.0,1674.0,1675.0,1676.0,1677.0,1678.0,1679.0,1680.0,1681.0,1682.0,1683.0,1684.0,1685.0,1686.0,1687.0,1688.0,1689.0,1690.0,1691.0,1692.0,1693.0,1694.0,1695.0,1696.0,1697.0,1698.0,1699.0,1700.0,1701.0,1702.0,1703.0,1704.0,1705.0,1706.0,1707.0,1708.0,1709.0,1710.0,1711.0,1712.0,1713.0,1714.0,1715.0,1716.0,1717.0,1718.0,1719.0,1720.0,1721.0,1722.0,1723.0,1724.0,1725.0,1726.0,1727.0,1728.0,1729.0,1730.0,1731.0,1732.0,1733.0,1734.0,1735.0,1736.0,1737.0,1738.0,1739.0,1740.0,1741.0,1742.0,1743.0,1744.0,1745.0,1746.0,1747.0,1748.0,1749.0,1750.0,1751.0,1752.0,1753.0,1754.0,1755.0,1756.0,1757.0,1758.0,1759.0,1760.0,1761.0,1762.0,1763.0,1764.0,1765.0,1766.0,1767.0,1768.0,1769.0,1770.0,1771.0,1772.0,1773.0,1774.0,1775.0,1776.0,1777.0,1778.0,1779.0,1780.0,1781.0,1782.0,1783.0,1784.0,1785.0,1786.0,1787.0,1788.0,1789.0,1790.0,1791.0,1792.0,1793.0,1794.0,1795.0,1796.0,1797.0,1798.0,1799.0,1800.0,1801.0,1802.0,1803.0,1804.0,1805.0,1806.0,1807.0,1808.0,1809.0,1810.0,1811.0,1812.0,1813.0,1814.0,1815.0,1816.0,1817.0,1818.0,1819.0,1820.0,1821.0,1822.0,1823.0,1824.0,1825.0,1826.0,1827.0,1828.0,1829.0,1830.0,1831.0,1832.0,1833.0,1834.0,1835.0,1836.0,1837.0,1838.0,1839.0,1840.0,1841.0,1842.0,1843.0,1844.0,1845.0,1846.0,1847.0,1848.0,1849.0,1850.0,1851.0,1852.0,1853.0,1854.0,1855.0,1856.0,1857.0,1858.0,1859.0,1860.0,1861.0,1862.0,1863.0,1864.0,1865.0,1866.0,1867.0,1868.0,1869.0,1870.0,1871.0,1872.0,1873.0,1874.0,1875.0,1876.0,1877.0,1878.0,1879.0,1880.0,1881.0,1882.0,1883.0,1884.0,1885.0,1886.0,1887.0,1888.0,1889.0,1890.0,1891.0,1892.0,1893.0,1894.0,1895.0,1896.0,1897.0,1898.0,1899.0,1900.0,1901.0,1902.0,1903.0,1904.0,1905.0,1906.0,1907.0,1908.0,1909.0,1910.0,1911.0,1912.0,1913.0,1914.0,1915.0,1916.0,1917.0,1918.0,1919.0,1920.0,1921.0,1922.0,1923.0,1924.0,1925.0,1926.0,1927.0,1928.0,1929.0,1930.0,1931.0,1932.0,1933.0,1934.0,1935.0,1936.0,1937.0,1938.0,1939.0,1940.0,1941.0,1942.0,1943.0,1944.0,1945.0,1946.0,1947.0,1948.0,1949.0,1950.0,1951.0,1952.0,1953.0,1954.0,1955.0,1956.0,1957.0,1958.0,1959.0,1960.0,1961.0,1962.0,1963.0,1964.0,1965.0,1966.0,1967.0,1968.0,1969.0,1970.0,1971.0,1972.0,1973.0,1974.0,1975.0,1976.0,1977.0,1978.0,1979.0,1980.0,1981.0,1982.0,1983.0,1984.0,1985.0,1986.0,1987.0,1988.0,1989.0,1990.0,1991.0,1992.0,1993.0,1994.0,1995.0,1996.0,1997.0,1998.0,1999.0],\"y\":[0.2302994384765625,0.228585009765625,0.227612109375,0.226715771484375,0.225851220703125,0.22501279296875,0.224198876953125,0.223408349609375,0.222640283203125,0.221893701171875,0.22116767578125,0.220461376953125,0.2197740234375,0.2191048828125,0.218453125,0.217818017578125,0.2171990234375,0.2165953857421875,0.21600654296875,0.21543193359375,0.214870947265625,0.214323095703125,0.2137879150390625,0.2132648193359375,0.21275341796875,0.2122532958984375,0.211764013671875,0.211285205078125,0.2108163818359375,0.21035732421875,0.209907666015625,0.209466943359375,0.209035009765625,0.2086115234375,0.208196142578125,0.207788671875,0.20738876953125,0.206996240234375,0.20661083984375,0.20623232421875,0.2058604736328125,0.2054950927734375,0.2051359375,0.20478292236328124,0.2044357666015625,0.2040943115234375,0.2037584228515625,0.2034278564453125,0.2031025390625,0.20278231201171876,0.2024669677734375,0.2021564453125,0.20185054931640625,0.2015491943359375,0.2012522216796875,0.200959521484375,0.20067100830078125,0.20038653564453124,0.200106005859375,0.199829345703125,0.1995564208984375,0.199287109375,0.19902139892578125,0.198759130859375,0.19850028076171874,0.19824468994140626,0.19799232177734374,0.19774312744140626,0.19749696044921874,0.19725380859375,0.19701358642578126,0.196776220703125,0.1965416259765625,0.196309765625,0.19608056640625,0.19585396728515625,0.195629931640625,0.1954083984375,0.19518929443359376,0.19497255859375,0.194758154296875,0.1945460205078125,0.1943361572265625,0.19412845458984376,0.1939229248046875,0.19371947021484376,0.19351806640625,0.19331871337890624,0.1931212890625,0.192925830078125,0.19273226318359374,0.19254056396484376,0.1923507080078125,0.19216260986328124,0.19197625732421875,0.191791650390625,0.19160872802734374,0.19142745361328126,0.19124781494140625,0.191069775390625,0.19089332275390625,0.190718408203125,0.1905449951171875,0.1903730712890625,0.190202587890625,0.1900335693359375,0.18986595458984376,0.1896997314453125,0.18953485107421875,0.18937132568359374,0.1892091064453125,0.189048193359375,0.1888885498046875,0.18873017578125,0.188572998046875,0.188417041015625,0.1882623046875,0.1881087158203125,0.1879562744140625,0.18780499267578124,0.1876548095703125,0.18750576171875,0.1873577880859375,0.1872108642578125,0.1870650146484375,0.18692017822265625,0.1867763671875,0.1866335693359375,0.1864917724609375,0.186350927734375,0.1862110595703125,0.18607213134765624,0.1859341552734375,0.18579708251953125,0.1856609375,0.18552568359375,0.18539129638671875,0.1852577880859375,0.18512513427734376,0.184993310546875,0.1848623779296875,0.1847322509765625,0.1846029052734375,0.18447437744140624,0.184346630859375,0.18421966552734376,0.1840934814453125,0.18396806640625,0.18384339599609376,0.18371944580078126,0.18359630126953125,0.183473779296875,0.18335201416015626,0.1832309814453125,0.183110595703125,0.18299091796875,0.182871923828125,0.18275362548828125,0.18263594970703126,0.1825189453125,0.182402587890625,0.18228685302734374,0.1821717529296875,0.18205731201171876,0.1819434326171875,0.1818302001953125,0.1817175537109375,0.181605517578125,0.1814940673828125,0.1813831787109375,0.181272900390625,0.1811631591796875,0.181053955078125,0.180945361328125,0.1808373046875,0.18072978515625,0.18062276611328126,0.1805163330078125,0.1804104248046875,0.1803050048828125,0.1802001220703125,0.180095751953125,0.1799918701171875,0.17988848876953126,0.1797856201171875,0.1796832275390625,0.179581298828125,0.1794798583984375,0.17937890625,0.17927841796875,0.1791783935546875,0.17907880859375,0.17897969970703126,0.17888101806640624,0.1787827880859375,0.17868502197265626,0.1785876953125,0.17849078369140625,0.1783943115234375,0.1782982177734375,0.178202587890625,0.178107373046875,0.178012548828125,0.17791817626953124,0.177824169921875,0.17773056640625,0.17763734130859374,0.17754453125,0.17745213623046874,0.1773600830078125,0.177268408203125,0.1771771484375,0.17708624267578124,0.17699571533203126,0.1769055419921875,0.17681575927734375,0.17672633056640624,0.176637255859375,0.17654853515625,0.17646015625,0.1763721435546875,0.17628447265625,0.1761971435546875,0.1761101318359375,0.17602349853515625,0.175937158203125,0.17585115966796874,0.1757655029296875,0.17568016357421876,0.175595166015625,0.1755104736328125,0.17542607421875,0.1753420166015625,0.17525826416015625,0.1751748291015625,0.17509169921875,0.1750088623046875,0.17492635498046874,0.17484412841796876,0.17476220703125,0.17468056640625,0.1745991943359375,0.17451815185546876,0.1744373779296875,0.17435689697265624,0.174276708984375,0.1741968017578125,0.174117138671875,0.1740378173828125,0.17395869140625,0.1738798583984375,0.1738013427734375,0.173723046875,0.1736450439453125,0.17356729736328125,0.1734898193359375,0.17341259765625,0.1733356201171875,0.17325888671875,0.1731824462890625,0.17310623779296874,0.17303028564453124,0.1729545654296875,0.1728791015625,0.17280390625,0.1727289306640625,0.17265419921875,0.1725796630859375,0.172505419921875,0.1724314208984375,0.1723576171875,0.17228408203125,0.17221075439453126,0.17213765869140624,0.17206480712890626,0.1719921630859375,0.17191973876953126,0.1718475341796875,0.1717755615234375,0.1717038330078125,0.17163228759765625,0.17156097412109375,0.1714898681640625,0.17141898193359376,0.171348291015625,0.17127781982421875,0.1712075927734375,0.171137548828125,0.17106771240234375,0.1709980712890625,0.1709286376953125,0.17085941162109375,0.1707903564453125,0.170721533203125,0.1706529296875,0.17058447265625,0.1705162353515625,0.17044820556640625,0.1703803466796875,0.1703126953125,0.17024521484375,0.17017794189453125,0.1701108642578125,0.1700439453125,0.16997724609375,0.16991070556640625,0.1698443359375,0.1697781982421875,0.1697121826171875,0.16964639892578126,0.1695807861328125,0.1695153076171875,0.16945006103515625,0.1693849365234375,0.1693200439453125,0.16925528564453124,0.16919072265625,0.16912630615234375,0.169062060546875,0.16899801025390626,0.16893409423828126,0.168870361328125,0.1688068115234375,0.16874339599609375,0.16868017578125,0.16861708984375,0.1685541748046875,0.1684914306640625,0.168428857421875,0.16836640625,0.168304150390625,0.168242041015625,0.168180078125,0.1681182861328125,0.16805662841796876,0.1679951416015625,0.1679337646484375,0.1678726318359375,0.167811572265625,0.16775069580078125,0.1676899169921875,0.16762933349609374,0.1675689208984375,0.16750860595703124,0.16744847412109376,0.16738846435546875,0.16732861328125,0.1672688720703125,0.16720931396484376,0.16714986572265625,0.167090576171875,0.1670314453125,0.16697239990234375,0.16691353759765626,0.16685482177734376,0.16679622802734376,0.166737744140625,0.166679443359375,0.166621240234375,0.16656318359375,0.1665052734375,0.1664474853515625,0.16638983154296874,0.1663322998046875,0.16627490234375,0.166217626953125,0.166160498046875,0.1661034912109375,0.1660466064453125,0.16598985595703125,0.16593321533203126,0.1658767333984375,0.165820361328125,0.165764111328125,0.16570797119140626,0.1656519775390625,0.1655961181640625,0.16554033203125,0.1654846923828125,0.16542919921875,0.1653737548828125,0.165318505859375,0.16526336669921876,0.16520830078125,0.1651533935546875,0.165098583984375,0.1650439208984375,0.16498934326171874,0.1649348876953125,0.1648805419921875,0.164826318359375,0.1647721923828125,0.16471817626953125,0.16466429443359376,0.1646105224609375,0.16455684814453125,0.1645032958984375,0.164449853515625,0.164396533203125,0.16434332275390626,0.1642902099609375,0.1642371826171875,0.16418427734375,0.1641314697265625,0.16407880859375,0.16402623291015625,0.1639737548828125,0.16392137451171876,0.16386912841796875,0.16381695556640624,0.1637649169921875,0.163712939453125,0.163661083984375,0.1636093505859375,0.1635576904296875,0.16350615234375,0.1634547119140625,0.163403369140625,0.163352099609375,0.1633009765625,0.16324990234375,0.163198974609375,0.1631481201171875,0.16309736328125,0.16304671630859374,0.162996142578125,0.16294569091796876,0.1628953125,0.16284503173828124,0.1627948486328125,0.16274478759765626,0.16269478759765624,0.1626448974609375,0.1625950927734375,0.1625453857421875,0.162495751953125,0.162446240234375,0.1623968017578125,0.1623474609375,0.1622982177734375,0.1622490478515625,0.1621999755859375,0.1621510009765625,0.162102099609375,0.16205328369140626,0.1620045654296875,0.16195594482421874,0.161907421875,0.1618589599609375,0.1618105712890625,0.1617623046875,0.16171409912109375,0.16166600341796875,0.1616179931640625,0.16157003173828124,0.1615221923828125,0.1614744140625,0.16142674560546874,0.1613791259765625,0.1613316162109375,0.1612841796875,0.16123681640625,0.1611895751953125,0.1611423583984375,0.161095263671875,0.1610482177734375,0.1610012939453125,0.1609544189453125,0.16090762939453124,0.1608609375,0.160814306640625,0.16076773681640624,0.1607212890625,0.16067490234375,0.1606285888671875,0.1605823486328125,0.16053619384765624,0.1604901123046875,0.1604441162109375,0.16039820556640624,0.1603523681640625,0.1603065673828125,0.160260888671875,0.160215283203125,0.16016971435546876,0.1601242431640625,0.16007880859375,0.1600335205078125,0.1599882568359375,0.1599430908203125,0.15989801025390624,0.15985296630859375,0.15980802001953126,0.1597631103515625,0.159718310546875,0.1596735595703125,0.15962889404296876,0.1595843017578125,0.1595397705078125,0.15949532470703126,0.1594509521484375,0.1594066162109375,0.15936240234375,0.15931822509765625,0.15927412109375,0.15923009033203125,0.1591861083984375,0.159142236328125,0.159098388671875,0.1590546142578125,0.1590109375,0.15896732177734374,0.1589237548828125,0.1588802734375,0.1588368408203125,0.1587934814453125,0.1587501953125,0.1587070068359375,0.158663818359375,0.1586207275390625,0.15857772216796875,0.1585347412109375,0.158491845703125,0.1584490234375,0.1584062255859375,0.1583635498046875,0.1583208984375,0.1582783447265625,0.1582358154296875,0.158193359375,0.15815098876953124,0.15810867919921875,0.15806640625,0.15802421875,0.15798206787109376,0.1579400146484375,0.1578980224609375,0.1578560546875,0.15781416015625,0.1577723388671875,0.15773056640625,0.1576888671875,0.1576472412109375,0.15760562744140624,0.157564111328125,0.15752265625,0.15748125,0.15743990478515624,0.15739862060546875,0.15735740966796874,0.1573162353515625,0.15727513427734374,0.15723406982421875,0.15719310302734374,0.1571521240234375,0.1571112548828125,0.157070458984375,0.1570296875,0.1569889892578125,0.15694833984375,0.156907763671875,0.156867236328125,0.1568267333984375,0.156786328125,0.156745947265625,0.1567056396484375,0.156665380859375,0.15662520751953124,0.15658504638671875,0.156544970703125,0.15650494384765626,0.15646497802734374,0.15642506103515624,0.1563851806640625,0.1563453857421875,0.156305615234375,0.15626590576171875,0.15622625732421874,0.156186669921875,0.15614710693359374,0.1561076171875,0.15606820068359376,0.15602880859375,0.15598946533203126,0.1559501953125,0.15591097412109375,0.15587177734375,0.1558326904296875,0.155793603515625,0.1557545654296875,0.15571561279296875,0.1556766845703125,0.15563782958984376,0.1555989990234375,0.15556025390625,0.155521533203125,0.15548287353515625,0.15544427490234375,0.15540570068359374,0.1553672119140625,0.15532874755859374,0.15529031982421876,0.15525196533203126,0.1552136474609375,0.155175390625,0.1551371826171875,0.1550990234375,0.15506090087890625,0.1550228515625,0.154984814453125,0.1549468505859375,0.154908935546875,0.1548710693359375,0.15483323974609375,0.15479544677734375,0.1547577392578125,0.1547200439453125,0.1546823974609375,0.15464482421875,0.15460726318359375,0.1545697998046875,0.1545323486328125,0.1544949462890625,0.1544575927734375,0.1544202880859375,0.1543830322265625,0.15434581298828126,0.154308642578125,0.154271533203125,0.1542344482421875,0.154197412109375,0.15416043701171875,0.154123486328125,0.1540865966796875,0.154049755859375,0.154012939453125,0.153976171875,0.15393946533203126,0.1539028076171875,0.1538661865234375,0.15382958984375,0.15379305419921874,0.1537565673828125,0.1537201171875,0.15368370361328124,0.1536473388671875,0.15361103515625,0.153574755859375,0.153538525390625,0.15350234375,0.15346619873046874,0.153430078125,0.1533940185546875,0.1533580322265625,0.1533220458984375,0.15328612060546876,0.1532502197265625,0.1532143798828125,0.153178564453125,0.15314281005859376,0.1531071044921875,0.1530714111328125,0.153035791015625,0.1530001708984375,0.15296461181640625,0.1529291015625,0.15289364013671874,0.152858203125,0.152822802734375,0.152787451171875,0.1527521484375,0.15271689453125,0.15268167724609374,0.152646484375,0.152611328125,0.15257620849609374,0.1525411376953125,0.1525061279296875,0.15247113037109375,0.152436181640625,0.15240126953125,0.15236641845703125,0.152331591796875,0.15229677734375,0.1522620361328125,0.1522273193359375,0.1521926513671875,0.1521580078125,0.1521234375,0.1520888671875,0.1520543701171875,0.152019873046875,0.15198544921875,0.15195103759765624,0.15191668701171876,0.1518823486328125,0.1518480712890625,0.151813818359375,0.15177960205078125,0.15174542236328126,0.15171129150390625,0.15167720947265625,0.151643115234375,0.1516091064453125,0.1515751220703125,0.151541162109375,0.1515072509765625,0.1514733642578125,0.15143955078125,0.151405712890625,0.15137197265625,0.15133824462890624,0.15130455322265626,0.1512708984375,0.1512372802734375,0.15120369873046874,0.1511701416015625,0.15113662109375,0.1511031494140625,0.1510697021484375,0.1510363037109375,0.15100294189453126,0.1509696044921875,0.15093629150390625,0.1509030517578125,0.15086981201171876,0.15083663330078126,0.150803466796875,0.1507703125,0.150737255859375,0.15070419921875,0.15067119140625,0.15063818359375,0.15060523681640625,0.150572314453125,0.1505394287109375,0.15050660400390625,0.15047379150390625,0.1504409912109375,0.15040826416015626,0.1503755615234375,0.1503428955078125,0.15031025390625,0.15027764892578124,0.15024505615234374,0.15021251220703125,0.1501800048828125,0.15014754638671876,0.1501151123046875,0.1500826904296875,0.15005030517578125,0.1500179931640625,0.1499856689453125,0.1499533935546875,0.14992115478515625,0.14988895263671875,0.1498567626953125,0.149824609375,0.1497925048828125,0.1497604248046875,0.14972838134765626,0.14969637451171874,0.1496643798828125,0.149632421875,0.149600537109375,0.1495686279296875,0.149536767578125,0.14950498046875,0.14947314453125,0.1494413818359375,0.14940968017578124,0.149377978515625,0.1493462890625,0.14931468505859374,0.1492830810546875,0.14925150146484376,0.14921995849609376,0.1491884765625,0.149156982421875,0.149125537109375,0.149094091796875,0.14906275634765626,0.14903135986328125,0.149000048828125,0.1489687744140625,0.14893751220703125,0.1489062744140625,0.1488750732421875,0.148843896484375,0.14881275634765626,0.14878165283203126,0.1487505615234375,0.1487195068359375,0.1486884765625,0.14865750732421876,0.1486265380859375,0.14859560546875,0.1485647216796875,0.148533837890625,0.14850299072265624,0.14847216796875,0.14844141845703124,0.14841064453125,0.148379931640625,0.14834921875,0.1483185791015625,0.1482879150390625,0.14825732421875,0.14822672119140626,0.14819617919921876,0.148165673828125,0.1481351806640625,0.1481047119140625,0.148074267578125,0.1480438720703125,0.1480135009765625,0.147983154296875,0.14795283203125,0.147922509765625,0.14789228515625,0.14786201171875,0.1478318115234375,0.1478016357421875,0.1477715087890625,0.147741357421875,0.1477112548828125,0.147681201171875,0.1476511474609375,0.14762115478515625,0.147591162109375,0.1475612060546875,0.14753126220703125,0.1475013671875,0.14747149658203124,0.147441650390625,0.14741185302734375,0.14738203125,0.14735225830078125,0.14732255859375,0.147292822265625,0.147263134765625,0.14723350830078125,0.1472038330078125,0.1471742431640625,0.14714468994140625,0.14711513671875,0.14708558349609374,0.1470561279296875,0.147026611328125,0.14699720458984375,0.1469677734375,0.14693837890625,0.1469090087890625,0.1468796875,0.14685037841796875,0.1468210693359375,0.1467918212890625,0.14676259765625,0.1467333984375,0.1467042236328125,0.146675048828125,0.1466459228515625,0.1466168212890625,0.146587744140625,0.14655869140625,0.14652967529296876,0.1465006591796875,0.1464717041015625,0.14644273681640624,0.146413818359375,0.146384912109375,0.1463560546875,0.146327197265625,0.1462983642578125,0.146269580078125,0.14624078369140625,0.146212060546875,0.146183349609375,0.146154638671875,0.1461259521484375,0.14609730224609374,0.14606871337890626,0.1460401123046875,0.1460115234375,0.14598297119140624,0.145954443359375,0.1459259521484375,0.1458974853515625,0.14586903076171875,0.1458406005859375,0.14581220703125,0.14578382568359374,0.14575546875,0.14572716064453126,0.1456988525390625,0.145670556640625,0.14564229736328124,0.14561409912109374,0.1455858642578125,0.1455576904296875,0.1455295166015625,0.14550137939453126,0.1454732666015625,0.14544520263671876,0.1454171142578125,0.1453890869140625,0.14536107177734375,0.1453330810546875,0.1453051025390625,0.1452771484375,0.14524923095703124,0.145221337890625,0.14519344482421875,0.1451656005859375,0.14513778076171874,0.1451099609375,0.145082177734375,0.1450544189453125,0.1450266845703125,0.1449989501953125,0.14497127685546876,0.14494361572265624,0.144915966796875,0.144888330078125,0.1448607421875,0.1448331787109375,0.144805615234375,0.144778076171875,0.1447505859375,0.14472308349609375,0.14469561767578126,0.1446681884765625,0.144640771484375,0.14461336669921876,0.144585986328125,0.14455863037109376,0.1445313232421875,0.14450400390625,0.14447672119140625,0.1444494384765625,0.1444222412109375,0.1443949951171875,0.14436781005859375,0.144340625,0.14431348876953126,0.1442863525390625,0.144259228515625,0.144232177734375,0.144205126953125,0.1441780517578125,0.1441510498046875,0.14412403564453125,0.14409705810546874,0.1440700927734375,0.1440431640625,0.1440162353515625,0.14398935546875,0.1439624755859375,0.14393564453125,0.1439087890625,0.1438820068359375,0.143855224609375,0.143828466796875,0.1438017333984375,0.1437749755859375,0.14374830322265625,0.14372164306640625,0.14369495849609376,0.143668310546875,0.14364169921875,0.1436151123046875,0.14358856201171874,0.14356199951171875,0.1435354736328125,0.14350894775390624,0.143482470703125,0.14345599365234374,0.143429541015625,0.14340311279296875,0.14337669677734374,0.14335032958984376,0.1433239501953125,0.143297607421875,0.1432712646484375,0.143244970703125,0.14321868896484374,0.1431924072265625,0.143166162109375,0.14313995361328125,0.14311375732421874,0.1430875732421875,0.1430614013671875,0.14303524169921875,0.14300914306640625,0.1429830322265625,0.14295694580078125,0.142930908203125,0.14290484619140625,0.1428788330078125,0.1428528076171875,0.1428268310546875,0.14280087890625,0.1427749267578125,0.1427489990234375,0.142723095703125,0.142697216796875,0.1426713623046875,0.14264552001953126,0.14261966552734376,0.14259388427734376,0.1425680908203125,0.1425423095703125,0.1425165771484375,0.1424908447265625,0.14246513671875,0.14243944091796876,0.14241376953125,0.1423881103515625,0.14236251220703125,0.1423368896484375,0.1423113037109375,0.1422857177734375,0.14226016845703124,0.14223463134765624,0.1422091064453125,0.14218360595703125,0.1421581298828125,0.142132666015625,0.14210723876953124,0.14208182373046874,0.14205640869140626,0.1420310302734375,0.1420056396484375,0.141980322265625,0.14195498046875,0.14192967529296874,0.14190440673828125,0.1418791015625,0.141853857421875,0.14182861328125,0.14180340576171874,0.1417781982421875,0.14175302734375,0.141727880859375,0.141702734375,0.14167760009765626,0.141652490234375,0.1416274169921875,0.1416023193359375,0.14157728271484374,0.14155224609375,0.14152723388671876,0.14150224609375,0.14147724609375,0.1414523193359375,0.1414273681640625,0.14140242919921875,0.1413775146484375,0.14135264892578125,0.141327783203125,0.1413029296875,0.141278076171875,0.141253271484375,0.141228466796875,0.1412036865234375,0.1411789306640625,0.1411541748046875,0.14112945556640624,0.141104736328125,0.14108004150390624,0.14105537109375,0.141030712890625,0.1410060546875,0.14098145751953126,0.14095684814453124,0.1409322509765625,0.1409076904296875,0.1408831298828125,0.14085860595703126,0.14083408203125,0.1408095703125,0.140785107421875,0.14076064453125,0.140736181640625,0.1407117431640625,0.140687353515625,0.140662939453125,0.14063858642578125,0.140614208984375,0.1405898681640625,0.1405655517578125,0.1405412109375,0.140516943359375,0.1404926513671875,0.1404683837890625,0.140444140625,0.14041993408203124,0.1403957275390625,0.140371533203125,0.1403473388671875,0.140323193359375,0.1402990478515625,0.14027493896484375,0.14025081787109375,0.14022672119140625,0.14020263671875,0.1401785888671875,0.140154541015625,0.140130517578125,0.140106494140625,0.14008251953125,0.140058544921875,0.1400345947265625,0.14001063232421876,0.13998671875,0.13996279296875,0.139938916015625,0.1399150146484375,0.1398911865234375,0.139867333984375,0.139843505859375,0.13981968994140626,0.13979588623046876,0.1397720947265625,0.13974835205078126,0.13972459716796876,0.13970087890625,0.13967716064453126,0.1396534423828125,0.13962977294921874,0.139606103515625,0.139582470703125,0.139558837890625,0.139535205078125,0.13951160888671876,0.139488037109375,0.1394644287109375,0.1394408935546875,0.139417333984375,0.1393938232421875,0.1393703125,0.1393468017578125,0.13932333984375,0.13929986572265626,0.13927642822265626,0.1392530029296875,0.13922958984375,0.1392061767578125,0.1391828125,0.139159423828125,0.13913609619140624,0.1391127685546875,0.1390894287109375,0.13906611328125,0.1390428466796875,0.1390195556640625,0.1389962890625,0.138973046875,0.13894981689453126,0.138926611328125,0.1389034423828125,0.138880224609375,0.138857080078125,0.1388339111328125,0.13881077880859374,0.13878768310546874,0.13876456298828124,0.13874146728515624,0.1387183837890625,0.1386953125,0.13867227783203126,0.1386492431640625,0.1386262451171875,0.1386032470703125,0.13858026123046874,0.138557275390625,0.13853431396484375,0.138511376953125,0.13848843994140625,0.13846553955078125,0.1384426513671875,0.13841976318359375,0.1383968994140625,0.1383740478515625,0.13835120849609375,0.138328369140625,0.13830556640625,0.13828277587890625,0.138260009765625,0.1382372314453125,0.13821448974609374,0.138191748046875,0.1381690185546875,0.1381463134765625,0.13812362060546876,0.1381009521484375,0.1380782958984375,0.1380556396484375,0.1380330322265625,0.138010400390625,0.13798779296875,0.13796519775390625,0.13794263916015626,0.137920068359375,0.1378975341796875,0.13787501220703124,0.1378524658203125,0.1378299560546875,0.137807470703125,0.137785009765625,0.137762548828125,0.13774010009765625,0.13771767578125,0.1376952392578125,0.13767283935546876,0.137650439453125,0.13762811279296874,0.137605712890625,0.13758336181640626,0.13756104736328126,0.137538720703125,0.13751640625,0.1374941162109375,0.137471826171875,0.13744957275390626,0.1374273193359375,0.13740509033203124,0.137382861328125,0.13736064453125,0.1373384521484375,0.1373162841796875,0.1372941162109375,0.13727196044921874,0.1372498291015625,0.1372277099609375,0.13720557861328125,0.1371834716796875,0.1371614013671875,0.137139306640625,0.13711727294921874,0.13709521484375,0.13707320556640626,0.137051171875,0.1370291748046875,0.1370072021484375,0.136985205078125,0.13696324462890624,0.13694130859375,0.13691937255859374,0.13689744873046875,0.136875537109375,0.13685362548828126,0.1368317626953125,0.13680987548828125,0.13678802490234376,0.1367661865234375,0.1367443603515625,0.1367225341796875,0.1367007568359375,0.136678955078125,0.13665718994140624,0.136635400390625,0.136613671875,0.1365919189453125,0.13657021484375,0.136548486328125,0.136526806640625,0.13650511474609375,0.136483447265625,0.1364617919921875,0.1364401611328125,0.1364185302734375,0.13639691162109374,0.1363752685546875,0.1363537109375,0.13633212890625,0.1363105712890625,0.1362889892578125,0.13626746826171876,0.136245947265625,0.13622442626953124,0.1362029296875,0.13618143310546876,0.1361599853515625,0.1361385009765625,0.136117041015625,0.13609561767578124,0.13607418212890626,0.136052783203125,0.1360313720703125,0.1360099853515625,0.13598861083984376,0.135967236328125,0.13594591064453124,0.1359245849609375,0.13590323486328126,0.13588193359375,0.1358606201171875,0.13583934326171876,0.1358180419921875,0.1357968017578125,0.1357755615234375,0.13575433349609375,0.13573309326171876,0.13571190185546875,0.1356906982421875,0.1356695068359375,0.13564833984375,0.1356271728515625,0.13560604248046876,0.1355848876953125,0.13556376953125,0.13554266357421876,0.1355215576171875,0.1355004638671875,0.13547940673828124,0.135458349609375,0.1354372802734375,0.1354162353515625,0.13539521484375,0.1353741943359375,0.13535322265625,0.1353322021484375,0.1353112548828125,0.135290283203125,0.1352693359375,0.135248388671875,0.1352274658203125,0.13520654296875,0.13518564453125,0.13516474609375,0.13514385986328126,0.135122998046875,0.1351021484375,0.135081298828125,0.13506044921875,0.13503963623046875,0.13501883544921875,0.13499803466796875,0.13497724609375,0.134956494140625,0.13493572998046874,0.13491497802734376,0.13489423828125,0.1348735107421875,0.134852783203125,0.134832080078125,0.13481142578125,0.13479072265625,0.1347700439453125,0.1347494140625,0.13472877197265626,0.1347081298828125,0.1346875244140625,0.1346669189453125,0.13464630126953125,0.134625732421875,0.1346051513671875,0.13458458251953126,0.1345640625,0.13454351806640624,0.1345229736328125,0.13450244140625,0.1344819580078125,0.134461474609375,0.13444097900390625,0.13442052001953125,0.134400048828125,0.1343796142578125,0.13435919189453124,0.1343387451171875,0.134318359375,0.13429794921875,0.13427755126953125,0.13425716552734376,0.13423681640625,0.134216455078125,0.1341961181640625,0.13417578125,0.13415548095703125,0.13413515625,0.13411484375,0.134094580078125,0.1340742919921875,0.134054052734375,0.13403377685546874,0.13401353759765625,0.1339932861328125,0.13397308349609374,0.133952880859375,0.1339326904296875,0.1339125,0.13389232177734375,0.13387216796875,0.1338520263671875,0.1338318603515625,0.13381173095703125,0.1337916015625,0.133771533203125,0.133751416015625,0.1337313232421875,0.1337112548828125,0.1336911865234375,0.13367113037109374,0.13365107421875,0.1336310791015625,0.13361103515625,0.13359102783203125,0.133571044921875,0.133551025390625,0.1335310791015625,0.1335111083984375,0.13349111328125,0.13347119140625,0.13345125732421875,0.1334313232421875,0.13341142578125,0.1333915283203125,0.1333716552734375,0.13335177001953125,0.1333319091796875,0.13331202392578126,0.1332921875,0.13327232666015626,0.1332525390625,0.13323270263671874,0.13321290283203124,0.133193115234375,0.13317333984375,0.133153564453125,0.1331337890625,0.1331140625,0.13309429931640626,0.133074560546875,0.133054833984375,0.13303515625,0.1330154296875,0.13299576416015624,0.13297607421875,0.132956396484375,0.1329367431640625,0.1329171142578125,0.1328974609375,0.13287783203125,0.13285823974609376,0.13283861083984375,0.13281903076171875,0.1327994384765625,0.1327799072265625,0.132760302734375,0.1327407470703125,0.1327212158203125,0.13270166015625,0.1326821533203125,0.1326626708984375,0.13264315185546874,0.132623681640625,0.1326041748046875,0.132584716796875,0.1325652587890625,0.13254580078125,0.13252635498046875,0.13250693359375,0.13248751220703125,0.132468115234375,0.13244869384765626,0.13242930908203124,0.1324099365234375,0.132390576171875,0.1323712158203125,0.13235185546875,0.1323325439453125,0.13231318359375,0.1322938720703125,0.13227457275390625,0.1322552734375,0.132235986328125,0.13221671142578126,0.1321974609375,0.132178173828125,0.13215892333984375,0.132139697265625,0.132120458984375,0.13210126953125,0.13208203125,0.1320628662109375,0.13204365234375,0.13202447509765625,0.132005322265625,0.1319861328125,0.1319670166015625,0.13194786376953124,0.13192874755859374,0.131909619140625,0.13189052734375,0.1318714111328125,0.1318523193359375,0.131833251953125,0.13181419677734374,0.1317951171875,0.13177607421875,0.13175703125,0.13173800048828124,0.1317189697265625,0.13169996337890624,0.13168096923828124,0.131661962890625,0.13164296875,0.1316240234375,0.131605029296875,0.1315861083984375,0.13156715087890625,0.1315482421875,0.131529296875,0.1315103759765625,0.1314914794921875,0.1314725830078125,0.13145369873046875,0.1314348388671875,0.131415966796875,0.1313970947265625,0.1313782470703125,0.131359423828125,0.131340576171875,0.1313217529296875,0.1313029541015625,0.13128416748046876,0.1312653564453125,0.13124658203125,0.1312278076171875,0.1312090576171875,0.13119029541015625,0.1311715576171875,0.1311528076171875,0.13113408203125,0.13111536865234374,0.1310966552734375,0.131077978515625,0.13105927734375,0.1310406005859375,0.13102193603515624,0.1310032958984375,0.1309846435546875,0.1309659912109375,0.13094736328125,0.1309287353515625,0.1309101318359375,0.1308915283203125,0.13087293701171876,0.13085433349609374,0.130835791015625,0.1308171875,0.1307986328125,0.1307801025390625,0.13076153564453125,0.130743017578125,0.13072451171875,0.130706005859375,0.1306875,0.1306690185546875,0.13065048828125,0.13063204345703125,0.13061356201171875,0.1305951171875,0.13057667236328124,0.130558203125,0.130539794921875,0.13052137451171875,0.1305029541015625,0.1304845703125,0.130466162109375,0.130447802734375,0.13042939453125,0.1304110595703125,0.13039267578125,0.13037432861328124,0.13035599365234374,0.1303376708984375,0.1303193359375,0.13030101318359374,0.1302827392578125,0.13026444091796874,0.130246142578125,0.13022783203125,0.13020958251953124,0.130191357421875,0.130173095703125,0.130154833984375,0.13013662109375,0.1301183837890625,0.1301001708984375,0.1300819580078125,0.13006376953125,0.1300455810546875,0.13002740478515626,0.13000921630859374,0.12999105224609375,0.129972900390625,0.12995477294921876,0.12993662109375,0.1299184814453125,0.129900390625,0.12988228759765624,0.12986416015625,0.1298460693359375,0.1298280029296875,0.129809912109375,0.129791845703125,0.1297738037109375,0.12975574951171875,0.1297376953125,0.12971966552734376,0.1297016357421875,0.1296836181640625,0.1296656005859375,0.12964761962890625,0.1296296142578125,0.1296116455078125,0.12959368896484375,0.1295757080078125,0.129557763671875,0.12953980712890625,0.129521875,0.129503955078125,0.12948602294921874,0.129468115234375,0.1294501953125,0.12943231201171876,0.12941441650390625,0.129396533203125,0.129378662109375,0.1293608154296875,0.12934295654296876,0.12932510986328125,0.129307275390625,0.129289453125,0.12927164306640626,0.12925382080078124,0.1292360107421875,0.129218212890625,0.12920042724609376,0.129182666015625,0.129164892578125,0.129147119140625,0.1291293701171875,0.12911162109375,0.129093896484375,0.12907615966796876,0.12905843505859374,0.12904072265625,0.12902303466796874,0.129005322265625,0.128987646484375,0.128969970703125,0.12895225830078125,0.128934619140625,0.12891697998046875,0.12889932861328124,0.128881689453125,0.12886405029296874,0.128846435546875,0.1288288330078125,0.12881123046875,0.12879365234375,0.12877603759765624,0.128758447265625,0.1287408935546875,0.1287233154296875,0.12870574951171876,0.1286882080078125,0.1286706787109375,0.1286531494140625,0.12863560791015624,0.1286180908203125,0.12860059814453126,0.12858310546875,0.1285656005859375,0.12854813232421874,0.12853065185546875,0.12851318359375,0.128495703125,0.128478271484375,0.12846083984375,0.1284433837890625,0.1284259521484375,0.128408544921875,0.1283911376953125,0.12837371826171876,0.12835633544921876,0.1283389404296875,0.12832156982421875,0.12830419921875,0.12828682861328125,0.12826944580078126,0.1282521240234375,0.12823477783203124,0.1282174560546875,0.12820013427734375,0.1281828125,0.1281655029296875,0.1281481689453125,0.1281309326171875,0.128113623046875,0.12809635009765624,0.1280790771484375,0.12806181640625,0.1280445556640625,0.128027294921875,0.12801005859375,0.12799285888671874,0.1279756103515625,0.12795841064453126,0.1279411865234375,0.12792398681640624,0.12790679931640625,0.1278896240234375,0.1278724365234375,0.1278552734375,0.1278381103515625,0.127820947265625,0.12780380859375,0.127786669921875,0.12776954345703126,0.1277524169921875,0.127735302734375,0.12771820068359374,0.1277010986328125,0.1276840087890625,0.1276669189453125,0.127649853515625,0.1276327880859375,0.1276157470703125,0.12759866943359374,0.127581640625,0.1275645751953125,0.12754755859375,0.127530517578125,0.12751351318359375,0.1274965087890625,0.1274795166015625,0.1274625,0.12744549560546875,0.12742855224609376,0.1274115478515625,0.1273946044921875,0.12737764892578124,0.1273607177734375,0.12734376220703125,0.1273268310546875,0.127309912109375,0.1272929931640625,0.12727607421875,0.1272591552734375,0.12724227294921875,0.12722537841796874,0.12720849609375,0.127191650390625,0.127174755859375,0.1271578857421875,0.1271410400390625,0.1271241943359375,0.127107373046875,0.12709052734375,0.12707371826171876,0.1270569091796875,0.1270401123046875,0.1270233154296875,0.12700650634765626,0.1269897216796875,0.1269729248046875,0.1269561767578125,0.126939404296875,0.12692264404296874,0.126905908203125,0.12688914794921874,0.126872412109375,0.12685570068359375,0.12683897705078126,0.126822265625,0.12680556640625,0.1267888671875,0.12677216796875,0.12675548095703126,0.126738818359375,0.1267221435546875,0.12670548095703124,0.1266888427734375,0.12667218017578125,0.12665552978515626,0.1266388916015625,0.1266222900390625,0.12660565185546874,0.1265890380859375,0.12657242431640625,0.126555859375,0.1265392578125,0.12652265625,0.126506103515625,0.12648953857421874,0.12647294921875,0.126456396484375,0.1264398681640625,0.1264233154296875,0.126406787109375,0.1263902587890625,0.12637374267578125,0.1263572265625,0.12634073486328126,0.12632421875,0.12630772705078125,0.126291259765625,0.1262747802734375,0.12625830078125,0.126241845703125,0.126225390625,0.126208935546875,0.1261925048828125,0.12617606201171874,0.12615963134765626,0.126143212890625,0.126126806640625,0.12611038818359374,0.126093994140625,0.1260776123046875,0.1260612060546875,0.12604482421875,0.126028466796875,0.12601209716796874,0.1259957275390625,0.12597939453125,0.125963037109375,0.1259467041015625,0.12593037109375,0.1259140380859375,0.12589771728515625,0.1258814208984375,0.1258651123046875,0.125848828125,0.12583251953125,0.12581624755859375,0.1257999755859375,0.12578370361328126,0.1257674560546875,0.12575118408203126,0.1257349365234375,0.125718701171875,0.12570245361328125,0.1256862548828125,0.1256699951171875,0.12565379638671875,0.12563758544921874,0.12562138671875,0.12560517578125,0.1255889892578125,0.12557283935546876,0.125556640625,0.125540478515625,0.12552431640625,0.12550816650390625,0.12549202880859375,0.12547587890625,0.1254597412109375,0.1254436279296875,0.125427490234375,0.1254114013671875,0.1253952880859375,0.1253791748046875,0.1253630859375,0.1253469970703125,0.1253309326171875,0.12531484375,0.125298779296875,0.12528271484375,0.12526666259765626,0.1252506103515625,0.1252345703125,0.1252185546875,0.1252025146484375,0.12518648681640626,0.1251704833984375,0.12515447998046875,0.1251385009765625,0.1251224609375,0.125106494140625,0.1250905029296875,0.1250745361328125,0.1250585693359375,0.1250426025390625,0.1250266357421875,0.125010693359375,0.12499476318359375,0.1249788330078125,0.124962890625,0.12494697265625,0.1249310546875,0.12491513671875,0.1248992431640625,0.12488333740234375,0.1248674560546875,0.12485157470703125,0.124835693359375,0.12481982421875,0.124803955078125,0.1247881103515625,0.1247722412109375,0.124756396484375,0.1247405517578125,0.12472471923828125,0.1247089111328125,0.12469306640625,0.124677294921875,0.1246614501953125,0.12464566650390625,0.1246298828125,0.124614111328125,0.1245983154296875,0.1245825439453125,0.1245667724609375,0.1245510009765625,0.1245352294921875,0.1245195068359375,0.124503759765625,0.12448802490234374,0.1244722900390625,0.124456591796875,0.1244408447265625,0.124425146484375,0.124409423828125,0.12439375,0.12437802734375,0.124362353515625,0.1243466796875,0.124331005859375,0.12431533203125,0.12429967041015624,0.1242840087890625,0.124268359375,0.1242527099609375,0.1242370849609375,0.12422147216796875,0.124205859375,0.12419022216796875,0.124174609375,0.1241590087890625,0.1241434326171875,0.12412781982421875,0.124112255859375,0.1240966552734375,0.12408109130859375,0.1240655029296875,0.124049951171875,0.1240343994140625,0.12401884765625,0.1240033203125,0.12398779296875,0.1239722412109375,0.12395672607421875,0.1239412109375,0.12392568359375,0.1239101806640625,0.12389468994140625,0.12387919921875,0.12386373291015625,0.1238482177734375,0.12383275146484375,0.12381728515625,0.1238018310546875,0.12378636474609375,0.12377091064453125,0.12375545654296875,0.1237400390625,0.1237245849609375,0.1237091796875,0.12369375,0.12367833251953125,0.12366292724609375,0.1236475341796875,0.12363212890625,0.123616748046875,0.12360135498046874,0.1235859619140625,0.12357059326171875,0.123555224609375,0.1235398681640625,0.1235245361328125,0.1235091796875,0.12349381103515625,0.1234784912109375,0.1234631591796875,0.12344783935546876,0.12343251953125,0.1234172119140625,0.1234018798828125,0.123386572265625,0.1233712890625,0.1233560302734375,0.1233407470703125,0.1233254638671875,0.1233101806640625,0.123294921875]};\n",
       "\n",
       "  var data = [data0];\n",
       "  var layout = {\"title\":\"loss by time\"};\n",
       "\n",
       "  Plotly.plot('plot-1735024577', data, layout);\n",
       "})();\n",
       "});\n",
       "      "
      ]
     },
     "metadata": {},
     "output_type": "display_data"
    },
    {
     "data": {
      "text/plain": [
       "\u001b[36mres16_1\u001b[39m: \u001b[32mString\u001b[39m = \u001b[32m\"plot-1735024577\"\u001b[39m"
      ]
     },
     "execution_count": 17,
     "metadata": {},
     "output_type": "execute_result"
    }
   ],
   "source": [
    "plotly.JupyterScala.init()\n",
    "Seq(Scatter(lossSeq.indices, lossSeq)).plot(title = \"loss by time\")"
   ]
  },
  {
   "cell_type": "markdown",
   "metadata": {},
   "source": [
    "## Summary\n",
    "\n",
    "We have learned the follows in this article:\n",
    "\n",
    "* Prepare and process CIFAR10 data\n",
    "* Write softmax classifier\n",
    "* Use the prediction image of the neural network written by softmax classifier to match with the probability of each category."
   ]
  }
 ],
 "metadata": {
  "kernelspec": {
   "display_name": "Scala",
   "language": "scala",
   "name": "scala"
  },
  "language_info": {
   "codemirror_mode": "text/x-scala",
   "file_extension": ".scala",
   "mimetype": "text/x-scala",
   "name": "scala211",
   "nbconvert_exporter": "script",
   "pygments_lexer": "scala",
   "version": "2.11.11"
  }
 },
 "nbformat": 4,
 "nbformat_minor": 2
}
