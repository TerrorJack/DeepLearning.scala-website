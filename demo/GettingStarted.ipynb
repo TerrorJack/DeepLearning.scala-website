{
 "cells": [
  {
   "cell_type": "markdown",
   "metadata": {},
   "source": [
    "In this GettingStarted article, we will build a robot for answering questions in IQ test with the help of [DeepLearning.scala](http://deeplearning.thoughtworks.school/)."
   ]
  },
  {
   "cell_type": "markdown",
   "metadata": {},
   "source": [
    "## Background"
   ]
  },
  {
   "cell_type": "markdown",
   "metadata": {},
   "source": [
    "Suppose we are building a robot for answering questions in IQ test like this:\n",
    "\n",
    "> What is the next number in sequence:\n",
    ">> 3, 6, 9, ?\n",
    ">\n",
    "> The answer is 12."
   ]
  },
  {
   "cell_type": "markdown",
   "metadata": {},
   "source": [
    "We prepared some questions and corresponding answers as [INDArray](https://oss.sonatype.org/service/local/repositories/public/archive/org/nd4j/nd4j-api/0.8.0/nd4j-api-0.8.0-javadoc.jar/!/org/nd4j/linalg/api/ndarray/INDArray.html)s:"
   ]
  },
  {
   "cell_type": "code",
   "execution_count": 1,
   "metadata": {
    "scrolled": true
   },
   "outputs": [
    {
     "name": "stderr",
     "output_type": "stream",
     "text": [
      "SLF4J: Failed to load class \"org.slf4j.impl.StaticLoggerBinder\".\n",
      "SLF4J: Defaulting to no-operation (NOP) logger implementation\n",
      "SLF4J: See http://www.slf4j.org/codes.html#StaticLoggerBinder for further details.\n"
     ]
    },
    {
     "data": {
      "text/plain": [
       "\u001b[32mimport \u001b[39m\u001b[36m$ivy.$                     \n",
       "\u001b[39m\n",
       "\u001b[32mimport \u001b[39m\u001b[36m$ivy.$                                    \n",
       "\u001b[39m\n",
       "\u001b[32mimport \u001b[39m\u001b[36morg.nd4j.linalg.api.ndarray.INDArray\n",
       "\n",
       "\u001b[39m\n",
       "\u001b[36mTrainingQuestions\u001b[39m: \u001b[32morg\u001b[39m.\u001b[32mnd4j\u001b[39m.\u001b[32mlinalg\u001b[39m.\u001b[32mapi\u001b[39m.\u001b[32mndarray\u001b[39m.\u001b[32mINDArray\u001b[39m = [[0.00, 1.00, 2.00],\n",
       " [4.00, 7.00, 10.00],\n",
       " [13.00, 15.00, 17.00]]\n",
       "\u001b[36mExpectedAnswers\u001b[39m: \u001b[32morg\u001b[39m.\u001b[32mnd4j\u001b[39m.\u001b[32mlinalg\u001b[39m.\u001b[32mapi\u001b[39m.\u001b[32mndarray\u001b[39m.\u001b[32mINDArray\u001b[39m = [3.00, 13.00, 19.00]"
      ]
     },
     "execution_count": 1,
     "metadata": {},
     "output_type": "execute_result"
    }
   ],
   "source": [
    "import $ivy.`org.nd4j::nd4s:0.8.0`\n",
    "import $ivy.`org.nd4j:nd4j-native-platform:0.8.0`\n",
    "import org.nd4j.linalg.api.ndarray.INDArray\n",
    "\n",
    "val TrainingQuestions: INDArray = {\n",
    "  import org.nd4s.Implicits._\n",
    "  Array(\n",
    "    Array(0, 1, 2),\n",
    "    Array(4, 7, 10),\n",
    "    Array(13, 15, 17)\n",
    "  ).toNDArray\n",
    "}\n",
    "\n",
    "val ExpectedAnswers: INDArray = {\n",
    "  import org.nd4s.Implicits._\n",
    "  Array(\n",
    "    Array(3),\n",
    "    Array(13),\n",
    "    Array(19)\n",
    "  ).toNDArray\n",
    "}\n"
   ]
  },
  {
   "cell_type": "markdown",
   "metadata": {},
   "source": [
    "These samples will be used to train the robot."
   ]
  },
  {
   "cell_type": "markdown",
   "metadata": {},
   "source": [
    "In the rest of this article, we will build the robot in the following steps:\n",
    "\n",
    "1. Install DeepLearning.scala, which is the framework that helps us build the robot.\n",
    "1. Setup configuration (also known as hyperparameters) of the robot.\n",
    "1. Build an untrained neural network of the robot.\n",
    "1. Train the neural network using the above samples.\n",
    "1. Test the robot seeing if the robot have been learnt how to answer these kind of questions."
   ]
  },
  {
   "cell_type": "markdown",
   "metadata": {},
   "source": [
    "## Install DeepLearning.scala"
   ]
  },
  {
   "cell_type": "markdown",
   "metadata": {},
   "source": [
    "DeepLearning.scala is hosted on Maven Central repository.\n",
    "\n",
    "You can use magic imports in [jupyter-scala](https://github.com/alexarchambault/jupyter-scala) or [Ammonite-REPL](http://www.lihaoyi.com/Ammonite/#Ammonite-REPL) to download DeepLearning.scala and its dependencies."
   ]
  },
  {
   "cell_type": "code",
   "execution_count": 2,
   "metadata": {},
   "outputs": [
    {
     "data": {
      "text/plain": [
       "\u001b[32mimport \u001b[39m\u001b[36m$ivy.$                                                          \u001b[39m"
      ]
     },
     "execution_count": 2,
     "metadata": {},
     "output_type": "execute_result"
    }
   ],
   "source": [
    "import $ivy.`com.thoughtworks.deeplearning::plugins-builtins:2.0.0-RC7`"
   ]
  },
  {
   "cell_type": "markdown",
   "metadata": {},
   "source": [
    "If you use [sbt](http://www.scala-sbt.org), please add the following settings into your `build.sbt`:\n",
    "\n",
    "``` scala\n",
    "libraryDependencies += \"com.thoughtworks.deeplearning\" %% \"plugins-builtins\" % \"latest.release\"\n",
    "\n",
    "libraryDependencies += \"org.nd4j\" %% \"nd4j-native-platform\" % \"0.8.0\"\n",
    "\n",
    "fork := true\n",
    "\n",
    "scalaVersion := \"2.11.11\"\n",
    "```\n",
    "\n",
    "Note that this example must run on Scala 2.11.11 because [nd4s](http://nd4j.org/scala) does not support Scala 2.12. Make sure there is not a setting like `scalaVersion := \"2.12.x\"` in your `build.sbt`.\n",
    "\n",
    "See [Scaladex](https://index.scala-lang.org/thoughtworksinc/deeplearning.scala) to install DeepLearning.scala in other build tools!"
   ]
  },
  {
   "cell_type": "markdown",
   "metadata": {},
   "source": [
    "## Setup hyperparameters"
   ]
  },
  {
   "cell_type": "markdown",
   "metadata": {},
   "source": [
    "Hyperparameters are global configurations for a neural network.\n",
    "\n",
    "For this robot, we want to set its learning rate, which determines how fast the robot change its inner weights.\n",
    "\n",
    "In DeepLearning.scala, hyperparameters can be introduced by plugins, which is a small piece of code loaded from a URL."
   ]
  },
  {
   "cell_type": "code",
   "execution_count": 4,
   "metadata": {},
   "outputs": [
    {
     "data": {
      "text/plain": [
       "\u001b[36mINDArrayLearningRatePluginUrl\u001b[39m: \u001b[32mString\u001b[39m = \u001b[32m\"https://gist.githubusercontent.com/Atry/1fb0608c655e3233e68b27ba99515f16/raw/27c7d00dd37785335b6acfe1f1c5614843bc6d9f/INDArrayLearningRate.sc\"\u001b[39m"
      ]
     },
     "execution_count": 4,
     "metadata": {},
     "output_type": "execute_result"
    }
   ],
   "source": [
    "val INDArrayLearningRatePluginUrl = \"https://gist.githubusercontent.com/Atry/1fb0608c655e3233e68b27ba99515f16/raw/27c7d00dd37785335b6acfe1f1c5614843bc6d9f/INDArrayLearningRate.sc\"\n",
    "interp.load(scala.io.Source.fromURL(new java.net.URL(INDArrayLearningRatePluginUrl)).mkString)"
   ]
  },
  {
   "cell_type": "markdown",
   "metadata": {},
   "source": [
    "By loading the hyperparameter plugin `INDArrayLearningRate`, we are able to create the context of neural network with `learningRate` parameter."
   ]
  },
  {
   "cell_type": "code",
   "execution_count": 5,
   "metadata": {},
   "outputs": [
    {
     "data": {
      "text/plain": [
       "\u001b[32mimport \u001b[39m\u001b[36mcom.thoughtworks.deeplearning.plugins.Builtins\u001b[39m"
      ]
     },
     "execution_count": 5,
     "metadata": {},
     "output_type": "execute_result"
    }
   ],
   "source": [
    "import com.thoughtworks.deeplearning.plugins.Builtins"
   ]
  },
  {
   "cell_type": "markdown",
   "metadata": {},
   "source": [
    "All DeepLearning.scala built-in features are also provided by plugins. [Builtins](https://javadoc.io/page/com.thoughtworks.deeplearning/plugins-builtins_2.11/latest/com/thoughtworks/deeplearning/plugins/Builtins.html) is the plugin that contains all other DeepLearning.scala built-in plugins."
   ]
  },
  {
   "cell_type": "markdown",
   "metadata": {},
   "source": [
    "Now we create the context and setup learning rate to `0.003`."
   ]
  },
  {
   "cell_type": "code",
   "execution_count": 7,
   "metadata": {
    "collapsed": true,
    "scrolled": true
   },
   "outputs": [],
   "source": [
    "// `interp.load` is a workaround for https://github.com/lihaoyi/Ammonite/issues/649 and https://github.com/scala/bug/issues/10390\n",
    "interp.load(\"\"\"\n",
    "  import scala.concurrent.ExecutionContext.Implicits.global\n",
    "  import com.thoughtworks.feature.Factory\n",
    "  val hyperparameters = Factory[Builtins with INDArrayLearningRate].newInstance(learningRate = 0.003)\n",
    "\"\"\")"
   ]
  },
  {
   "cell_type": "markdown",
   "metadata": {},
   "source": [
    "See [Factory](https://javadoc.io/page/com.thoughtworks.feature/factory_2.11/latest/com/thoughtworks/feature/Factory.html) if you are wondering how those plugins are composed together."
   ]
  },
  {
   "cell_type": "markdown",
   "metadata": {},
   "source": [
    "The `Builtins` plugin contains some implicit values and views, which should be imported as following:"
   ]
  },
  {
   "cell_type": "code",
   "execution_count": 8,
   "metadata": {},
   "outputs": [
    {
     "data": {
      "text/plain": [
       "\u001b[32mimport \u001b[39m\u001b[36mhyperparameters.implicits._\u001b[39m"
      ]
     },
     "execution_count": 8,
     "metadata": {},
     "output_type": "execute_result"
    }
   ],
   "source": [
    "import hyperparameters.implicits._"
   ]
  },
  {
   "cell_type": "markdown",
   "metadata": {},
   "source": [
    "## Build an untrained neural network of the robot"
   ]
  },
  {
   "cell_type": "markdown",
   "metadata": {},
   "source": [
    "In DeepLearning.scala, a neural network is simply a function that references some **weights**, which are mutable variables being changed automatically according to some goals during training.\n",
    "\n",
    "For example, given `x0`, `x1` and `x2` are the input sequence passed to the robot, we can build a function that returns the answer as `robotWeight0 * x0 + robotWeight1 * x1 + robotWeight2 * x2`, by adjusting those weights during training, the result should become close to the expected answer."
   ]
  },
  {
   "cell_type": "markdown",
   "metadata": {},
   "source": [
    "In DeepLearning.scala, weights can be created as following:"
   ]
  },
  {
   "cell_type": "code",
   "execution_count": 9,
   "metadata": {
    "scrolled": true
   },
   "outputs": [
    {
     "data": {
      "text/plain": [
       "defined \u001b[32mfunction\u001b[39m \u001b[36minitialValueOfRobotWeight\u001b[39m\n",
       "\u001b[32mimport \u001b[39m\u001b[36mhyperparameters.INDArrayWeight\n",
       "\u001b[39m\n",
       "\u001b[36mrobotWeight\u001b[39m: \u001b[32mObject\u001b[39m with \u001b[32mhyperparameters\u001b[39m.\u001b[32mINDArrayWeightApi\u001b[39m with \u001b[32mhyperparameters\u001b[39m.\u001b[32mWeightApi\u001b[39m with \u001b[32mhyperparameters\u001b[39m.\u001b[32mWeightApi\u001b[39m = Weight[fullName=$sess.cmd8Wrapper.Helper.robotWeight]"
      ]
     },
     "execution_count": 9,
     "metadata": {},
     "output_type": "execute_result"
    }
   ],
   "source": [
    "def initialValueOfRobotWeight: INDArray = {\n",
    "  import org.nd4j.linalg.factory.Nd4j\n",
    "  import org.nd4s.Implicits._\n",
    "  Nd4j.randn(3, 1)\n",
    "}\n",
    "\n",
    "import hyperparameters.INDArrayWeight\n",
    "val robotWeight = INDArrayWeight(initialValueOfRobotWeight)"
   ]
  },
  {
   "cell_type": "markdown",
   "metadata": {},
   "source": [
    "In the above code, `robotWeight` is a weight of n-dimensional array, say, [INDArrayWeight], initialized from random values. Therefore, the formula `robotWeight0 * x0 + robotWeight1 * x1 + robotWeight2 * x2` can be equivalent to a matrix multipication, written as a `dot` method call:\n",
    "\n",
    "[INDArrayWeight]: https://javadoc.io/page/com.thoughtworks.deeplearning/plugins-builtins_2.11/latest/com/thoughtworks/deeplearning/plugins/INDArrayWeights$INDArrayWeight.html"
   ]
  },
  {
   "cell_type": "code",
   "execution_count": 10,
   "metadata": {},
   "outputs": [
    {
     "data": {
      "text/plain": [
       "\u001b[32mimport \u001b[39m\u001b[36mhyperparameters.INDArrayLayer\n",
       "\u001b[39m\n",
       "defined \u001b[32mfunction\u001b[39m \u001b[36miqTestRobot\u001b[39m"
      ]
     },
     "execution_count": 10,
     "metadata": {},
     "output_type": "execute_result"
    }
   ],
   "source": [
    "import hyperparameters.INDArrayLayer\n",
    "def iqTestRobot(questions: INDArray): INDArrayLayer = {\n",
    "  questions dot robotWeight\n",
    "}"
   ]
  },
  {
   "cell_type": "markdown",
   "metadata": {},
   "source": [
    "Note that the `dot` method is a differentiable function provided by DeepLearning.scala.\n",
    "You can find other [n-dimensional array differentiable methods in Scaladoc](https://javadoc.io/page/com.thoughtworks.deeplearning/plugins-builtins_2.11/latest/com/thoughtworks/deeplearning/plugins/RawINDArrayLayers$ImplicitsApi$INDArrayLayerOps.html)\n",
    "\n",
    "Unlike the functions in nd4s, all those differentiable functions accepts either an `INDArray`, `INDArrayWeight` \n",
    "or [INDArrayLayer], and returns one [Layer] of neural network, which can be composed into another differentiable function call.\n",
    "\n",
    "[INDArrayLayer]: https://javadoc.io/page/com.thoughtworks.deeplearning/plugins-builtins_2.11/latest/com/thoughtworks/deeplearning/plugins/RawINDArrayLayers$INDArrayLayer.html\n",
    "\n",
    "[Layer]: https://javadoc.io/page/com.thoughtworks.deeplearning/plugins-builtins_2.11/latest/com/thoughtworks/deeplearning/plugins/Layers$Layer.html"
   ]
  },
  {
   "cell_type": "markdown",
   "metadata": {},
   "source": [
    "## Training the network"
   ]
  },
  {
   "cell_type": "markdown",
   "metadata": {},
   "source": [
    "### Loss function"
   ]
  },
  {
   "cell_type": "markdown",
   "metadata": {},
   "source": [
    "In DeepLearning.scala, when we train a neural network, our goal should always be minimizing the return value.\n",
    "\n",
    "For example, if `iqTestRobot(TrainingQuestions).train` get called repeatedly,\n",
    "the neural network would try to minimize `input dot robotWeight`.\n",
    "`robotWeight` would become smaller and smaller in order to make `input dot robotWeight` smaller,\n",
    "and `iqTestRobot(TrainingQuestions).predict` would return an `INDArray` of small numbers.\n",
    "\n",
    "What if you expect `iqTestRobot(TrainingQuestions).predict` to return `ExpectedAnswers`?\n",
    "\n",
    "You can create another neural network that evaluates how far between the result of `myNeuralNetwork` and your expectation. The new neural network is usually called **loss function**.\n",
    "\n",
    "In this article we will use square loss as the loss function:"
   ]
  },
  {
   "cell_type": "code",
   "execution_count": 11,
   "metadata": {
    "scrolled": true
   },
   "outputs": [
    {
     "data": {
      "text/plain": [
       "\u001b[32mimport \u001b[39m\u001b[36mhyperparameters.DoubleLayer\n",
       "\u001b[39m\n",
       "defined \u001b[32mfunction\u001b[39m \u001b[36msquareLoss\u001b[39m"
      ]
     },
     "execution_count": 11,
     "metadata": {},
     "output_type": "execute_result"
    }
   ],
   "source": [
    "import hyperparameters.DoubleLayer\n",
    "def squareLoss(questions: INDArray, expectAnswer: INDArray): DoubleLayer = {\n",
    "  val difference = iqTestRobot(questions) - expectAnswer\n",
    "  (difference * difference).mean\n",
    "}"
   ]
  },
  {
   "cell_type": "markdown",
   "metadata": {},
   "source": [
    "When the `lossFunction` get trained continuously, its return value will be close to zero, and the result of  `myNeuralNetwork` must be close to the expected result at the same time.\n",
    "\n",
    "Note the `lossFunction` accepts a `questions` and `expectAnswer` as its parameter.\n",
    "The first parameter is the input data used to train the neural network, and the second array is the expected output.\n",
    "\n",
    "The `squareLoss` function itself is a neural network, internally using the layer returned by `iqTestRobot` method."
   ]
  },
  {
   "cell_type": "markdown",
   "metadata": {},
   "source": [
    "### Run the training task"
   ]
  },
  {
   "cell_type": "markdown",
   "metadata": {},
   "source": [
    "As I mentioned before, there is a [train] method for `DoubleLayer`. It is a [Task] that performs one iteration of training.\n",
    "\n",
    "Since we want to repeatedly train the neural network of the robot, we need to create another `Task` that performs many iterations of training.\n",
    "\n",
    "In this article, we use [ThoughtWorks Each] to build such a `Task`:\n",
    "\n",
    "[train]: https://javadoc.io/page/com.thoughtworks.deeplearning/plugins-builtins_2.11/latest/com/thoughtworks/deeplearning/DeepLearning$$Ops.html#train(implicitmonoid:spire.algebra.MultiplicativeMonoid[Ops.this.typeClassInstance.Delta]):scalaz.concurrent.Task[Ops.this.typeClassInstance.Data]\n",
    "\n",
    "[Task]: https://javadoc.io/page/org.scalaz/scalaz-concurrent_2.11/latest/scalaz/concurrent/Task.html\n",
    "\n",
    "[ThoughtWorks Each]: https://github.com/ThoughtWorksInc/each"
   ]
  },
  {
   "cell_type": "code",
   "execution_count": 12,
   "metadata": {},
   "outputs": [
    {
     "data": {
      "text/plain": [
       "\u001b[32mimport \u001b[39m\u001b[36m$ivy.$                                  \n",
       "\u001b[39m\n",
       "\u001b[32mimport \u001b[39m\u001b[36m$plugin.$                                            \n",
       "\n",
       "\u001b[39m\n",
       "\u001b[32mimport \u001b[39m\u001b[36mcom.thoughtworks.each.Monadic._\n",
       "\u001b[39m\n",
       "\u001b[32mimport \u001b[39m\u001b[36mcom.thoughtworks.future._\n",
       "\u001b[39m\n",
       "\u001b[32mimport \u001b[39m\u001b[36mscala.concurrent.Await\n",
       "\u001b[39m\n",
       "\u001b[32mimport \u001b[39m\u001b[36mscala.concurrent.duration.Duration\n",
       "\u001b[39m\n",
       "\u001b[32mimport \u001b[39m\u001b[36mscalaz.std.stream._\u001b[39m"
      ]
     },
     "execution_count": 12,
     "metadata": {},
     "output_type": "execute_result"
    }
   ],
   "source": [
    "import $ivy.`com.thoughtworks.each::each:3.3.1`\n",
    "import $plugin.$ivy.`org.scalamacros:paradise_2.11.11:2.1.0`\n",
    "\n",
    "import com.thoughtworks.each.Monadic._\n",
    "import com.thoughtworks.future._\n",
    "import scala.concurrent.Await\n",
    "import scala.concurrent.duration.Duration\n",
    "import scalaz.std.stream._"
   ]
  },
  {
   "cell_type": "code",
   "execution_count": 13,
   "metadata": {
    "scrolled": true
   },
   "outputs": [
    {
     "data": {
      "text/plain": [
       "\u001b[36mTotalIterations\u001b[39m: \u001b[32mInt\u001b[39m = \u001b[32m500\u001b[39m\n",
       "defined \u001b[32mfunction\u001b[39m \u001b[36mtrain\u001b[39m"
      ]
     },
     "execution_count": 13,
     "metadata": {},
     "output_type": "execute_result"
    }
   ],
   "source": [
    "val TotalIterations = 500\n",
    "\n",
    "@monadic[Future]\n",
    "def train: Future[Stream[Double]] = {\n",
    "  for (iteration <- (0 until TotalIterations).toStream) yield {\n",
    "    squareLoss(TrainingQuestions, ExpectedAnswers).train.each\n",
    "  }\n",
    "}"
   ]
  },
  {
   "cell_type": "markdown",
   "metadata": {},
   "source": [
    "Then we can run the task to train the robot."
   ]
  },
  {
   "cell_type": "code",
   "execution_count": 14,
   "metadata": {},
   "outputs": [
    {
     "data": {
      "text/plain": [
       "\u001b[36mlossByTime\u001b[39m: \u001b[32mStream\u001b[39m[\u001b[32mDouble\u001b[39m] = \u001b[33mStream\u001b[39m(\n",
       "  \u001b[32m537.5031331380209\u001b[39m,\n",
       "  \u001b[32m256.9110107421875\u001b[39m,\n",
       "  \u001b[32m123.38924153645833\u001b[39m,\n",
       "  \u001b[32m59.83271280924479\u001b[39m,\n",
       "  \u001b[32m29.561134338378906\u001b[39m,\n",
       "  \u001b[32m15.124959309895834\u001b[39m,\n",
       "  \u001b[32m8.223126729329428\u001b[39m,\n",
       "  \u001b[32m4.906610488891602\u001b[39m,\n",
       "  \u001b[32m3.296764055887858\u001b[39m,\n",
       "  \u001b[32m2.499850273132324\u001b[39m,\n",
       "  \u001b[32m2.090668201446533\u001b[39m,\n",
       "\u001b[33m...\u001b[39m"
      ]
     },
     "execution_count": 14,
     "metadata": {},
     "output_type": "execute_result"
    }
   ],
   "source": [
    "val lossByTime: Stream[Double] = Await.result(train.toScalaFuture, Duration.Inf)"
   ]
  },
  {
   "cell_type": "markdown",
   "metadata": {},
   "source": [
    "Then we create a plot to show how the loss changed during iterations."
   ]
  },
  {
   "cell_type": "code",
   "execution_count": 15,
   "metadata": {},
   "outputs": [
    {
     "data": {
      "text/html": [
       "\n",
       "      <script type=\"text/javascript\">\n",
       "        require.config({\n",
       "  paths: {\n",
       "    d3: 'https://cdnjs.cloudflare.com/ajax/libs/d3/3.5.17/d3.min',\n",
       "    plotly: 'https://cdn.plot.ly/plotly-1.12.0.min'\n",
       "  },\n",
       "\n",
       "  shim: {\n",
       "    plotly: {\n",
       "      deps: ['d3', 'jquery'],\n",
       "      exports: 'plotly'\n",
       "    }\n",
       "  }\n",
       "});\n",
       "        \n",
       "\n",
       "        require(['plotly'], function(Plotly) {\n",
       "          window.Plotly = Plotly;\n",
       "        });\n",
       "      </script>\n",
       "    "
      ]
     },
     "metadata": {},
     "output_type": "display_data"
    },
    {
     "data": {
      "text/plain": [
       "\u001b[32mimport \u001b[39m\u001b[36m$ivy.$                                             \n",
       "\n",
       "\u001b[39m\n",
       "\u001b[32mimport \u001b[39m\u001b[36mplotly._\n",
       "\u001b[39m\n",
       "\u001b[32mimport \u001b[39m\u001b[36mplotly.element._\n",
       "\u001b[39m\n",
       "\u001b[32mimport \u001b[39m\u001b[36mplotly.layout._\n",
       "\u001b[39m\n",
       "\u001b[32mimport \u001b[39m\u001b[36mplotly.JupyterScala._\n",
       "\n",
       "\u001b[39m"
      ]
     },
     "execution_count": 15,
     "metadata": {},
     "output_type": "execute_result"
    }
   ],
   "source": [
    "import $ivy.`org.plotly-scala::plotly-jupyter-scala:0.3.2`\n",
    "\n",
    "import plotly._\n",
    "import plotly.element._\n",
    "import plotly.layout._\n",
    "import plotly.JupyterScala._\n",
    "\n",
    "plotly.JupyterScala.init()"
   ]
  },
  {
   "cell_type": "code",
   "execution_count": 16,
   "metadata": {
    "scrolled": false
   },
   "outputs": [
    {
     "data": {
      "text/html": [
       "<div class=\"chart\" id=\"plot-444791572\"></div>"
      ]
     },
     "metadata": {},
     "output_type": "display_data"
    },
    {
     "data": {
      "application/javascript": [
       "requirejs([\"plotly\"], function(Plotly) {\n",
       "  (function () {\n",
       "  var data0 = {\"type\":\"scatter\",\"x\":[0.0,1.0,2.0,3.0,4.0,5.0,6.0,7.0,8.0,9.0,10.0,11.0,12.0,13.0,14.0,15.0,16.0,17.0,18.0,19.0,20.0,21.0,22.0,23.0,24.0,25.0,26.0,27.0,28.0,29.0,30.0,31.0,32.0,33.0,34.0,35.0,36.0,37.0,38.0,39.0,40.0,41.0,42.0,43.0,44.0,45.0,46.0,47.0,48.0,49.0,50.0,51.0,52.0,53.0,54.0,55.0,56.0,57.0,58.0,59.0,60.0,61.0,62.0,63.0,64.0,65.0,66.0,67.0,68.0,69.0,70.0,71.0,72.0,73.0,74.0,75.0,76.0,77.0,78.0,79.0,80.0,81.0,82.0,83.0,84.0,85.0,86.0,87.0,88.0,89.0,90.0,91.0,92.0,93.0,94.0,95.0,96.0,97.0,98.0,99.0,100.0,101.0,102.0,103.0,104.0,105.0,106.0,107.0,108.0,109.0,110.0,111.0,112.0,113.0,114.0,115.0,116.0,117.0,118.0,119.0,120.0,121.0,122.0,123.0,124.0,125.0,126.0,127.0,128.0,129.0,130.0,131.0,132.0,133.0,134.0,135.0,136.0,137.0,138.0,139.0,140.0,141.0,142.0,143.0,144.0,145.0,146.0,147.0,148.0,149.0,150.0,151.0,152.0,153.0,154.0,155.0,156.0,157.0,158.0,159.0,160.0,161.0,162.0,163.0,164.0,165.0,166.0,167.0,168.0,169.0,170.0,171.0,172.0,173.0,174.0,175.0,176.0,177.0,178.0,179.0,180.0,181.0,182.0,183.0,184.0,185.0,186.0,187.0,188.0,189.0,190.0,191.0,192.0,193.0,194.0,195.0,196.0,197.0,198.0,199.0,200.0,201.0,202.0,203.0,204.0,205.0,206.0,207.0,208.0,209.0,210.0,211.0,212.0,213.0,214.0,215.0,216.0,217.0,218.0,219.0,220.0,221.0,222.0,223.0,224.0,225.0,226.0,227.0,228.0,229.0,230.0,231.0,232.0,233.0,234.0,235.0,236.0,237.0,238.0,239.0,240.0,241.0,242.0,243.0,244.0,245.0,246.0,247.0,248.0,249.0,250.0,251.0,252.0,253.0,254.0,255.0,256.0,257.0,258.0,259.0,260.0,261.0,262.0,263.0,264.0,265.0,266.0,267.0,268.0,269.0,270.0,271.0,272.0,273.0,274.0,275.0,276.0,277.0,278.0,279.0,280.0,281.0,282.0,283.0,284.0,285.0,286.0,287.0,288.0,289.0,290.0,291.0,292.0,293.0,294.0,295.0,296.0,297.0,298.0,299.0,300.0,301.0,302.0,303.0,304.0,305.0,306.0,307.0,308.0,309.0,310.0,311.0,312.0,313.0,314.0,315.0,316.0,317.0,318.0,319.0,320.0,321.0,322.0,323.0,324.0,325.0,326.0,327.0,328.0,329.0,330.0,331.0,332.0,333.0,334.0,335.0,336.0,337.0,338.0,339.0,340.0,341.0,342.0,343.0,344.0,345.0,346.0,347.0,348.0,349.0,350.0,351.0,352.0,353.0,354.0,355.0,356.0,357.0,358.0,359.0,360.0,361.0,362.0,363.0,364.0,365.0,366.0,367.0,368.0,369.0,370.0,371.0,372.0,373.0,374.0,375.0,376.0,377.0,378.0,379.0,380.0,381.0,382.0,383.0,384.0,385.0,386.0,387.0,388.0,389.0,390.0,391.0,392.0,393.0,394.0,395.0,396.0,397.0,398.0,399.0,400.0,401.0,402.0,403.0,404.0,405.0,406.0,407.0,408.0,409.0,410.0,411.0,412.0,413.0,414.0,415.0,416.0,417.0,418.0,419.0,420.0,421.0,422.0,423.0,424.0,425.0,426.0,427.0,428.0,429.0,430.0,431.0,432.0,433.0,434.0,435.0,436.0,437.0,438.0,439.0,440.0,441.0,442.0,443.0,444.0,445.0,446.0,447.0,448.0,449.0,450.0,451.0,452.0,453.0,454.0,455.0,456.0,457.0,458.0,459.0,460.0,461.0,462.0,463.0,464.0,465.0,466.0,467.0,468.0,469.0,470.0,471.0,472.0,473.0,474.0,475.0,476.0,477.0,478.0,479.0,480.0,481.0,482.0,483.0,484.0,485.0,486.0,487.0,488.0,489.0,490.0,491.0,492.0,493.0,494.0,495.0,496.0,497.0,498.0,499.0],\"y\":[537.5031331380209,256.9110107421875,123.38924153645833,59.83271280924479,29.561134338378906,15.124959309895834,8.223126729329428,4.906610488891602,3.296764055887858,2.499850273132324,2.090668201446533,1.8669055302937825,1.7322899500528972,1.6409924825032551,1.5711833635965984,1.512447675069173,1.4598064422607422,1.4108572006225586,1.3644399642944336,1.3199723561604817,1.277156670888265,1.2358264128367107,1.1958775520324707,1.157241423924764,1.119864781697591,1.0836997826894124,1.0487059752146404,1.0148435433705647,0.9820732275644938,0.9503631591796875,0.9196764628092448,0.88998015721639,0.861242930094401,0.833433469136556,0.8065232435862223,0.7804811000823975,0.7552791436513265,0.7308921813964844,0.7072917620340983,0.684454600016276,0.6623534361521403,0.6409660975138346,0.6202692985534668,0.6002407471338908,0.5808600187301636,0.5621035893758138,0.5439541339874268,0.5263904730478922,0.509393056233724,0.4929442008336385,0.47702693939208984,0.4616249004999797,0.44671897093455,0.4322946071624756,0.4183359543482463,0.4048275550206502,0.39175621668497723,0.37910739580790204,0.3668663501739502,0.355020006497701,0.34355660279591876,0.33246326446533203,0.32172834873199463,0.31134013334910077,0.301286776860555,0.291558305422465,0.28214432795842487,0.27303407589594525,0.2642178138097127,0.255686620871226,0.24743052323659262,0.2394402027130127,0.23170934120814005,0.2242274284362793,0.21698760986328125,0.20998084545135498,0.2032010555267334,0.19663971662521362,0.19029027223587036,0.18414554993311563,0.1782005031903585,0.17244603236516318,0.1668778657913208,0.16148880124092102,0.1562748352686564,0.15122913320859274,0.1463458240032196,0.14162057638168335,0.13704755902290344,0.13262263933817545,0.1283405919869741,0.12419591347376506,0.12018601099650066,0.11630502343177795,0.11254947384198506,0.10891547799110413,0.10539911190668742,0.10199546813964844,0.0987021525700887,0.09551503260930379,0.09243073066075642,0.08944641550381978,0.08655814329783122,0.08376322189966838,0.08105840782324474,0.07844105362892151,0.07590847214063008,0.07345712184906006,0.07108539342880249,0.06879004836082458,0.06656887630621593,0.06441910068194072,0.06233903765678406,0.06032658119996389,0.05837830901145935,0.05649335185686747,0.05466918150583903,0.05290426810582479,0.05119560658931732,0.04954259594281515,0.04794283211231232,0.046394904454549156,0.044896950324376426,0.043447320659955345,0.04204414288202921,0.040686661998430886,0.03937298556168874,0.038101578752199806,0.03687125941117605,0.035680929819742836,0.03452873726685842,0.03341365108887354,0.032334829370180763,0.03129076957702637,0.03028045843044917,0.029302542408307392,0.028356529772281647,0.027440987527370453,0.026554681360721588,0.02569746474424998,0.024867561956246693,0.02406470477581024,0.023287539680798847,0.022535490492979687,0.021807958682378132,0.02110389620065689,0.020422452439864475,0.019762910902500153,0.019124838213125866,0.018507201224565506,0.017909708122412365,0.017331376671791077,0.016771686573823292,0.016230318695306778,0.015706203877925873,0.01519890253742536,0.014708212266365686,0.014233384281396866,0.013773694634437561,0.013329043984413147,0.012898460030555725,0.012482070674498877,0.012079143275817236,0.011689084271589914,0.011311601847410202,0.010946265111366907,0.010592872897783915,0.01025081736346086,0.009919915969173113,0.00959943855802218,0.00928963782886664,0.00898963026702404,0.008699351300795874,0.008418543885151545,0.008146545539299646,0.00788361889620622,0.007628996546069781,0.007382755478223165,0.0071443064759174986,0.006913663198550542,0.006690348808964093,0.006474376345674197,0.006265355894962947,0.006062960252165794,0.005867229774594307,0.005677796900272369,0.005494413897395134,0.005317082007726033,0.005145297696193059,0.004979250952601433,0.004818359079460303,0.004662843731542428,0.004512282088398933,0.004366598402460416,0.004225599889953931,0.004089184105396271,0.0039571551606059074,0.00382931778828303,0.0037056971341371536,0.003586051364739736,0.003470209427177906,0.003358233720064163,0.003249817838271459,0.003144866476456324,0.0030432958155870438,0.0029450741906960807,0.0028499110291401544,0.0027579283341765404,0.002668901657064756,0.002582698129117489,0.0024993011417488256,0.002418595210959514,0.0023405148337284722,0.0022648892675836882,0.0021918032628794513,0.0021210567404826484,0.0020524986709157624,0.0019862555588285127,0.001922123444577058,0.0018600734571615856,0.0018000405592223008,0.0017418131853143375,0.0016856205960114796,0.0016311812214553356,0.0015785267266134422,0.0015275777938465278,0.001478215369085471,0.0014305049553513527,0.0013843011111021042,0.0013395648760100205,0.0012963619859268267,0.001254487472275893,0.0012139718358715375,0.0011748087126761675,0.0011368417957176764,0.001100168563425541,0.0010645975514004629,0.001030220262085398,9.969521003464858E-4,9.648205401996771E-4,9.336536750197411E-4,9.034816175699234E-4,8.743089468528827E-4,8.461096634467443E-4,8.187768204758564E-4,7.923209729293982E-4,7.667394820600748E-4,7.419353350996971E-4,7.179887033998966E-4,6.948310571412245E-4,6.723895203322172E-4,6.506750748182336E-4,6.296650972217321E-4,6.093434834231933E-4,5.896649478624264E-4,5.706453230232E-4,5.521934945136309E-4,5.343639835094413E-4,5.170969137301048E-4,5.003979119161764E-4,4.842769509802262E-4,4.6861451119184494E-4,4.5349961146712303E-4,4.3886154890060425E-4,4.246620616565148E-4,4.109759659816821E-4,3.977061714977026E-4,3.8484887530406314E-4,3.7242545901487273E-4,3.6039436236023903E-4,3.4875601219634217E-4,3.374917820716898E-4,3.2659946009516716E-4,3.160775328675906E-4,3.0589390856524307E-4,2.959816677806278E-4,2.864230385360618E-4,2.7718164104347426E-4,2.6823496834064525E-4,2.59572290815413E-4,2.511902906311055E-4,2.4309152892480293E-4,2.3521601300065717E-4,2.2763873372847834E-4,2.2030031929413477E-4,2.1317655531068644E-4,2.0628203249846896E-4,1.9962973116586605E-4,1.931680211176475E-4,1.8693885067477822E-4,1.8092683361222348E-4,1.750631684747835E-4,1.6941388215248784E-4,1.6394288589557013E-4,1.586328629249086E-4,1.5352328773587942E-4,1.4856578006098667E-4,1.4376720840421817E-4,1.3912288704887033E-4,1.3462906160081425E-4,1.3029270727808276E-4,1.2607904500328004E-4,1.2201565550640225E-4,1.1807659757323563E-4,1.1426257939698796E-4,1.1056591756641865E-4,1.069966626043121E-4,1.035484407717983E-4,1.0021290897081296E-4,9.69656005812188E-5,9.383378589215378E-5,9.080199136709173E-5,8.787961754327019E-5,8.5029654049625E-5,8.229050824108224E-5,7.962770663046588E-5,7.706133571142952E-5,7.456872845068574E-5,7.216011484464009E-5,6.983672695544858E-5,6.757119748120506E-5,6.539238286980738E-5,6.328390251534681E-5,6.124288969052334E-5,5.927571328356862E-5,5.735214896655331E-5,5.550524413896104E-5,5.371390337434908E-5,5.198198293025295E-5,5.030218744650483E-5,4.866603800716499E-5,4.70983407770594E-5,4.558595052609841E-5,4.410015632553647E-5,4.268545308150351E-5,4.13086333234484E-5,3.996913922795405E-5,3.867766645271331E-5,3.742720097458611E-5,3.622170576515297E-5,3.505598579067737E-5,3.392666500682632E-5,3.283050318714231E-5,3.176429405963669E-5,3.073382443593194E-5,2.974229088673989E-5,2.8788987644171964E-5,2.7858635197238375E-5,2.6955145585816354E-5,2.6087274212234963E-5,2.524951317658027E-5,2.4431455434144784E-5,2.3638441537817318E-5,2.288132479103903E-5,2.2144022902163368E-5,2.142724406439811E-5,2.073375314163665E-5,2.0068541440802317E-5,1.941643010165232E-5,1.8788160862944398E-5,1.8179584003519267E-5,1.7594132562711213E-5,1.7031177170186613E-5,1.6477806639159098E-5,1.5946500449596595E-5,1.5432232127447303E-5,1.4934590581106022E-5,1.4450174300388122E-5,1.3980850781081244E-5,1.3531185686588287E-5,1.3099785671026135E-5,1.2672706361627206E-5,1.22633888774241E-5,1.1868356523336843E-5,1.1483685132892182E-5,1.11125458109503E-5,1.0751162335509434E-5,1.0408488985073442E-5,1.0069336591792913E-5,9.74475490996459E-6,9.435212632524781E-6,9.131104282763166E-6,8.835292343671123E-6,8.547930823018154E-6,8.273891580756754E-6,8.007578192822015E-6,7.748621404365016E-6,7.494528593573098E-6,7.255002249924776E-6,7.022520245906587E-6,6.796726059595433E-6,6.572980661682474E-6,6.3601249469987424E-6,6.158174073789269E-6,5.955454980721697E-6,5.76552702113986E-6,5.576906308609371E-6,5.398254870669916E-6,5.222768474292631E-6,5.0570430782196736E-6,4.894154699286446E-6,4.738386148043598E-6,4.581691731194344E-6,4.43359416143115E-6,4.290319945236358E-6,4.151370982678297E-6,4.020760873875891E-6,3.890756791709767E-6,3.7630276589576774E-6,3.6430510590435006E-6,3.5269761913999296E-6,3.4096707774248594E-6,3.299625253324242E-6,3.1947238312568516E-6,3.090451476358188E-6,2.9896509659010917E-6,2.8953424286252507E-6,2.801231554864595E-6,2.708845083058501E-6,2.6228417482343502E-6,2.538395771504535E-6,2.4569696203495064E-6,2.3770353436702862E-6,2.3000632912347405E-6,2.224242659091639E-6,2.1542306664438606E-6,2.085338261773965E-6,2.016501033115977E-6,1.952731357353817E-6,1.889053843721437E-6,1.8275333483567617E-6,1.7685695941812203E-6,1.7118845789809711E-6,1.6562225937377661E-6,1.6027967528013203E-6,1.5504753415977273E-6,1.50002930846919E-6,1.452974781083564E-6,1.4055620643678897E-6,1.3611559855538264E-6,1.3155740816728212E-6,1.2738843603680532E-6,1.2319875774361815E-6,1.1928301925460498E-6,1.1534226966129306E-6,1.1167624810089667E-6,1.0809248275715315E-6,1.0463954822625965E-6,1.0117464626091532E-6,9.785677927235763E-7,9.470278049169186E-7,9.168634278466925E-7,8.873242525927102E-7,8.592351150582545E-7,8.307133612106554E-7,8.036063263716642E-7,7.779011260330057E-7,7.533284739717298E-7,7.28447048459202E-7,7.048577875442182E-7,6.824591309850803E-7,6.597209297372805E-7,6.389177542587277E-7,6.184770124188314E-7,5.984240184867909E-7,5.787302749619508E-7,5.614612443120374E-7,5.425263225333765E-7,5.25157247466268E-7,5.082553495109702E-7,4.915540709286385E-7,4.7587430647884804E-7,4.5991578190296423E-7,4.4475261044378084E-7,4.3050757388603717E-7,4.1711738655673497E-7,4.040286209298453E-7,3.9119671176498133E-7,3.785263137009072E-7,3.655451716137274E-7,3.5336567331493523E-7,3.424844787029239E-7,3.307626078215738E-7,3.20402856838579E-7,3.106461008428596E-7,3.0056836900863953E-7,2.9065752945219475E-7,2.8146498228428146E-7,2.724204174834692E-7,2.6356133275839966E-7,2.548662602445499E-7,2.4722711107945844E-7,2.3882726433536544E-7,2.314506559741858E-7,2.2337616201184574E-7,2.1632803282045643E-7,2.097881595849079E-7,2.0217097092730304E-7,1.958815876908678E-7,1.8972734020887097E-7]};\n",
       "\n",
       "  var data = [data0];\n",
       "  var layout = {\"title\":\"loss by time\"};\n",
       "\n",
       "  Plotly.plot('plot-444791572', data, layout);\n",
       "})();\n",
       "});\n",
       "      "
      ]
     },
     "metadata": {},
     "output_type": "display_data"
    },
    {
     "data": {
      "text/plain": [
       "\u001b[36mres15\u001b[39m: \u001b[32mString\u001b[39m = \u001b[32m\"plot-444791572\"\u001b[39m"
      ]
     },
     "execution_count": 16,
     "metadata": {},
     "output_type": "execute_result"
    }
   ],
   "source": [
    "Scatter(lossByTime.indices, lossByTime).plot(title = \"loss by time\")"
   ]
  },
  {
   "cell_type": "markdown",
   "metadata": {},
   "source": [
    "After these iterations, the loss should be close to zero."
   ]
  },
  {
   "cell_type": "markdown",
   "metadata": {},
   "source": [
    "## Test the trained robot"
   ]
  },
  {
   "cell_type": "code",
   "execution_count": 17,
   "metadata": {},
   "outputs": [
    {
     "data": {
      "text/plain": [
       "\u001b[36mTestQuestions\u001b[39m: \u001b[32mINDArray\u001b[39m = [3.00, 6.00, 9.00]"
      ]
     },
     "execution_count": 17,
     "metadata": {},
     "output_type": "execute_result"
    }
   ],
   "source": [
    "val TestQuestions: INDArray = {\n",
    "  import org.nd4s.Implicits._\n",
    "  Array(Array(3, 6, 9)).toNDArray\n",
    "}"
   ]
  },
  {
   "cell_type": "code",
   "execution_count": 18,
   "metadata": {
    "scrolled": true
   },
   "outputs": [
    {
     "data": {
      "text/plain": [
       "\u001b[36mres17\u001b[39m: \u001b[32mINDArray\u001b[39m = 12.00"
      ]
     },
     "execution_count": 18,
     "metadata": {},
     "output_type": "execute_result"
    }
   ],
   "source": [
    "Await.result(iqTestRobot(TestQuestions).predict.toScalaFuture, Duration.Inf)"
   ]
  },
  {
   "cell_type": "markdown",
   "metadata": {},
   "source": [
    "The result should be close to `12`."
   ]
  },
  {
   "cell_type": "markdown",
   "metadata": {},
   "source": [
    "You may also see the value of weights in the trained neural network:"
   ]
  },
  {
   "cell_type": "code",
   "execution_count": 19,
   "metadata": {},
   "outputs": [
    {
     "data": {
      "text/plain": [
       "\u001b[36mweightData\u001b[39m: \u001b[32mINDArray\u001b[39m = [-0.63, 0.27, 1.37]"
      ]
     },
     "execution_count": 19,
     "metadata": {},
     "output_type": "execute_result"
    }
   ],
   "source": [
    "val weightData: INDArray = robotWeight.data"
   ]
  },
  {
   "cell_type": "markdown",
   "metadata": {},
   "source": [
    "## Conclusion"
   ]
  },
  {
   "cell_type": "markdown",
   "metadata": {},
   "source": [
    "In this article, we have created a IQ test robot with the help of DeepLearning.scala.\n",
    "\n",
    "The model of robot is linear regression with a square loss, which consists of some `INDArryWeight`s and `INDArrayLayer`s.\n",
    "\n",
    "After many iterations of `train`ing, the robot finally learnt the pattern of arithmetic progression."
   ]
  }
 ],
 "metadata": {
  "kernelspec": {
   "display_name": "Scala",
   "language": "scala",
   "name": "scala"
  },
  "language_info": {
   "codemirror_mode": "text/x-scala",
   "file_extension": ".scala",
   "mimetype": "text/x-scala",
   "name": "scala211",
   "nbconvert_exporter": "script",
   "pygments_lexer": "scala",
   "version": "2.11.11"
  }
 },
 "nbformat": 4,
 "nbformat_minor": 2
}
